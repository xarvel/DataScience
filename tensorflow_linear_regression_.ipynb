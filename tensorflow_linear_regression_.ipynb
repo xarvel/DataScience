{
  "cells": [
    {
      "cell_type": "markdown",
      "metadata": {
        "id": "view-in-github",
        "colab_type": "text"
      },
      "source": [
        "<a href=\"https://colab.research.google.com/github/xarvel/DataScience/blob/master/tensorflow_linear_regression_.ipynb\" target=\"_parent\"><img src=\"https://colab.research.google.com/assets/colab-badge.svg\" alt=\"Open In Colab\"/></a>"
      ]
    },
    {
      "cell_type": "markdown",
      "source": [
        "# Tensorflow linear regression"
      ],
      "metadata": {
        "id": "O_JGkBb6Vskt"
      }
    },
    {
      "cell_type": "code",
      "execution_count": 14,
      "metadata": {
        "colab": {
          "base_uri": "https://localhost:8080/"
        },
        "id": "aNWLHDTkIBXU",
        "outputId": "34777d17-59c1-46a4-c106-d36cc0cd1ff6",
        "pycharm": {
          "name": "#%%\n"
        }
      },
      "outputs": [
        {
          "output_type": "stream",
          "name": "stdout",
          "text": [
            "2.8.2\n"
          ]
        }
      ],
      "source": [
        "import numpy as np\n",
        "import matplotlib.pyplot as plt\n",
        "\n",
        "import tensorflow as tf\n",
        "from tensorflow.keras.layers import Dense\n",
        "from tensorflow.keras.models import Sequential\n",
        "from tensorflow.keras.losses import MeanSquaredError\n",
        "from tensorflow.keras.utils import plot_model\n",
        "\n",
        "print(tf.__version__)"
      ]
    },
    {
      "cell_type": "markdown",
      "metadata": {
        "id": "pW0NyRRZsG0j",
        "pycharm": {
          "name": "#%% md\n"
        }
      },
      "source": [
        "**np.linspace** - Return evenly spaced numbers over a specified interval."
      ]
    },
    {
      "cell_type": "code",
      "execution_count": 15,
      "metadata": {
        "id": "pgHU8_d9I6a0",
        "pycharm": {
          "name": "#%%\n"
        }
      },
      "outputs": [],
      "source": [
        "train_data_X = np.linspace(-1, 1, 50)"
      ]
    },
    {
      "cell_type": "code",
      "execution_count": 16,
      "metadata": {
        "colab": {
          "base_uri": "https://localhost:8080/"
        },
        "id": "8EeeOwh-sA5r",
        "pycharm": {
          "name": "#%%\n"
        },
        "outputId": "eec18cde-a75f-4612-e0f7-c7b159cd1b4f"
      },
      "outputs": [
        {
          "output_type": "execute_result",
          "data": {
            "text/plain": [
              "array([-1.        , -0.95918367, -0.91836735, -0.87755102, -0.83673469,\n",
              "       -0.79591837, -0.75510204, -0.71428571, -0.67346939, -0.63265306,\n",
              "       -0.59183673, -0.55102041, -0.51020408, -0.46938776, -0.42857143,\n",
              "       -0.3877551 , -0.34693878, -0.30612245, -0.26530612, -0.2244898 ,\n",
              "       -0.18367347, -0.14285714, -0.10204082, -0.06122449, -0.02040816,\n",
              "        0.02040816,  0.06122449,  0.10204082,  0.14285714,  0.18367347,\n",
              "        0.2244898 ,  0.26530612,  0.30612245,  0.34693878,  0.3877551 ,\n",
              "        0.42857143,  0.46938776,  0.51020408,  0.55102041,  0.59183673,\n",
              "        0.63265306,  0.67346939,  0.71428571,  0.75510204,  0.79591837,\n",
              "        0.83673469,  0.87755102,  0.91836735,  0.95918367,  1.        ])"
            ]
          },
          "metadata": {},
          "execution_count": 16
        }
      ],
      "source": [
        "train_data_X"
      ]
    },
    {
      "cell_type": "markdown",
      "metadata": {
        "id": "Y3gcuFMCkgtP",
        "pycharm": {
          "name": "#%% md\n"
        }
      },
      "source": [
        "**np.random.randn** - Return a sample (or samples) from the “standard normal” distribution."
      ]
    },
    {
      "cell_type": "code",
      "execution_count": 17,
      "metadata": {
        "id": "-lGKspJNcwCC",
        "pycharm": {
          "name": "#%%\n"
        }
      },
      "outputs": [],
      "source": [
        "train_data_Y = 4 * train_data_X + np.random.randn(50) * 0.44"
      ]
    },
    {
      "cell_type": "code",
      "execution_count": 18,
      "metadata": {
        "colab": {
          "base_uri": "https://localhost:8080/"
        },
        "id": "HwYyT0QZMAz2",
        "outputId": "4c3bc90f-4058-4afe-fff2-8ce6f55485b8",
        "pycharm": {
          "name": "#%%\n"
        }
      },
      "outputs": [
        {
          "output_type": "execute_result",
          "data": {
            "text/plain": [
              "array([-4.32278866, -3.95703539, -4.08276987, -4.205004  , -3.48429   ,\n",
              "       -2.65606957, -2.74978126, -2.75540874, -2.64589002, -2.99826475,\n",
              "       -2.6307503 , -2.09068075, -0.99185535, -2.78585651, -1.58304536,\n",
              "       -0.65907835, -2.55574583, -1.70125983, -1.52741994, -0.35456299,\n",
              "       -0.26004697, -0.62437537, -0.66907937, -0.4803734 , -0.15542298,\n",
              "       -0.70589843,  0.92693585,  0.45775431, -0.01526753,  0.1791765 ,\n",
              "        0.18344091,  0.6861964 ,  1.21748327,  0.73556012,  1.73014753,\n",
              "        2.179082  ,  2.86688095,  2.18226612,  1.29255997,  2.11820122,\n",
              "        2.78262471,  2.58073295,  2.49091181,  3.34572058,  3.32270661,\n",
              "        3.48399246,  3.40405014,  3.08483611,  3.61894896,  4.08082128])"
            ]
          },
          "metadata": {},
          "execution_count": 18
        }
      ],
      "source": [
        "train_data_Y"
      ]
    },
    {
      "cell_type": "code",
      "execution_count": 19,
      "metadata": {
        "colab": {
          "base_uri": "https://localhost:8080/",
          "height": 283
        },
        "id": "K3TUYzOzI7yc",
        "outputId": "a637196a-93b1-4f86-9361-68f9e29e3c5f",
        "pycharm": {
          "name": "#%%\n"
        }
      },
      "outputs": [
        {
          "output_type": "execute_result",
          "data": {
            "text/plain": [
              "<matplotlib.collections.PathCollection at 0x7ff718b4df50>"
            ]
          },
          "metadata": {},
          "execution_count": 19
        },
        {
          "output_type": "display_data",
          "data": {
            "text/plain": [
              "<Figure size 432x288 with 1 Axes>"
            ],
            "image/png": "[encoded data removed]"
          },
          "metadata": {
            "needs_background": "light"
          }
        }
      ],
      "source": [
        "plt.scatter(train_data_X, train_data_Y, label='data', c=('green'))"
      ]
    },
    {
      "cell_type": "code",
      "execution_count": 20,
      "metadata": {
        "colab": {
          "base_uri": "https://localhost:8080/",
          "height": 397
        },
        "id": "_4-E44TEI-As",
        "outputId": "aebf1d51-3c3f-47b3-9001-692f448629da",
        "pycharm": {
          "name": "#%%\n"
        }
      },
      "outputs": [
        {
          "output_type": "stream",
          "name": "stdout",
          "text": [
            "Model: \"sequential_1\"\n",
            "_________________________________________________________________\n",
            " Layer (type)                Output Shape              Param #   \n",
            "=================================================================\n",
            " Layer_1 (Dense)             (None, 1)                 2         \n",
            "                                                                 \n",
            "=================================================================\n",
            "Total params: 2\n",
            "Trainable params: 2\n",
            "Non-trainable params: 0\n",
            "_________________________________________________________________\n"
          ]
        },
        {
          "output_type": "execute_result",
          "data": {
            "image/png": "[encoded data removed]",
            "text/plain": [
              "<IPython.core.display.Image object>"
            ]
          },
          "metadata": {},
          "execution_count": 20
        }
      ],
      "source": [
        "model = Sequential()\n",
        "model.add(Dense(input_dim=1, name='Layer_1', units=1, kernel_initializer='uniform', activation='linear'))\n",
        "model.summary()\n",
        "\n",
        "plot_model(model, to_file='model.png', show_shapes = True)"
      ]
    },
    {
      "cell_type": "code",
      "execution_count": 21,
      "metadata": {
        "colab": {
          "base_uri": "https://localhost:8080/"
        },
        "id": "GAI5KrLqJfSr",
        "outputId": "1ab4a2f2-8550-448b-9c32-22266cc48e07",
        "pycharm": {
          "name": "#%%\n"
        }
      },
      "outputs": [
        {
          "output_type": "execute_result",
          "data": {
            "text/plain": [
              "[array([[-0.02207339]], dtype=float32), array([0.], dtype=float32)]"
            ]
          },
          "metadata": {},
          "execution_count": 21
        }
      ],
      "source": [
        "weights = model.layers[0].get_weights()\n",
        "weights"
      ]
    },
    {
      "cell_type": "code",
      "execution_count": 22,
      "metadata": {
        "id": "7MowSM70Jzk7",
        "pycharm": {
          "name": "#%%\n"
        }
      },
      "outputs": [],
      "source": [
        "model.compile(optimizer='sgd', loss=MeanSquaredError())"
      ]
    },
    {
      "cell_type": "code",
      "execution_count": 23,
      "metadata": {
        "colab": {
          "base_uri": "https://localhost:8080/"
        },
        "id": "RChjHN9BJ-zb",
        "outputId": "4c3d226a-5ac8-449f-a9db-c0caf0372ed8",
        "pycharm": {
          "name": "#%%\n"
        }
      },
      "outputs": [
        {
          "output_type": "execute_result",
          "data": {
            "text/plain": [
              "<keras.callbacks.History at 0x7ff7172c50d0>"
            ]
          },
          "metadata": {},
          "execution_count": 23
        }
      ],
      "source": [
        "model.fit(train_data_X, train_data_Y, epochs=100, verbose=0)"
      ]
    },
    {
      "cell_type": "code",
      "execution_count": 24,
      "metadata": {
        "id": "xs9XAjsqKZBT",
        "pycharm": {
          "name": "#%%\n"
        }
      },
      "outputs": [],
      "source": [
        "result = model.predict(train_data_X)"
      ]
    },
    {
      "cell_type": "code",
      "execution_count": 25,
      "metadata": {
        "colab": {
          "base_uri": "https://localhost:8080/",
          "height": 265
        },
        "id": "rE5FKHWDKjgs",
        "outputId": "bac7d4a1-8be7-4689-c338-3e114f8388ae",
        "pycharm": {
          "name": "#%%\n"
        }
      },
      "outputs": [
        {
          "output_type": "display_data",
          "data": {
            "text/plain": [
              "<Figure size 432x288 with 1 Axes>"
            ],
            "image/png": "[encoded data removed]"
          },
          "metadata": {
            "needs_background": "light"
          }
        }
      ],
      "source": [
        "plt.scatter(train_data_X, train_data_Y, label='data', color=['green'])\n",
        "plt.plot(train_data_X,result, label='predictions')\n",
        "plt.legend()\n",
        "plt.show()"
      ]
    },
    {
      "cell_type": "code",
      "execution_count": 26,
      "metadata": {
        "colab": {
          "base_uri": "https://localhost:8080/"
        },
        "id": "bFn-6IpiaAuy",
        "outputId": "ec73a580-058d-4f7d-c259-ab0a7aea92ed",
        "pycharm": {
          "name": "#%%\n"
        }
      },
      "outputs": [
        {
          "output_type": "execute_result",
          "data": {
            "text/plain": [
              "[array([[3.0096147]], dtype=float32), array([-0.0898011], dtype=float32)]"
            ]
          },
          "metadata": {},
          "execution_count": 26
        }
      ],
      "source": [
        "weights = model.layers[0].get_weights()\n",
        "weights"
      ]
    }
  ],
  "metadata": {
    "colab": {
      "collapsed_sections": [],
      "name": "tensorflow-linear-regression .ipynb",
      "provenance": [],
      "include_colab_link": true
    },
    "kernelspec": {
      "display_name": "Python 3",
      "language": "python",
      "name": "python3"
    },
    "language_info": {
      "codemirror_mode": {
        "name": "ipython",
        "version": 3
      },
      "file_extension": ".py",
      "mimetype": "text/x-python",
      "name": "python",
      "nbconvert_exporter": "python",
      "pygments_lexer": "ipython3",
      "version": "3.8.6"
    }
  },
  "nbformat": 4,
  "nbformat_minor": 0
}