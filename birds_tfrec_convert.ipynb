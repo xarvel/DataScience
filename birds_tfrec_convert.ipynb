{
  "nbformat": 4,
  "nbformat_minor": 0,
  "metadata": {
    "colab": {
      "provenance": [],
      "machine_shape": "hm",
      "authorship_tag": "ABX9TyP7kdgB4RzKGhcC6hhO3Bo1",
      "include_colab_link": true
    },
    "kernelspec": {
      "name": "python3",
      "display_name": "Python 3"
    },
    "language_info": {
      "name": "python"
    },
    "accelerator": "GPU",
    "gpuClass": "premium"
  },
  "cells": [
    {
      "cell_type": "markdown",
      "metadata": {
        "id": "view-in-github",
        "colab_type": "text"
      },
      "source": [
        "<a href=\"https://colab.research.google.com/github/xarvel/DataScience/blob/master/birds_tfrec_convert.ipynb\" target=\"_parent\"><img src=\"https://colab.research.google.com/assets/colab-badge.svg\" alt=\"Open In Colab\"/></a>"
      ]
    },
    {
      "cell_type": "code",
      "execution_count": 1,
      "metadata": {
        "colab": {
          "base_uri": "https://localhost:8080/"
        },
        "id": "i_p0bnTquMiY",
        "outputId": "30149592-5c7e-4729-e621-5012c3b31590"
      },
      "outputs": [
        {
          "output_type": "stream",
          "name": "stdout",
          "text": [
            "--2022-11-22 16:53:48--  https://www.dropbox.com/s/xkfeugecrkqjpks/100-bird-species.zip?dl=0\n",
            "Resolving www.dropbox.com (www.dropbox.com)... 162.125.81.18, 2620:100:6031:18::a27d:5112\n",
            "Connecting to www.dropbox.com (www.dropbox.com)|162.125.81.18|:443... connected.\n",
            "HTTP request sent, awaiting response... 302 Found\n",
            "Location: /s/raw/xkfeugecrkqjpks/100-bird-species.zip [following]\n",
            "--2022-11-22 16:53:49--  https://www.dropbox.com/s/raw/xkfeugecrkqjpks/100-bird-species.zip\n",
            "Reusing existing connection to www.dropbox.com:443.\n",
            "HTTP request sent, awaiting response... 302 Found\n",
            "Location: https://uc541eb8edb3ef0b8f328915b79c.dl.dropboxusercontent.com/cd/0/inline/BxONGeXOMqKPlrTkD1HTtxuNBKNg63gZ4nMqxKysWbwqic7JYc304ZA_O5UU5jhNdmdcFw8xnEG9_Saxix3c4il8feX34ttixyYqN1GvthIKuysTjT_MWlBo45DfzgevhSIABML9-gJ28uKmJiBVrAOmaijiYqAtzl1JFUnBkAItWA/file# [following]\n",
            "--2022-11-22 16:53:49--  https://uc541eb8edb3ef0b8f328915b79c.dl.dropboxusercontent.com/cd/0/inline/BxONGeXOMqKPlrTkD1HTtxuNBKNg63gZ4nMqxKysWbwqic7JYc304ZA_O5UU5jhNdmdcFw8xnEG9_Saxix3c4il8feX34ttixyYqN1GvthIKuysTjT_MWlBo45DfzgevhSIABML9-gJ28uKmJiBVrAOmaijiYqAtzl1JFUnBkAItWA/file\n",
            "Resolving uc541eb8edb3ef0b8f328915b79c.dl.dropboxusercontent.com (uc541eb8edb3ef0b8f328915b79c.dl.dropboxusercontent.com)... 162.125.80.15, 2620:100:6022:15::a27d:420f\n",
            "Connecting to uc541eb8edb3ef0b8f328915b79c.dl.dropboxusercontent.com (uc541eb8edb3ef0b8f328915b79c.dl.dropboxusercontent.com)|162.125.80.15|:443... connected.\n",
            "HTTP request sent, awaiting response... 302 Found\n",
            "Location: /cd/0/inline2/BxNmkUoYxsyjS9Kbv1oYTgw-PJ4G5tf3QxxeCnN6NB6P2S28TzOZX9Qu1w8uU-Db1HMrjdvJqnsBHAa5BUIkAJDU9dCjBy2EX-6FO0QtYpy9jvgYDXwzIgbbc3P5chNLDxsazpL7VkWDNsO-IT5oQxtKkv51cfDql2Q1eOGv0w8sd3ucwISuE7QqkUEqlIQXMymECekfjChRDETuQFdccw_x41LBRAPYVj6UCseOEswgF0Bqt1u8uyxv74AoWB5EJ0yeEkwYhWS1PPPqjv4OVco_2hPiaEyd1MqiUFrqFSPNd2Vl6VtSdY7LJXfxwtRvIj8Wc_GTQXhJrCImo8G59kOQcpt0Y58GUYPkF8snY2H0kOond9lER3azTGi2PH-nsCFw_RGp-JYEwDAS5sRbYU4z8HvHZ9e2ZsWf-SMC2tMHQg/file [following]\n",
            "--2022-11-22 16:53:50--  https://uc541eb8edb3ef0b8f328915b79c.dl.dropboxusercontent.com/cd/0/inline2/BxNmkUoYxsyjS9Kbv1oYTgw-PJ4G5tf3QxxeCnN6NB6P2S28TzOZX9Qu1w8uU-Db1HMrjdvJqnsBHAa5BUIkAJDU9dCjBy2EX-6FO0QtYpy9jvgYDXwzIgbbc3P5chNLDxsazpL7VkWDNsO-IT5oQxtKkv51cfDql2Q1eOGv0w8sd3ucwISuE7QqkUEqlIQXMymECekfjChRDETuQFdccw_x41LBRAPYVj6UCseOEswgF0Bqt1u8uyxv74AoWB5EJ0yeEkwYhWS1PPPqjv4OVco_2hPiaEyd1MqiUFrqFSPNd2Vl6VtSdY7LJXfxwtRvIj8Wc_GTQXhJrCImo8G59kOQcpt0Y58GUYPkF8snY2H0kOond9lER3azTGi2PH-nsCFw_RGp-JYEwDAS5sRbYU4z8HvHZ9e2ZsWf-SMC2tMHQg/file\n",
            "Reusing existing connection to uc541eb8edb3ef0b8f328915b79c.dl.dropboxusercontent.com:443.\n",
            "HTTP request sent, awaiting response... 200 OK\n",
            "Length: 351465333 (335M) [application/zip]\n",
            "Saving to: ‘dataset.zip’\n",
            "\n",
            "dataset.zip         100%[===================>] 335.18M  15.8MB/s    in 23s     \n",
            "\n",
            "2022-11-22 16:54:13 (14.7 MB/s) - ‘dataset.zip’ saved [351465333/351465333]\n",
            "\n"
          ]
        }
      ],
      "source": [
        "!wget -O dataset.zip https://www.dropbox.com/s/xkfeugecrkqjpks/100-bird-species.zip?dl=0\n",
        "!unzip -q dataset.zip -d dataset"
      ]
    },
    {
      "cell_type": "code",
      "source": [
        "import tensorflow as tf\n",
        "from tensorflow.keras.utils import to_categorical\n",
        "\n",
        "import pathlib\n",
        "import numpy as np\n",
        "\n",
        "import os\n",
        "\n",
        "dataset_path = 'dataset';\n",
        "\n",
        "text_labels = sorted([name for name in os.listdir(dataset_path)])\n",
        "\n",
        "train_data_root = pathlib.Path(dataset_path)\n",
        "train_images_paths = [str(path) for path in list(train_data_root.glob('*/*.jpg'))]\n",
        "train_images_text_labels = [pathlib.Path(path).parent.name for path in train_images_paths]\n",
        "train_images_numerical_labels = [text_labels.index(text_label) for text_label in train_images_text_labels]\n",
        "train_images_onehot_labels = [to_categorical(text_labels.index(text_label), len(text_labels), dtype='int64') for text_label in train_images_text_labels]"
      ],
      "metadata": {
        "id": "PX7wqGv-KS4W"
      },
      "execution_count": 2,
      "outputs": []
    },
    {
      "cell_type": "code",
      "source": [
        "images_raw_ds =  tf.data.Dataset.from_tensor_slices(train_images_paths).map(tf.io.read_file)\n",
        "images_ds = images_raw_ds.map(lambda image: tf.image.decode_jpeg(image, channels=3)).prefetch(1000)\n",
        "\n",
        "text_labels_ds = tf.data.Dataset.from_tensor_slices(train_images_text_labels)\n",
        "numerical_labels_ds = tf.data.Dataset.from_tensor_slices(train_images_numerical_labels)\n",
        "onehot_labels_ds = tf.data.Dataset.from_tensor_slices(train_images_onehot_labels)\n",
        "dataset = tf.data.Dataset.zip((images_ds, text_labels_ds, onehot_labels_ds, numerical_labels_ds)) "
      ],
      "metadata": {
        "id": "1aRvyqtQMIBM"
      },
      "execution_count": 3,
      "outputs": []
    },
    {
      "cell_type": "code",
      "source": [
        "def _bytes_feature(value):\n",
        "  if isinstance(value, type(tf.constant(0))):\n",
        "    value = value.numpy()\n",
        "  return tf.train.Feature(bytes_list=tf.train.BytesList(value=[value]))\n",
        "\n",
        "def _int64_feature(value):\n",
        "  return tf.train.Feature(int64_list=tf.train.Int64List(value=[value]))\n",
        "\n",
        "def _float_feature(value):\n",
        "  \"\"\"Returns a float_list from a float / double.\"\"\"\n",
        "  return tf.train.Feature(float_list=tf.train.FloatList(value=[value]))\n",
        "\n",
        "def serialize_train_example(image, label_text, label_onehot, label_number):\n",
        "  image_raw = tf.image.encode_jpeg(image)\n",
        "  \n",
        "  feature = {\n",
        "    'image': _bytes_feature(image_raw),\n",
        "    'height': _int64_feature(image.shape[0]),\n",
        "    'width': _int64_feature(image.shape[1]),\n",
        "    'channels': _int64_feature(image.shape[2]),\n",
        "    'label_text': _bytes_feature(label_text),\n",
        "    'label_onehot': tf.train.Feature(int64_list=tf.train.Int64List(value=label_onehot)),\n",
        "    'label_number': _int64_feature(label_number),\n",
        "  }\n",
        "\n",
        "  example_proto = tf.train.Example(features=tf.train.Features(feature=feature))\n",
        "  return example_proto.SerializeToString()\n",
        "\n",
        "def tf_serialize_test_example(image, label_text, label_one_hot, label_number):\n",
        "  tf_string = tf.py_function(\n",
        "    serialize_train_example,\n",
        "    (image, label_text, label_one_hot, label_number), \n",
        "    tf.string)     \n",
        "  return tf.reshape(tf_string, ()) \n",
        "\n",
        "def save_tf_record(dataset, filename):\n",
        "  serialized_dataset = dataset.map(tf_serialize_test_example)\n",
        "  tfrec = tf.data.experimental.TFRecordWriter(filename)\n",
        "  tfrec.write(serialized_dataset)\n",
        "  \n",
        "save_tf_record(dataset, 'birds-dataset.tfrec')   "
      ],
      "metadata": {
        "colab": {
          "base_uri": "https://localhost:8080/"
        },
        "id": "2b1q3WvKMKrg",
        "outputId": "a91c3d47-1603-425a-e283-39679c0333ff"
      },
      "execution_count": 4,
      "outputs": [
        {
          "output_type": "stream",
          "name": "stderr",
          "text": [
            "WARNING:tensorflow:From <ipython-input-4-8ac7ef1bb63c>:38: TFRecordWriter.__init__ (from tensorflow.python.data.experimental.ops.writers) is deprecated and will be removed in a future version.\n",
            "Instructions for updating:\n",
            "To write TFRecords to disk, use `tf.io.TFRecordWriter`. To save and load the contents of a dataset, use `tf.data.experimental.save` and `tf.data.experimental.load`\n"
          ]
        }
      ]
    },
    {
      "cell_type": "code",
      "source": [
        "def split_tfrecord(tfrecord_path, split_size):\n",
        "    with tf.Graph().as_default(), tf.Session() as sess:\n",
        "        ds = tf.data.TFRecordDataset(tfrecord_path).batch(split_size)\n",
        "        batch = ds.make_one_shot_iterator().get_next()\n",
        "        part_num = 0\n",
        "        while True:\n",
        "            try:\n",
        "                records = sess.run(batch)\n",
        "                part_path = tfrecord_path + '.{:03d}'.format(part_num)\n",
        "                with tf.python_io.TFRecordWriter(part_path) as writer:\n",
        "                    for record in records:\n",
        "                        writer.write(record)\n",
        "                part_num += 1\n",
        "            except tf.errors.OutOfRangeError: break"
      ],
      "metadata": {
        "id": "Owi0OsrYMMqC"
      },
      "execution_count": 5,
      "outputs": []
    }
  ]
}