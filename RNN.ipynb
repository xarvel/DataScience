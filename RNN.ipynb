{
  "cells": [
    {
      "cell_type": "markdown",
      "metadata": {
        "id": "view-in-github",
        "colab_type": "text"
      },
      "source": [
        "<a href=\"https://colab.research.google.com/github/xarvel/DataScience/blob/master/RNN.ipynb\" target=\"_parent\"><img src=\"https://colab.research.google.com/assets/colab-badge.svg\" alt=\"Open In Colab\"/></a>"
      ]
    },
    {
      "cell_type": "code",
      "execution_count": 83,
      "metadata": {
        "id": "FxIvX3jnR-Ni",
        "colab": {
          "base_uri": "https://localhost:8080/"
        },
        "outputId": "5473ab29-f81b-4c2e-d742-8d8d92508aa9"
      },
      "outputs": [
        {
          "output_type": "stream",
          "name": "stdout",
          "text": [
            "2.14.0\n"
          ]
        }
      ],
      "source": [
        "import tensorflow as tf\n",
        "\n",
        "import numpy as np\n",
        "import os\n",
        "import time\n",
        "from tqdm import tqdm\n",
        "\n",
        "print(tf.__version__)"
      ]
    },
    {
      "cell_type": "code",
      "execution_count": 84,
      "metadata": {
        "id": "Mf9mXb2HQmBu"
      },
      "outputs": [],
      "source": [
        "path_to_file = tf.keras.utils.get_file('bible.txt', 'https://drive.google.com/uc?export=download&id=1-4rl2K0zr5zj3Lj8tzVOEMF152gtApVP')"
      ]
    },
    {
      "cell_type": "code",
      "execution_count": 85,
      "metadata": {
        "id": "Vz9YuBUtXAZ0",
        "cellView": "form"
      },
      "outputs": [],
      "source": [
        "#@title utils\n",
        "\n",
        "def split_input_target(sequence):\n",
        "    input_text = sequence[:-1]\n",
        "    target_text = sequence[1:]\n",
        "    return input_text, target_text\n",
        "\n",
        "def text_stats(text):\n",
        "  sample_size = 250\n",
        "  print(f'Sample {sample_size} characters:')\n",
        "  print('-' * 80)\n",
        "  start = 150\n",
        "  # Take a look at the first 250 characters in text\n",
        "  print(text[start:start + sample_size])\n",
        "  print('-' * 80)\n",
        "  # length of text is the number of characters in it\n",
        "  print(f'Length of text: {len(text)} characters')\n",
        "  # The unique characters in the file\n",
        "  vocab = sorted(set(text))\n",
        "  print(f'{len(vocab)} unique characters')\n",
        "\n",
        "  return vocab"
      ]
    },
    {
      "cell_type": "code",
      "execution_count": 86,
      "metadata": {
        "colab": {
          "base_uri": "https://localhost:8080/"
        },
        "id": "KWjUhFzvUb1P",
        "outputId": "55ff151a-0a6e-4360-903c-50f86dcd3380"
      },
      "outputs": [
        {
          "output_type": "stream",
          "name": "stdout",
          "text": [
            "Sample 250 characters:\n",
            "--------------------------------------------------------------------------------\n",
            "о и землю.\n",
            "\n",
            "2 Земля же была безвидна и пуста, и тьма над бездною, и Дух Божий носился над водою.\n",
            "\n",
            "3 И сказал Бог: да будет свет. И стал свет.\n",
            "\n",
            "4 И увидел Бог свет, что он хорош, и отделил Бог свет от тьмы.\n",
            "\n",
            "5 И назвал Бог свет днем, а тьму ночью. И б\n",
            "--------------------------------------------------------------------------------\n",
            "Length of text: 4196242 characters\n",
            "92 unique characters\n"
          ]
        }
      ],
      "source": [
        "# Read, then decode for py2 compat.\n",
        "text = open(path_to_file, 'rb').read().decode(encoding='utf-8')\n",
        "vocab = text_stats(text)\n",
        "\n",
        "ids_from_chars = tf.keras.layers.StringLookup(\n",
        "    vocabulary=list(vocab),\n",
        "    mask_token=None\n",
        ")\n",
        "chars_from_ids = tf.keras.layers.StringLookup(\n",
        "    vocabulary=ids_from_chars.get_vocabulary(),\n",
        "    invert=True,\n",
        "    mask_token=None\n",
        ")"
      ]
    },
    {
      "cell_type": "code",
      "execution_count": 87,
      "metadata": {
        "id": "evYWmHCZ3ymu"
      },
      "outputs": [],
      "source": [
        "#@title CONFIG\n",
        "\n",
        "SEQUENCE_LENGTH = 100\n",
        "\n",
        "# Batch size\n",
        "BATCH_SIZE = 64\n",
        "\n",
        "# Buffer size to shuffle the dataset\n",
        "# (TF data is designed to work with possibly infinite sequences,\n",
        "# so it doesn't attempt to shuffle the entire sequence in memory. Instead,\n",
        "# it maintains a buffer in which it shuffles elements).\n",
        "BUFFER_SIZE = 10000\n",
        "\n",
        "# The embedding dimension\n",
        "EMBEDDING_DIMENTION = 256\n",
        "\n",
        "# Number of RNN units\n",
        "RNN_UNITS = 1024\n",
        "\n",
        "EPOCHS = 1\n",
        "\n",
        "# Length of the vocabulary in StringLookup Layer\n",
        "VOCAB_SIZE = len(ids_from_chars.get_vocabulary())\n",
        "\n",
        "# Directory where the checkpoints will be saved\n",
        "CHECKPOINT_DIR = './training_checkpoints'\n",
        "# Name of the checkpoint files\n",
        "CHECKPOINT_PREFIX = os.path.join(CHECKPOINT_DIR, \"ckpt_{epoch}\")\n",
        "\n",
        "SEED = 1\n",
        "\n",
        "CHECKPOINT_INTERVAL = 5\n",
        "\n",
        "optimizer = tf.keras.optimizers.Adam()\n",
        "loss_func = tf.losses.SparseCategoricalCrossentropy(from_logits=True)"
      ]
    },
    {
      "cell_type": "code",
      "source": [
        "tf.random.set_seed(SEED)"
      ],
      "metadata": {
        "id": "awuRuNw21bRW"
      },
      "execution_count": 88,
      "outputs": []
    },
    {
      "cell_type": "code",
      "execution_count": 89,
      "metadata": {
        "id": "Vo6-HzZkR1Pl"
      },
      "outputs": [],
      "source": [
        "def text_from_ids(ids):\n",
        "  return tf.strings.reduce_join(chars_from_ids(ids), axis=-1)"
      ]
    },
    {
      "cell_type": "code",
      "execution_count": 90,
      "metadata": {
        "id": "rj3-jNK5R49M"
      },
      "outputs": [],
      "source": [
        "all_ids = ids_from_chars(tf.strings.unicode_split(text, 'UTF-8'))\n",
        "ids_dataset = tf.data.Dataset.from_tensor_slices(all_ids)\n",
        "sequences = ids_dataset.batch(SEQUENCE_LENGTH + 1, drop_remainder=True)\n",
        "dataset = sequences.map(split_input_target)"
      ]
    },
    {
      "cell_type": "code",
      "execution_count": 91,
      "metadata": {
        "id": "3075WT7nSGsV"
      },
      "outputs": [],
      "source": [
        "dataset = dataset.shuffle(BUFFER_SIZE).batch(BATCH_SIZE, drop_remainder=True).prefetch(tf.data.experimental.AUTOTUNE)"
      ]
    },
    {
      "cell_type": "code",
      "execution_count": 92,
      "metadata": {
        "id": "dlQT7LicSLl7"
      },
      "outputs": [],
      "source": [
        "class RNNModel(tf.keras.Model):\n",
        "  def __init__(self, vocab_size, embedding_dim, rnn_units, chars_from_ids, ids_from_chars, temperature=1.0):\n",
        "    super().__init__(self)\n",
        "\n",
        "    self.embedding = tf.keras.layers.Embedding(\n",
        "        vocab_size,\n",
        "        embedding_dim\n",
        "    )\n",
        "    self.gru = tf.keras.layers.GRU(\n",
        "        rnn_units,\n",
        "        return_sequences=True,\n",
        "        return_state=True\n",
        "    )\n",
        "    self.dense = tf.keras.layers.Dense(vocab_size)\n",
        "\n",
        "    self.temperature = temperature\n",
        "    self.chars_from_ids = chars_from_ids\n",
        "    self.ids_from_chars = ids_from_chars\n",
        "\n",
        "     # Create a mask to prevent \"[UNK]\" from being generated.\n",
        "    skip_ids = self.ids_from_chars(['[UNK]'])[:, None]\n",
        "    sparse_mask = tf.SparseTensor(\n",
        "        # Put a -inf at each bad index.\n",
        "        values=[-float('inf')]*len(skip_ids),\n",
        "        indices=skip_ids,\n",
        "        # Match the shape to the vocabulary\n",
        "        dense_shape=[len(ids_from_chars.get_vocabulary())])\n",
        "    self.prediction_mask = tf.sparse.to_dense(sparse_mask)\n",
        "\n",
        "  def call(self, inputs, states=None, return_state=False, training=False):\n",
        "    x = inputs\n",
        "    x = self.embedding(x, training=training)\n",
        "    if states is None:\n",
        "      states = self.gru.get_initial_state(x)\n",
        "    x, states = self.gru(x, initial_state=states, training=training)\n",
        "    x = self.dense(x, training=training)\n",
        "\n",
        "    if return_state:\n",
        "      return x, states\n",
        "    else:\n",
        "      return x\n",
        "\n",
        "  @tf.function\n",
        "  def generate_one_step(self, inputs, states=None):\n",
        "    # Convert strings to token IDs.\n",
        "    input_chars = tf.strings.unicode_split(inputs, 'UTF-8')\n",
        "    input_ids = self.ids_from_chars(input_chars).to_tensor()\n",
        "\n",
        "    # Run the model.\n",
        "    # predicted_logits.shape is [batch, char, next_char_logits]\n",
        "    predicted_logits, states = self(\n",
        "        inputs=input_ids,\n",
        "        states=states,\n",
        "        return_state=True\n",
        "    )\n",
        "    # Only use the last prediction.\n",
        "    predicted_logits = predicted_logits[:, -1, :]\n",
        "    predicted_logits = predicted_logits/self.temperature\n",
        "    # Apply the prediction mask: prevent \"[UNK]\" from being generated.\n",
        "    predicted_logits = predicted_logits + self.prediction_mask\n",
        "\n",
        "    # Sample the output logits to generate token IDs.\n",
        "    predicted_ids = tf.random.categorical(predicted_logits, num_samples=1)\n",
        "    predicted_ids = tf.squeeze(predicted_ids, axis=-1)\n",
        "\n",
        "    # Convert from token ids to characters\n",
        "    predicted_chars = self.chars_from_ids(predicted_ids)\n",
        "\n",
        "    # Return the characters and model state.\n",
        "    return predicted_chars, states"
      ]
    },
    {
      "cell_type": "code",
      "execution_count": 93,
      "metadata": {
        "id": "7tcX8ioUSMvD"
      },
      "outputs": [],
      "source": [
        "model = RNNModel(\n",
        "    vocab_size=VOCAB_SIZE,\n",
        "    embedding_dim=EMBEDDING_DIMENTION,\n",
        "    rnn_units=RNN_UNITS,\n",
        "    chars_from_ids=chars_from_ids,\n",
        "    ids_from_chars=ids_from_chars\n",
        ")"
      ]
    },
    {
      "cell_type": "code",
      "execution_count": 94,
      "metadata": {
        "colab": {
          "base_uri": "https://localhost:8080/"
        },
        "id": "A4_AVijRSQgr",
        "outputId": "198e3f73-00f6-4b4a-f434-eeb674dba1a5"
      },
      "outputs": [
        {
          "output_type": "stream",
          "name": "stdout",
          "text": [
            "Model: \"rnn_model_4\"\n",
            "_________________________________________________________________\n",
            " Layer (type)                Output Shape              Param #   \n",
            "=================================================================\n",
            " embedding_4 (Embedding)     multiple                  23808     \n",
            "                                                                 \n",
            " gru_4 (GRU)                 multiple                  3938304   \n",
            "                                                                 \n",
            " dense_4 (Dense)             multiple                  95325     \n",
            "                                                                 \n",
            " string_lookup_11 (StringLo  multiple                  0 (unused)\n",
            " okup)                                                           \n",
            "                                                                 \n",
            " string_lookup_10 (StringLo  multiple                  0         \n",
            " okup)                                                           \n",
            "                                                                 \n",
            "=================================================================\n",
            "Total params: 4057437 (15.48 MB)\n",
            "Trainable params: 4057437 (15.48 MB)\n",
            "Non-trainable params: 0 (0.00 Byte)\n",
            "_________________________________________________________________\n"
          ]
        }
      ],
      "source": [
        "model.build((SEQUENCE_LENGTH, VOCAB_SIZE))\n",
        "model.summary()"
      ]
    },
    {
      "cell_type": "code",
      "execution_count": 95,
      "metadata": {
        "id": "-mOgRkc0SU5y"
      },
      "outputs": [],
      "source": [
        "def predict_text(start_text, size):\n",
        "  states = None\n",
        "  next_char = tf.constant([start_text])\n",
        "  result = [next_char]\n",
        "\n",
        "  for n in range(size):\n",
        "    next_char, states = model.generate_one_step(next_char, states=states)\n",
        "    result.append(next_char)\n",
        "\n",
        "  result = tf.strings.join(result)\n",
        "\n",
        "  return result[0].numpy().decode('utf-8')\n",
        "\n",
        "def sample_text():\n",
        "  start = time.time()\n",
        "  print('-' * 80)\n",
        "  print(predict_text('И сказал Господь:', 40))\n",
        "  print('-' * 80)\n",
        "  end = time.time()\n",
        "  print('\\nRun time:', end - start)\n",
        "\n",
        "@tf.function\n",
        "def train_step(inputs):\n",
        "  inputs, labels = inputs\n",
        "  with tf.GradientTape() as tape:\n",
        "    predictions = model(inputs, training=True)\n",
        "    loss = loss_func(labels, predictions)\n",
        "\n",
        "  grads = tape.gradient(loss, model.trainable_variables)\n",
        "  optimizer.apply_gradients(zip(grads, model.trainable_variables))\n",
        "\n",
        "  return {'loss': loss}"
      ]
    },
    {
      "cell_type": "code",
      "execution_count": 96,
      "metadata": {
        "colab": {
          "base_uri": "https://localhost:8080/"
        },
        "id": "qHHQ50UIScN-",
        "outputId": "a46c3b52-4eb1-40df-9ec8-75996835337f"
      },
      "outputs": [
        {
          "output_type": "stream",
          "name": "stdout",
          "text": [
            "Epoch: 1/1\n"
          ]
        },
        {
          "output_type": "stream",
          "name": "stderr",
          "text": [
            "Current step 648: 100%|██████████| 649/649 [00:41<00:00, 15.70it/s, loss=1.61]\n"
          ]
        },
        {
          "output_type": "stream",
          "name": "stdout",
          "text": [
            "--------------------------------------------------------------------------------\n",
            "И сказал Господь: окойчите за трупью, 2 ибо еще было в Иа\n",
            "--------------------------------------------------------------------------------\n",
            "\n",
            "Run time: 1.0440990924835205\n",
            "Loss: 2.1410\n",
            "Time for epoch 1 is 42.393563747406006 sec\n"
          ]
        }
      ],
      "source": [
        "mean = tf.metrics.Mean()\n",
        "\n",
        "STEPS_PER_EPOCH = len(dataset)\n",
        "\n",
        "train_iterator = iter(dataset)\n",
        "\n",
        "for epoch in range(1, EPOCHS + 1):\n",
        "    start = time.time()\n",
        "\n",
        "    print('Epoch: {}/{}'.format(epoch, EPOCHS))\n",
        "    pbar = tqdm(range(STEPS_PER_EPOCH))\n",
        "\n",
        "    mean.reset_states()\n",
        "    for step in pbar:\n",
        "      inp, target = next(train_iterator)\n",
        "      logs = train_step([inp, target])\n",
        "      mean.update_state(logs['loss'])\n",
        "      pbar.set_postfix({\n",
        "        'loss': round(float(logs['loss']), 4)\n",
        "      })\n",
        "      pbar.set_description(\"Current step %s\" % step)\n",
        "\n",
        "    # saving (checkpoint) the model every 5 epochs\n",
        "    if epoch % CHECKPOINT_INTERVAL == 0:\n",
        "        model.save_weights(CHECKPOINT_PREFIX.format(epoch=epoch))\n",
        "\n",
        "    sample_text()\n",
        "\n",
        "    print(f'Loss: {mean.result().numpy():.4f}')\n",
        "    print('Time for epoch {} is {} sec'.format(epoch, time.time()-start))"
      ]
    },
    {
      "cell_type": "code",
      "execution_count": 97,
      "metadata": {
        "id": "TXkZo_8ASjbU",
        "colab": {
          "base_uri": "https://localhost:8080/"
        },
        "outputId": "445d5211-3976-4ded-f870-c6e802b592db"
      },
      "outputs": [
        {
          "output_type": "stream",
          "name": "stderr",
          "text": [
            "WARNING:tensorflow:Model's `__init__()` arguments contain non-serializable objects. Please implement a `get_config()` method in the subclassed Model for proper saving and loading. Defaulting to empty config.\n",
            "WARNING:tensorflow:Model's `__init__()` arguments contain non-serializable objects. Please implement a `get_config()` method in the subclassed Model for proper saving and loading. Defaulting to empty config.\n"
          ]
        }
      ],
      "source": [
        "tf.saved_model.save(model, 'model')\n",
        "model_reloaded = tf.saved_model.load('model')"
      ]
    },
    {
      "cell_type": "code",
      "source": [
        "print(predict_text('И сказал Господь:', 40))"
      ],
      "metadata": {
        "id": "prYz0KrkxpvG",
        "outputId": "510e1a42-4d3d-40b3-de71-ce38112a4d99",
        "colab": {
          "base_uri": "https://localhost:8080/"
        }
      },
      "execution_count": 99,
      "outputs": [
        {
          "output_type": "stream",
          "name": "stdout",
          "text": [
            "И сказал Господь: зверя Мое домол видшие в твой, знают, ч\n"
          ]
        }
      ]
    }
  ],
  "metadata": {
    "accelerator": "GPU",
    "colab": {
      "provenance": [],
      "gpuType": "T4",
      "include_colab_link": true
    },
    "kernelspec": {
      "display_name": "Python 3",
      "name": "python3"
    }
  },
  "nbformat": 4,
  "nbformat_minor": 0
}