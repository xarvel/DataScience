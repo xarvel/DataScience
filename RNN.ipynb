{
  "cells": [
    {
      "cell_type": "markdown",
      "metadata": {
        "id": "view-in-github",
        "colab_type": "text"
      },
      "source": [
        "<a href=\"https://colab.research.google.com/github/xarvel/DataScience/blob/master/RNN.ipynb\" target=\"_parent\"><img src=\"https://colab.research.google.com/assets/colab-badge.svg\" alt=\"Open In Colab\"/></a>"
      ]
    },
    {
      "cell_type": "code",
      "execution_count": 125,
      "metadata": {
        "id": "FxIvX3jnR-Ni",
        "colab": {
          "base_uri": "https://localhost:8080/"
        },
        "outputId": "66088ade-4835-4458-bd65-9c58865190a4"
      },
      "outputs": [
        {
          "output_type": "stream",
          "name": "stdout",
          "text": [
            "2.14.0\n"
          ]
        }
      ],
      "source": [
        "import tensorflow as tf\n",
        "\n",
        "import numpy as np\n",
        "import os\n",
        "import time\n",
        "from tqdm import tqdm\n",
        "\n",
        "print(tf.__version__)"
      ]
    },
    {
      "cell_type": "code",
      "execution_count": 126,
      "metadata": {
        "id": "Mf9mXb2HQmBu"
      },
      "outputs": [],
      "source": [
        "path_to_file = tf.keras.utils.get_file('bible.txt', 'https://drive.google.com/uc?export=download&id=1-4rl2K0zr5zj3Lj8tzVOEMF152gtApVP')"
      ]
    },
    {
      "cell_type": "code",
      "execution_count": 127,
      "metadata": {
        "id": "Vz9YuBUtXAZ0",
        "cellView": "form"
      },
      "outputs": [],
      "source": [
        "#@title utils\n",
        "\n",
        "def split_input_target(sequence):\n",
        "    input_text = sequence[:-1]\n",
        "    target_text = sequence[1:]\n",
        "    return input_text, target_text\n",
        "\n",
        "def text_stats(text):\n",
        "  sample_size = 250\n",
        "  print(f'Sample {sample_size} characters:')\n",
        "  print('-' * 80)\n",
        "  start = 150\n",
        "  # Take a look at the first 250 characters in text\n",
        "  print(text[start:start + sample_size])\n",
        "  print('-' * 80)\n",
        "  # length of text is the number of characters in it\n",
        "  print(f'Length of text: {len(text)} characters')\n",
        "  # The unique characters in the file\n",
        "  vocab = sorted(set(text))\n",
        "  print(f'{len(vocab)} unique characters')\n",
        "\n",
        "  return vocab"
      ]
    },
    {
      "cell_type": "code",
      "execution_count": 128,
      "metadata": {
        "colab": {
          "base_uri": "https://localhost:8080/"
        },
        "id": "KWjUhFzvUb1P",
        "outputId": "c95533f9-03a2-4f8c-8852-7c1ab09bfaf2"
      },
      "outputs": [
        {
          "output_type": "stream",
          "name": "stdout",
          "text": [
            "Sample 250 characters:\n",
            "--------------------------------------------------------------------------------\n",
            "о и землю.\n",
            "\n",
            "2 Земля же была безвидна и пуста, и тьма над бездною, и Дух Божий носился над водою.\n",
            "\n",
            "3 И сказал Бог: да будет свет. И стал свет.\n",
            "\n",
            "4 И увидел Бог свет, что он хорош, и отделил Бог свет от тьмы.\n",
            "\n",
            "5 И назвал Бог свет днем, а тьму ночью. И б\n",
            "--------------------------------------------------------------------------------\n",
            "Length of text: 4196242 characters\n",
            "92 unique characters\n"
          ]
        }
      ],
      "source": [
        "# Read, then decode for py2 compat.\n",
        "text = open(path_to_file, 'rb').read().decode(encoding='utf-8')\n",
        "vocab = text_stats(text)\n",
        "\n",
        "ids_from_chars = tf.keras.layers.StringLookup(\n",
        "    vocabulary=list(vocab),\n",
        "    mask_token=None\n",
        ")\n",
        "chars_from_ids = tf.keras.layers.StringLookup(\n",
        "    vocabulary=ids_from_chars.get_vocabulary(),\n",
        "    invert=True,\n",
        "    mask_token=None\n",
        ")"
      ]
    },
    {
      "cell_type": "code",
      "execution_count": 129,
      "metadata": {
        "id": "evYWmHCZ3ymu"
      },
      "outputs": [],
      "source": [
        "#@title CONFIG\n",
        "\n",
        "SEQUENCE_LENGTH = 100\n",
        "\n",
        "# Batch size\n",
        "BATCH_SIZE = 64\n",
        "\n",
        "# Buffer size to shuffle the dataset\n",
        "# (TF data is designed to work with possibly infinite sequences,\n",
        "# so it doesn't attempt to shuffle the entire sequence in memory. Instead,\n",
        "# it maintains a buffer in which it shuffles elements).\n",
        "BUFFER_SIZE = 10000\n",
        "\n",
        "# The embedding dimension\n",
        "EMBEDDING_DIMENTION = 256\n",
        "\n",
        "# Number of RNN units\n",
        "RNN_UNITS = 1024\n",
        "\n",
        "EPOCHS = 30\n",
        "\n",
        "# Length of the vocabulary in StringLookup Layer\n",
        "VOCAB_SIZE = len(ids_from_chars.get_vocabulary())\n",
        "\n",
        "# Directory where the checkpoints will be saved\n",
        "CHECKPOINT_DIR = './training_checkpoints'\n",
        "# Name of the checkpoint files\n",
        "CHECKPOINT_PREFIX = os.path.join(CHECKPOINT_DIR, \"ckpt_{epoch}\")\n",
        "\n",
        "SEED = 1\n",
        "\n",
        "CHECKPOINT_INTERVAL = 5\n",
        "\n",
        "optimizer = tf.keras.optimizers.Adam()\n",
        "loss_func = tf.losses.SparseCategoricalCrossentropy(from_logits=True)"
      ]
    },
    {
      "cell_type": "code",
      "source": [
        "tf.random.set_seed(SEED)"
      ],
      "metadata": {
        "id": "awuRuNw21bRW"
      },
      "execution_count": 130,
      "outputs": []
    },
    {
      "cell_type": "code",
      "execution_count": 131,
      "metadata": {
        "id": "Vo6-HzZkR1Pl"
      },
      "outputs": [],
      "source": [
        "def text_from_ids(ids):\n",
        "  return tf.strings.reduce_join(chars_from_ids(ids), axis=-1)"
      ]
    },
    {
      "cell_type": "code",
      "execution_count": 132,
      "metadata": {
        "id": "rj3-jNK5R49M"
      },
      "outputs": [],
      "source": [
        "all_ids = ids_from_chars(tf.strings.unicode_split(text, 'UTF-8'))\n",
        "ids_dataset = tf.data.Dataset.from_tensor_slices(all_ids)\n",
        "sequences = ids_dataset.batch(SEQUENCE_LENGTH + 1, drop_remainder=True)"
      ]
    },
    {
      "cell_type": "code",
      "execution_count": 133,
      "metadata": {
        "colab": {
          "base_uri": "https://localhost:8080/"
        },
        "id": "3075WT7nSGsV",
        "outputId": "c59ba94c-5b7c-47de-a082-c853da7e1440"
      },
      "outputs": [
        {
          "output_type": "stream",
          "name": "stdout",
          "text": [
            "649\n"
          ]
        }
      ],
      "source": [
        "#@title DATASET\n",
        "\n",
        "\n",
        "dataset = sequences.map(split_input_target)\n",
        "dataset = dataset.shuffle(BUFFER_SIZE).batch(BATCH_SIZE, drop_remainder=True).prefetch(tf.data.experimental.AUTOTUNE)\n",
        "STEPS_PER_EPOCH = len(dataset)\n",
        "dataset = dataset.repeat()\n",
        "dataset = dataset.prefetch(tf.data.experimental.AUTOTUNE)\n",
        "\n",
        "print(STEPS_PER_EPOCH)"
      ]
    },
    {
      "cell_type": "code",
      "execution_count": 134,
      "metadata": {
        "id": "dlQT7LicSLl7"
      },
      "outputs": [],
      "source": [
        "class RNNModel(tf.keras.Model):\n",
        "  def __init__(self, vocab_size, embedding_dim, rnn_units):\n",
        "    super().__init__(self)\n",
        "\n",
        "    self.embedding = tf.keras.layers.Embedding(\n",
        "        vocab_size,\n",
        "        embedding_dim\n",
        "    )\n",
        "    self.gru = tf.keras.layers.GRU(\n",
        "        rnn_units,\n",
        "        return_sequences=True,\n",
        "        return_state=True\n",
        "    )\n",
        "    self.dense = tf.keras.layers.Dense(vocab_size)\n",
        "\n",
        "  def call(self, inputs, states=None, return_state=False, training=False):\n",
        "    x = inputs\n",
        "    x = self.embedding(x, training=training)\n",
        "    if states is None:\n",
        "      states = self.gru.get_initial_state(x)\n",
        "    x, states = self.gru(x, initial_state=states, training=training)\n",
        "    x = self.dense(x, training=training)\n",
        "\n",
        "    if return_state:\n",
        "      return x, states\n",
        "    else:\n",
        "      return x\n",
        "\n",
        "\n",
        "class OneStep(tf.keras.Model):\n",
        "  def __init__(self, model, chars_from_ids, ids_from_chars, temperature=1.0):\n",
        "    super().__init__()\n",
        "\n",
        "    self.temperature = temperature\n",
        "    self.model = model\n",
        "    self.chars_from_ids = chars_from_ids\n",
        "    self.ids_from_chars = ids_from_chars\n",
        "\n",
        "    # Create a mask to prevent \"[UNK]\" from being generated.\n",
        "    skip_ids = self.ids_from_chars(['[UNK]'])[:, None]\n",
        "    sparse_mask = tf.SparseTensor(\n",
        "        # Put a -inf at each bad index.\n",
        "        values=[ -float('inf') ] * len(skip_ids),\n",
        "        indices=skip_ids,\n",
        "        # Match the shape to the vocabulary\n",
        "        dense_shape=[len(ids_from_chars.get_vocabulary())]\n",
        "    )\n",
        "    self.prediction_mask = tf.sparse.to_dense(sparse_mask)\n",
        "\n",
        "  @tf.function\n",
        "  def generate_one_step(self, inputs, states=None):\n",
        "    # Convert strings to token IDs.\n",
        "    input_chars = tf.strings.unicode_split(inputs, 'UTF-8')\n",
        "    input_ids = self.ids_from_chars(input_chars).to_tensor()\n",
        "\n",
        "    # Run the model.\n",
        "    # predicted_logits.shape is [batch, char, next_char_logits]\n",
        "    predicted_logits, states = self.model(\n",
        "        inputs=input_ids,\n",
        "        states=states,\n",
        "        return_state=True\n",
        "    )\n",
        "    # Only use the last prediction.\n",
        "    predicted_logits = predicted_logits[:, -1, :]\n",
        "    predicted_logits = predicted_logits / self.temperature\n",
        "    # Apply the prediction mask: prevent \"[UNK]\" from being generated.\n",
        "    predicted_logits = predicted_logits + self.prediction_mask\n",
        "\n",
        "    # Sample the output logits to generate token IDs.\n",
        "    predicted_ids = tf.random.categorical(predicted_logits, num_samples=1)\n",
        "    predicted_ids = tf.squeeze(predicted_ids, axis=-1)\n",
        "\n",
        "    # Convert from token ids to characters\n",
        "    predicted_chars = self.chars_from_ids(predicted_ids)\n",
        "\n",
        "    # Return the characters and model state.\n",
        "    return predicted_chars, states"
      ]
    },
    {
      "cell_type": "code",
      "execution_count": 135,
      "metadata": {
        "id": "7tcX8ioUSMvD"
      },
      "outputs": [],
      "source": [
        "model = RNNModel(\n",
        "    vocab_size=VOCAB_SIZE,\n",
        "    embedding_dim=EMBEDDING_DIMENTION,\n",
        "    rnn_units=RNN_UNITS,\n",
        ")\n",
        "\n",
        "one_step_model = OneStep(model, chars_from_ids, ids_from_chars)"
      ]
    },
    {
      "cell_type": "code",
      "execution_count": 136,
      "metadata": {
        "colab": {
          "base_uri": "https://localhost:8080/"
        },
        "id": "A4_AVijRSQgr",
        "outputId": "c7327e0a-87dd-46f1-b11c-d208c3e89540"
      },
      "outputs": [
        {
          "output_type": "stream",
          "name": "stdout",
          "text": [
            "Model: \"rnn_model_6\"\n",
            "_________________________________________________________________\n",
            " Layer (type)                Output Shape              Param #   \n",
            "=================================================================\n",
            " embedding_6 (Embedding)     multiple                  23808     \n",
            "                                                                 \n",
            " gru_6 (GRU)                 multiple                  3938304   \n",
            "                                                                 \n",
            " dense_6 (Dense)             multiple                  95325     \n",
            "                                                                 \n",
            "=================================================================\n",
            "Total params: 4057437 (15.48 MB)\n",
            "Trainable params: 4057437 (15.48 MB)\n",
            "Non-trainable params: 0 (0.00 Byte)\n",
            "_________________________________________________________________\n"
          ]
        }
      ],
      "source": [
        "model.build((SEQUENCE_LENGTH, VOCAB_SIZE))\n",
        "model.summary()"
      ]
    },
    {
      "cell_type": "code",
      "execution_count": 137,
      "metadata": {
        "id": "-mOgRkc0SU5y"
      },
      "outputs": [],
      "source": [
        "def predict_text(start_text, size):\n",
        "  states = None\n",
        "  next_char = tf.constant([start_text])\n",
        "  result = [next_char]\n",
        "\n",
        "  for n in range(size):\n",
        "    next_char, states = one_step_model.generate_one_step(next_char, states=states)\n",
        "    result.append(next_char)\n",
        "\n",
        "  result = tf.strings.join(result)\n",
        "\n",
        "  return result[0].numpy().decode('utf-8')\n",
        "\n",
        "def sample_text():\n",
        "  start = time.time()\n",
        "  print('Sample:')\n",
        "  print('-' * 80)\n",
        "  print(predict_text('И сказал Господь:', 40))\n",
        "  print('-' * 80)\n",
        "  end = time.time()\n",
        "  print('\\nRun time:', end - start)\n",
        "\n",
        "@tf.function\n",
        "def train_step(inputs):\n",
        "  inputs, labels = inputs\n",
        "  with tf.GradientTape() as tape:\n",
        "    predictions = model(inputs, training=True)\n",
        "    loss = loss_func(labels, predictions)\n",
        "\n",
        "  grads = tape.gradient(loss, model.trainable_variables)\n",
        "  optimizer.apply_gradients(zip(grads, model.trainable_variables))\n",
        "\n",
        "  return {'loss': loss}"
      ]
    },
    {
      "cell_type": "code",
      "source": [
        "def train(dataset):\n",
        "  mean = tf.metrics.Mean()\n",
        "  train_iterator = iter(dataset)\n",
        "\n",
        "  for epoch in range(1, EPOCHS + 1):\n",
        "      start = time.time()\n",
        "\n",
        "      print('Epoch: {}/{}'.format(epoch, EPOCHS))\n",
        "      pbar = tqdm(range(STEPS_PER_EPOCH))\n",
        "\n",
        "      mean.reset_states()\n",
        "      for step in pbar:\n",
        "        inp, target = next(train_iterator)\n",
        "        logs = train_step([inp, target])\n",
        "        mean.update_state(logs['loss'])\n",
        "        pbar.set_postfix({\n",
        "          'loss': round(float(logs['loss']), 4)\n",
        "        })\n",
        "        pbar.set_description(\"Current step %s\" % step)\n",
        "\n",
        "      # saving (checkpoint) the model every 5 epochs\n",
        "      if epoch % CHECKPOINT_INTERVAL == 0:\n",
        "          model.save_weights(CHECKPOINT_PREFIX.format(epoch=epoch))\n",
        "\n",
        "      sample_text()\n",
        "\n",
        "      print('Loss: {}'.format(round(float(mean.result().numpy()), 4)))\n",
        "      print('Time for epoch {} is {} sec'.format(epoch, time.time()-start))"
      ],
      "metadata": {
        "id": "1pDiIHCoQIrL"
      },
      "execution_count": 138,
      "outputs": []
    },
    {
      "cell_type": "code",
      "execution_count": 139,
      "metadata": {
        "colab": {
          "base_uri": "https://localhost:8080/"
        },
        "id": "qHHQ50UIScN-",
        "outputId": "15cfaf56-bc2c-463e-d6bb-52efc557f731"
      },
      "outputs": [
        {
          "metadata": {
            "tags": null
          },
          "name": "stdout",
          "output_type": "stream",
          "text": [
            "Epoch: 1/30\n"
          ]
        },
        {
          "metadata": {
            "tags": null
          },
          "name": "stderr",
          "output_type": "stream",
          "text": [
            "Current step 648: 100%|██████████| 649/649 [00:41<00:00, 15.76it/s, loss=1.6]\n"
          ]
        },
        {
          "metadata": {
            "tags": null
          },
          "name": "stdout",
          "output_type": "stream",
          "text": [
            "Sample:\n",
            "--------------------------------------------------------------------------------\n",
            "И сказал Господь: опеявшей устребит ли в себе вас, как и \n",
            "--------------------------------------------------------------------------------\n",
            "\n",
            "Run time: 3.889526844024658\n",
            "Loss: 2.1307\n",
            "Time for epoch 1 is 45.069196939468384 sec\n",
            "Epoch: 2/30\n"
          ]
        },
        {
          "metadata": {
            "tags": null
          },
          "name": "stderr",
          "output_type": "stream",
          "text": [
            "Current step 648: 100%|██████████| 649/649 [00:38<00:00, 16.64it/s, loss=1.44]\n"
          ]
        },
        {
          "metadata": {
            "tags": null
          },
          "name": "stdout",
          "output_type": "stream",
          "text": [
            "Sample:\n",
            "--------------------------------------------------------------------------------\n",
            "И сказал Господь: защащайте до них. Кто Ты твой знание, н\n",
            "--------------------------------------------------------------------------------\n",
            "\n",
            "Run time: 0.28116703033447266\n",
            "Loss: 1.4676\n",
            "Time for epoch 2 is 39.28883218765259 sec\n",
            "Epoch: 3/30\n"
          ]
        },
        {
          "metadata": {
            "tags": null
          },
          "name": "stderr",
          "output_type": "stream",
          "text": [
            "Current step 648: 100%|██████████| 649/649 [00:40<00:00, 16.19it/s, loss=1.3]\n"
          ]
        },
        {
          "metadata": {
            "tags": null
          },
          "name": "stdout",
          "output_type": "stream",
          "text": [
            "Sample:\n",
            "--------------------------------------------------------------------------------\n",
            "И сказал Господь: вот, вы выше небес.\n",
            "\n",
            "30 Пребывает Симон\n",
            "--------------------------------------------------------------------------------\n",
            "\n",
            "Run time: 0.16859722137451172\n",
            "Loss: 1.3241\n",
            "Time for epoch 3 is 40.25928521156311 sec\n",
            "Epoch: 4/30\n"
          ]
        },
        {
          "metadata": {
            "tags": null
          },
          "name": "stderr",
          "output_type": "stream",
          "text": [
            "Current step 648: 100%|██████████| 649/649 [00:39<00:00, 16.52it/s, loss=1.25]\n"
          ]
        },
        {
          "metadata": {
            "tags": null
          },
          "name": "stdout",
          "output_type": "stream",
          "text": [
            "Sample:\n",
            "--------------------------------------------------------------------------------\n",
            "И сказал Господь: если бы ты не послушаешь долготерпеть п\n",
            "--------------------------------------------------------------------------------\n",
            "\n",
            "Run time: 0.17113757133483887\n",
            "Loss: 1.2514\n",
            "Time for epoch 4 is 39.46820378303528 sec\n",
            "Epoch: 5/30\n"
          ]
        },
        {
          "metadata": {
            "tags": null
          },
          "name": "stderr",
          "output_type": "stream",
          "text": [
            "Current step 648: 100%|██████████| 649/649 [00:38<00:00, 16.79it/s, loss=1.22]\n"
          ]
        },
        {
          "metadata": {
            "tags": null
          },
          "name": "stdout",
          "output_type": "stream",
          "text": [
            "Sample:\n",
            "--------------------------------------------------------------------------------\n",
            "И сказал Господь: за мратит предавшись слепым чудесами Св\n",
            "--------------------------------------------------------------------------------\n",
            "\n",
            "Run time: 0.1932380199432373\n",
            "Loss: 1.2003\n",
            "Time for epoch 5 is 38.99290919303894 sec\n",
            "Epoch: 6/30\n"
          ]
        },
        {
          "metadata": {
            "tags": null
          },
          "name": "stderr",
          "output_type": "stream",
          "text": [
            "Current step 648: 100%|██████████| 649/649 [00:38<00:00, 16.74it/s, loss=1.18]\n"
          ]
        },
        {
          "metadata": {
            "tags": null
          },
          "name": "stdout",
          "output_type": "stream",
          "text": [
            "Sample:\n",
            "--------------------------------------------------------------------------------\n",
            "И сказал Господь: виноградную в тело Мне так, что даете в\n",
            "--------------------------------------------------------------------------------\n",
            "\n",
            "Run time: 0.29003310203552246\n",
            "Loss: 1.1593\n",
            "Time for epoch 6 is 39.08650994300842 sec\n",
            "Epoch: 7/30\n"
          ]
        },
        {
          "metadata": {
            "tags": null
          },
          "name": "stderr",
          "output_type": "stream",
          "text": [
            "Current step 648: 100%|██████████| 649/649 [00:38<00:00, 16.70it/s, loss=1.13]\n"
          ]
        },
        {
          "metadata": {
            "tags": null
          },
          "name": "stdout",
          "output_type": "stream",
          "text": [
            "Sample:\n",
            "--------------------------------------------------------------------------------\n",
            "И сказал Господь: идите к сыну твоему; но Я наведу Избави\n",
            "--------------------------------------------------------------------------------\n",
            "\n",
            "Run time: 0.11163830757141113\n",
            "Loss: 1.1241\n",
            "Time for epoch 7 is 38.97584295272827 sec\n",
            "Epoch: 8/30\n"
          ]
        },
        {
          "metadata": {
            "tags": null
          },
          "name": "stderr",
          "output_type": "stream",
          "text": [
            "Current step 648: 100%|██████████| 649/649 [00:39<00:00, 16.56it/s, loss=1.1]\n"
          ]
        },
        {
          "metadata": {
            "tags": null
          },
          "name": "stdout",
          "output_type": "stream",
          "text": [
            "Sample:\n",
            "--------------------------------------------------------------------------------\n",
            "И сказал Господь: вот, теперь не давайте господам, без пр\n",
            "--------------------------------------------------------------------------------\n",
            "\n",
            "Run time: 0.10673403739929199\n",
            "Loss: 1.0924\n",
            "Time for epoch 8 is 39.313180685043335 sec\n",
            "Epoch: 9/30\n"
          ]
        },
        {
          "metadata": {
            "tags": null
          },
          "name": "stderr",
          "output_type": "stream",
          "text": [
            "Current step 648: 100%|██████████| 649/649 [00:39<00:00, 16.56it/s, loss=1.12]\n"
          ]
        },
        {
          "metadata": {
            "tags": null
          },
          "name": "stdout",
          "output_type": "stream",
          "text": [
            "Sample:\n",
            "--------------------------------------------------------------------------------\n",
            "И сказал Господь: вот, раба Моего Духом землями?\n",
            "\n",
            "5 А ты \n",
            "--------------------------------------------------------------------------------\n",
            "\n",
            "Run time: 0.2162625789642334\n",
            "Loss: 1.065\n",
            "Time for epoch 9 is 39.427128076553345 sec\n",
            "Epoch: 10/30\n"
          ]
        },
        {
          "metadata": {
            "tags": null
          },
          "name": "stderr",
          "output_type": "stream",
          "text": [
            "Current step 648: 100%|██████████| 649/649 [00:39<00:00, 16.64it/s, loss=1.05]\n"
          ]
        },
        {
          "metadata": {
            "tags": null
          },
          "name": "stdout",
          "output_type": "stream",
          "text": [
            "Sample:\n",
            "--------------------------------------------------------------------------------\n",
            "И сказал Господь: спрашивай: если исполнители заповедей Е\n",
            "--------------------------------------------------------------------------------\n",
            "\n",
            "Run time: 0.22267866134643555\n",
            "Loss: 1.0404\n",
            "Time for epoch 10 is 39.36917972564697 sec\n",
            "Epoch: 11/30\n"
          ]
        },
        {
          "metadata": {
            "tags": null
          },
          "name": "stderr",
          "output_type": "stream",
          "text": [
            "Current step 648: 100%|██████████| 649/649 [00:39<00:00, 16.58it/s, loss=1.06]\n"
          ]
        },
        {
          "metadata": {
            "tags": null
          },
          "name": "stdout",
          "output_type": "stream",
          "text": [
            "Sample:\n",
            "--------------------------------------------------------------------------------\n",
            "И сказал Господь: стой тучных миртов, или нечестивец, да \n",
            "--------------------------------------------------------------------------------\n",
            "\n",
            "Run time: 0.11688423156738281\n",
            "Loss: 1.019\n",
            "Time for epoch 11 is 39.27136421203613 sec\n",
            "Epoch: 12/30\n"
          ]
        },
        {
          "metadata": {
            "tags": null
          },
          "name": "stderr",
          "output_type": "stream",
          "text": [
            "Current step 648: 100%|██████████| 649/649 [00:39<00:00, 16.60it/s, loss=1.03]\n"
          ]
        },
        {
          "metadata": {
            "tags": null
          },
          "name": "stdout",
          "output_type": "stream",
          "text": [
            "Sample:\n",
            "--------------------------------------------------------------------------------\n",
            "И сказал Господь: так в те дни, и нашел шест святого дня \n",
            "--------------------------------------------------------------------------------\n",
            "\n",
            "Run time: 0.10583305358886719\n",
            "Loss: 1.0009\n",
            "Time for epoch 12 is 39.219953298568726 sec\n",
            "Epoch: 13/30\n"
          ]
        },
        {
          "metadata": {
            "tags": null
          },
          "name": "stderr",
          "output_type": "stream",
          "text": [
            "Current step 648: 100%|██████████| 649/649 [00:39<00:00, 16.55it/s, loss=1.06]\n"
          ]
        },
        {
          "metadata": {
            "tags": null
          },
          "name": "stdout",
          "output_type": "stream",
          "text": [
            "Sample:\n",
            "--------------------------------------------------------------------------------\n",
            "И сказал Господь: сего тех, которые вы поступаете с Перво\n",
            "--------------------------------------------------------------------------------\n",
            "\n",
            "Run time: 0.11270999908447266\n",
            "Loss: 0.9859\n",
            "Time for epoch 13 is 39.327078104019165 sec\n",
            "Epoch: 14/30\n"
          ]
        },
        {
          "metadata": {
            "tags": null
          },
          "name": "stderr",
          "output_type": "stream",
          "text": [
            "Current step 648: 100%|██████████| 649/649 [00:39<00:00, 16.59it/s, loss=1.01]\n"
          ]
        },
        {
          "metadata": {
            "tags": null
          },
          "name": "stdout",
          "output_type": "stream",
          "text": [
            "Sample:\n",
            "--------------------------------------------------------------------------------\n",
            "И сказал Господь: Господи! кто Мой будешь, и все, возлюбл\n",
            "--------------------------------------------------------------------------------\n",
            "\n",
            "Run time: 0.15707182884216309\n",
            "Loss: 0.9733\n",
            "Time for epoch 14 is 39.27856707572937 sec\n",
            "Epoch: 15/30\n"
          ]
        },
        {
          "metadata": {
            "tags": null
          },
          "name": "stderr",
          "output_type": "stream",
          "text": [
            "Current step 648: 100%|██████████| 649/649 [00:39<00:00, 16.63it/s, loss=1.03]\n"
          ]
        },
        {
          "metadata": {
            "tags": null
          },
          "name": "stdout",
          "output_type": "stream",
          "text": [
            "Sample:\n",
            "--------------------------------------------------------------------------------\n",
            "И сказал Господь: течет хотите Вассадовала, тотчас постиг\n",
            "--------------------------------------------------------------------------------\n",
            "\n",
            "Run time: 0.22305846214294434\n",
            "Loss: 0.9632\n",
            "Time for epoch 15 is 39.37010431289673 sec\n",
            "Epoch: 16/30\n"
          ]
        },
        {
          "metadata": {
            "tags": null
          },
          "name": "stderr",
          "output_type": "stream",
          "text": [
            "Current step 648: 100%|██████████| 649/649 [00:39<00:00, 16.54it/s, loss=0.986]\n"
          ]
        },
        {
          "metadata": {
            "tags": null
          },
          "name": "stdout",
          "output_type": "stream",
          "text": [
            "Sample:\n",
            "--------------------------------------------------------------------------------\n",
            "И сказал Господь: Я Сей я виновно; ибо с тобою Шув].\n",
            "\n",
            "28 \n",
            "--------------------------------------------------------------------------------\n",
            "\n",
            "Run time: 0.10647869110107422\n",
            "Loss: 0.9551\n",
            "Time for epoch 16 is 39.34582543373108 sec\n",
            "Epoch: 17/30\n"
          ]
        },
        {
          "metadata": {
            "tags": null
          },
          "name": "stderr",
          "output_type": "stream",
          "text": [
            "Current step 648: 100%|██████████| 649/649 [00:39<00:00, 16.57it/s, loss=0.987]\n"
          ]
        },
        {
          "metadata": {
            "tags": null
          },
          "name": "stdout",
          "output_type": "stream",
          "text": [
            "Sample:\n",
            "--------------------------------------------------------------------------------\n",
            "И сказал Господь: просиму вам глаза и скорчились мудрые.\n",
            "\n",
            "--------------------------------------------------------------------------------\n",
            "\n",
            "Run time: 0.15164613723754883\n",
            "Loss: 0.95\n",
            "Time for epoch 17 is 39.31575655937195 sec\n",
            "Epoch: 18/30\n"
          ]
        },
        {
          "metadata": {
            "tags": null
          },
          "name": "stderr",
          "output_type": "stream",
          "text": [
            "Current step 648: 100%|██████████| 649/649 [00:39<00:00, 16.50it/s, loss=0.961]\n"
          ]
        },
        {
          "metadata": {
            "tags": null
          },
          "name": "stdout",
          "output_type": "stream",
          "text": [
            "Sample:\n",
            "--------------------------------------------------------------------------------\n",
            "И сказал Господь: одна ли она благоугодно, то и делающие \n",
            "--------------------------------------------------------------------------------\n",
            "\n",
            "Run time: 0.2366635799407959\n",
            "Loss: 0.9451\n",
            "Time for epoch 18 is 39.588895082473755 sec\n",
            "Epoch: 19/30\n"
          ]
        },
        {
          "metadata": {
            "tags": null
          },
          "name": "stderr",
          "output_type": "stream",
          "text": [
            "Current step 648: 100%|██████████| 649/649 [00:39<00:00, 16.58it/s, loss=1.01]\n"
          ]
        },
        {
          "metadata": {
            "tags": null
          },
          "name": "stdout",
          "output_type": "stream",
          "text": [
            "Sample:\n",
            "--------------------------------------------------------------------------------\n",
            "И сказал Господь: и Я превратился в Ефес?\n",
            "\n",
            "4 Нераажув рук\n",
            "--------------------------------------------------------------------------------\n",
            "\n",
            "Run time: 0.1662147045135498\n",
            "Loss: 0.9431\n",
            "Time for epoch 19 is 39.32254242897034 sec\n",
            "Epoch: 20/30\n"
          ]
        },
        {
          "metadata": {
            "tags": null
          },
          "name": "stderr",
          "output_type": "stream",
          "text": [
            "Current step 648: 100%|██████████| 649/649 [00:38<00:00, 16.68it/s, loss=1.02]\n"
          ]
        },
        {
          "metadata": {
            "tags": null
          },
          "name": "stdout",
          "output_type": "stream",
          "text": [
            "Sample:\n",
            "--------------------------------------------------------------------------------\n",
            "И сказал Господь: истреблю к вашего тому, кто избавит его\n",
            "--------------------------------------------------------------------------------\n",
            "\n",
            "Run time: 0.1810452938079834\n",
            "Loss: 0.9406\n",
            "Time for epoch 20 is 39.1776020526886 sec\n",
            "Epoch: 21/30\n"
          ]
        },
        {
          "metadata": {
            "tags": null
          },
          "name": "stderr",
          "output_type": "stream",
          "text": [
            "Current step 648: 100%|██████████| 649/649 [00:39<00:00, 16.53it/s, loss=0.966]\n"
          ]
        },
        {
          "metadata": {
            "tags": null
          },
          "name": "stdout",
          "output_type": "stream",
          "text": [
            "Sample:\n",
            "--------------------------------------------------------------------------------\n",
            "И сказал Господь: пойдем все то, обращаясь.\n",
            "\n",
            "24 Помышлять\n",
            "--------------------------------------------------------------------------------\n",
            "\n",
            "Run time: 0.1624903678894043\n",
            "Loss: 0.9407\n",
            "Time for epoch 21 is 39.43990087509155 sec\n",
            "Epoch: 22/30\n"
          ]
        },
        {
          "output_type": "stream",
          "name": "stderr",
          "text": [
            "Current step 648: 100%|██████████| 649/649 [00:38<00:00, 16.65it/s, loss=0.982]\n"
          ]
        },
        {
          "output_type": "stream",
          "name": "stdout",
          "text": [
            "Sample:\n",
            "--------------------------------------------------------------------------------\n",
            "И сказал Господь: а ты поступлена дать тебе, а истоптал н\n",
            "--------------------------------------------------------------------------------\n",
            "\n",
            "Run time: 0.1083228588104248\n",
            "Loss: 0.9414\n",
            "Time for epoch 22 is 39.09136652946472 sec\n",
            "Epoch: 23/30\n"
          ]
        },
        {
          "output_type": "stream",
          "name": "stderr",
          "text": [
            "Current step 648: 100%|██████████| 649/649 [00:39<00:00, 16.47it/s, loss=0.971]\n"
          ]
        },
        {
          "output_type": "stream",
          "name": "stdout",
          "text": [
            "Sample:\n",
            "--------------------------------------------------------------------------------\n",
            "И сказал Господь: не забывай Меня, говорит Господь; и ист\n",
            "--------------------------------------------------------------------------------\n",
            "\n",
            "Run time: 0.11270976066589355\n",
            "Loss: 0.9421\n",
            "Time for epoch 23 is 39.536860942840576 sec\n",
            "Epoch: 24/30\n"
          ]
        },
        {
          "output_type": "stream",
          "name": "stderr",
          "text": [
            "Current step 648: 100%|██████████| 649/649 [00:39<00:00, 16.56it/s, loss=0.978]\n"
          ]
        },
        {
          "output_type": "stream",
          "name": "stdout",
          "text": [
            "Sample:\n",
            "--------------------------------------------------------------------------------\n",
            "И сказал Господь: встав и поклонясь все и услышал, что не\n",
            "--------------------------------------------------------------------------------\n",
            "\n",
            "Run time: 0.11475777626037598\n",
            "Loss: 0.9441\n",
            "Time for epoch 24 is 39.305697441101074 sec\n",
            "Epoch: 25/30\n"
          ]
        },
        {
          "output_type": "stream",
          "name": "stderr",
          "text": [
            "Current step 648: 100%|██████████| 649/649 [00:39<00:00, 16.62it/s, loss=0.992]\n"
          ]
        },
        {
          "output_type": "stream",
          "name": "stdout",
          "text": [
            "Sample:\n",
            "--------------------------------------------------------------------------------\n",
            "И сказал Господь: клясть творящего вино;\n",
            "\n",
            "6 и как он услы\n",
            "--------------------------------------------------------------------------------\n",
            "\n",
            "Run time: 0.09719276428222656\n",
            "Loss: 0.9477\n",
            "Time for epoch 25 is 39.20631003379822 sec\n",
            "Epoch: 26/30\n"
          ]
        },
        {
          "output_type": "stream",
          "name": "stderr",
          "text": [
            "Current step 648: 100%|██████████| 649/649 [00:39<00:00, 16.54it/s, loss=1.01]\n"
          ]
        },
        {
          "output_type": "stream",
          "name": "stdout",
          "text": [
            "Sample:\n",
            "--------------------------------------------------------------------------------\n",
            "И сказал Господь: правду, областный в законе и живых, по \n",
            "--------------------------------------------------------------------------------\n",
            "\n",
            "Run time: 0.1129603385925293\n",
            "Loss: 0.9495\n",
            "Time for epoch 26 is 39.366700887680054 sec\n",
            "Epoch: 27/30\n"
          ]
        },
        {
          "output_type": "stream",
          "name": "stderr",
          "text": [
            "Current step 648: 100%|██████████| 649/649 [00:39<00:00, 16.55it/s, loss=1.01]\n"
          ]
        },
        {
          "output_type": "stream",
          "name": "stdout",
          "text": [
            "Sample:\n",
            "--------------------------------------------------------------------------------\n",
            "И сказал Господь: истинно Я нашел в нем в ноздри, потому \n",
            "--------------------------------------------------------------------------------\n",
            "\n",
            "Run time: 0.11366009712219238\n",
            "Loss: 0.9547\n",
            "Time for epoch 27 is 39.330199003219604 sec\n",
            "Epoch: 28/30\n"
          ]
        },
        {
          "output_type": "stream",
          "name": "stderr",
          "text": [
            "Current step 648: 100%|██████████| 649/649 [00:39<00:00, 16.52it/s, loss=0.98]\n"
          ]
        },
        {
          "output_type": "stream",
          "name": "stdout",
          "text": [
            "Sample:\n",
            "--------------------------------------------------------------------------------\n",
            "И сказал Господь: книги Ты наказание Твое,\n",
            "\n",
            "23 ибо я увер\n",
            "--------------------------------------------------------------------------------\n",
            "\n",
            "Run time: 0.15414881706237793\n",
            "Loss: 0.9602\n",
            "Time for epoch 28 is 39.44335603713989 sec\n",
            "Epoch: 29/30\n"
          ]
        },
        {
          "output_type": "stream",
          "name": "stderr",
          "text": [
            "Current step 648: 100%|██████████| 649/649 [00:39<00:00, 16.56it/s, loss=0.988]\n"
          ]
        },
        {
          "output_type": "stream",
          "name": "stdout",
          "text": [
            "Sample:\n",
            "--------------------------------------------------------------------------------\n",
            "И сказал Господь: превосходится тебе три тысячи волос на \n",
            "--------------------------------------------------------------------------------\n",
            "\n",
            "Run time: 0.22824430465698242\n",
            "Loss: 0.9631\n",
            "Time for epoch 29 is 39.42437267303467 sec\n",
            "Epoch: 30/30\n"
          ]
        },
        {
          "output_type": "stream",
          "name": "stderr",
          "text": [
            "Current step 648: 100%|██████████| 649/649 [00:39<00:00, 16.58it/s, loss=0.999]\n"
          ]
        },
        {
          "output_type": "stream",
          "name": "stdout",
          "text": [
            "Sample:\n",
            "--------------------------------------------------------------------------------\n",
            "И сказал Господь: истребление было такое случиться избыто\n",
            "--------------------------------------------------------------------------------\n",
            "\n",
            "Run time: 0.2166755199432373\n",
            "Loss: 0.9676\n",
            "Time for epoch 30 is 39.49124217033386 sec\n"
          ]
        }
      ],
      "source": [
        "train(dataset)"
      ]
    },
    {
      "cell_type": "code",
      "source": [
        "print(predict_text('И сказал Господь:', 100))"
      ],
      "metadata": {
        "colab": {
          "base_uri": "https://localhost:8080/"
        },
        "id": "prYz0KrkxpvG",
        "outputId": "d4f1e35f-7263-4e32-9dba-66b2ce03ba64"
      },
      "execution_count": 140,
      "outputs": [
        {
          "output_type": "stream",
          "name": "stdout",
          "text": [
            "И сказал Господь: псотушите Мне. Они же, мы все погибли с ними.\n",
            "\n",
            "14 И кто ступится поручить тебя, Иуда, узнав образу \n"
          ]
        }
      ]
    }
  ],
  "metadata": {
    "accelerator": "GPU",
    "colab": {
      "provenance": [],
      "gpuType": "T4",
      "include_colab_link": true
    },
    "kernelspec": {
      "display_name": "Python 3",
      "name": "python3"
    }
  },
  "nbformat": 4,
  "nbformat_minor": 0
}