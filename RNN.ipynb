{
  "cells": [
    {
      "cell_type": "markdown",
      "metadata": {
        "id": "view-in-github",
        "colab_type": "text"
      },
      "source": [
        "<a href=\"https://colab.research.google.com/github/xarvel/DataScience/blob/master/RNN.ipynb\" target=\"_parent\"><img src=\"https://colab.research.google.com/assets/colab-badge.svg\" alt=\"Open In Colab\"/></a>"
      ]
    },
    {
      "cell_type": "code",
      "execution_count": 1,
      "metadata": {
        "id": "FxIvX3jnR-Ni"
      },
      "outputs": [],
      "source": [
        "import tensorflow as tf\n",
        "\n",
        "import numpy as np\n",
        "import os\n",
        "import time"
      ]
    },
    {
      "cell_type": "code",
      "execution_count": 2,
      "metadata": {
        "colab": {
          "base_uri": "https://localhost:8080/"
        },
        "id": "Mf9mXb2HQmBu",
        "outputId": "ee2d6fdc-ab33-4c89-b79d-0eab3b791ee5"
      },
      "outputs": [
        {
          "output_type": "stream",
          "name": "stdout",
          "text": [
            "Downloading data from https://storage.googleapis.com/download.tensorflow.org/data/shakespeare.txt\n",
            "1115394/1115394 [==============================] - 1s 1us/step\n"
          ]
        }
      ],
      "source": [
        "path_to_file = tf.keras.utils.get_file('shakespeare.txt', 'https://storage.googleapis.com/download.tensorflow.org/data/shakespeare.txt')"
      ]
    },
    {
      "cell_type": "code",
      "execution_count": 3,
      "metadata": {
        "id": "Vz9YuBUtXAZ0"
      },
      "outputs": [],
      "source": [
        "def text_stats(text):\n",
        "  sample_size = 250\n",
        "  print(f'Sample {sample_size} characters:')\n",
        "  print('-' * 80)\n",
        "  # Take a look at the first 250 characters in text\n",
        "  print(text[:sample_size])\n",
        "  print('-' * 80)\n",
        "  # length of text is the number of characters in it\n",
        "  print(f'Length of text: {len(text)} characters')\n",
        "  # The unique characters in the file\n",
        "  vocab = sorted(set(text))\n",
        "  print(f'{len(vocab)} unique characters')\n",
        "\n",
        "  return vocab"
      ]
    },
    {
      "cell_type": "code",
      "execution_count": 4,
      "metadata": {
        "colab": {
          "base_uri": "https://localhost:8080/"
        },
        "id": "KWjUhFzvUb1P",
        "outputId": "11271329-b95d-4ea3-c189-7dd0961b0559"
      },
      "outputs": [
        {
          "output_type": "stream",
          "name": "stdout",
          "text": [
            "Sample 250 characters:\n",
            "--------------------------------------------------------------------------------\n",
            "First Citizen:\n",
            "Before we proceed any further, hear me speak.\n",
            "\n",
            "All:\n",
            "Speak, speak.\n",
            "\n",
            "First Citizen:\n",
            "You are all resolved rather to die than to famish?\n",
            "\n",
            "All:\n",
            "Resolved. resolved.\n",
            "\n",
            "First Citizen:\n",
            "First, you know Caius Marcius is chief enemy to the people.\n",
            "\n",
            "--------------------------------------------------------------------------------\n",
            "Length of text: 1115394 characters\n",
            "65 unique characters\n"
          ]
        }
      ],
      "source": [
        "# Read, then decode for py2 compat.\n",
        "text = open(path_to_file, 'rb').read().decode(encoding='utf-8')\n",
        "vocab = text_stats(text)"
      ]
    },
    {
      "cell_type": "code",
      "execution_count": 5,
      "metadata": {
        "id": "evYWmHCZ3ymu"
      },
      "outputs": [],
      "source": [
        "SEQUENCE_LENGTH = 100\n",
        "\n",
        "# Batch size\n",
        "BATCH_SIZE = 64\n",
        "\n",
        "# Buffer size to shuffle the dataset\n",
        "# (TF data is designed to work with possibly infinite sequences,\n",
        "# so it doesn't attempt to shuffle the entire sequence in memory. Instead,\n",
        "# it maintains a buffer in which it shuffles elements).\n",
        "BUFFER_SIZE = 10000\n",
        "\n",
        "# The embedding dimension\n",
        "EMBEDDING_DIMENTION = 256\n",
        "\n",
        "# Number of RNN units\n",
        "RNN_UNITS = 1024"
      ]
    },
    {
      "cell_type": "code",
      "execution_count": 6,
      "metadata": {
        "id": "x8LfVRWqyaoK"
      },
      "outputs": [],
      "source": [
        "ids_from_chars = tf.keras.layers.StringLookup(\n",
        "    vocabulary=list(vocab),\n",
        "    mask_token=None\n",
        ")\n",
        "chars_from_ids = tf.keras.layers.StringLookup(\n",
        "    vocabulary=ids_from_chars.get_vocabulary(),\n",
        "    invert=True,\n",
        "    mask_token=None\n",
        ")"
      ]
    },
    {
      "cell_type": "code",
      "execution_count": 7,
      "metadata": {
        "id": "uPP-G3X4PrcT"
      },
      "outputs": [],
      "source": [
        "# Length of the vocabulary in StringLookup Layer\n",
        "VOCAB_SIZE = len(ids_from_chars.get_vocabulary())"
      ]
    },
    {
      "cell_type": "code",
      "execution_count": 8,
      "metadata": {
        "id": "Vo6-HzZkR1Pl"
      },
      "outputs": [],
      "source": [
        "def text_from_ids(ids):\n",
        "  return tf.strings.reduce_join(chars_from_ids(ids), axis=-1)\n",
        "\n",
        "def split_input_target(sequence):\n",
        "    input_text = sequence[:-1]\n",
        "    target_text = sequence[1:]\n",
        "    return input_text, target_text"
      ]
    },
    {
      "cell_type": "code",
      "execution_count": 9,
      "metadata": {
        "id": "rj3-jNK5R49M"
      },
      "outputs": [],
      "source": [
        "all_ids = ids_from_chars(tf.strings.unicode_split(text, 'UTF-8'))\n",
        "ids_dataset = tf.data.Dataset.from_tensor_slices(all_ids)\n",
        "sequences = ids_dataset.batch(SEQUENCE_LENGTH + 1, drop_remainder=True)\n",
        "dataset = sequences.map(split_input_target)"
      ]
    },
    {
      "cell_type": "code",
      "execution_count": 10,
      "metadata": {
        "colab": {
          "base_uri": "https://localhost:8080/"
        },
        "id": "GNfX5YOhSFeN",
        "outputId": "4ab38e9f-4b4d-4cc7-8de0-c7ebc2808e2b"
      },
      "outputs": [
        {
          "output_type": "stream",
          "name": "stdout",
          "text": [
            "Input : b'First Citizen:\\nBefore we proceed any further, hear me speak.\\n\\nAll:\\nSpeak, speak.\\n\\nFirst Citizen:\\nYou'\n",
            "Target: b'irst Citizen:\\nBefore we proceed any further, hear me speak.\\n\\nAll:\\nSpeak, speak.\\n\\nFirst Citizen:\\nYou '\n"
          ]
        }
      ],
      "source": [
        "for input_example, target_example in dataset.take(1):\n",
        "    print(\"Input :\", text_from_ids(input_example).numpy())\n",
        "    print(\"Target:\", text_from_ids(target_example).numpy())"
      ]
    },
    {
      "cell_type": "code",
      "execution_count": 11,
      "metadata": {
        "colab": {
          "base_uri": "https://localhost:8080/"
        },
        "id": "3075WT7nSGsV",
        "outputId": "16d33f41-e3e1-40d2-f830-82112a3861f9"
      },
      "outputs": [
        {
          "output_type": "execute_result",
          "data": {
            "text/plain": [
              "<_PrefetchDataset element_spec=(TensorSpec(shape=(64, 100), dtype=tf.int64, name=None), TensorSpec(shape=(64, 100), dtype=tf.int64, name=None))>"
            ]
          },
          "metadata": {},
          "execution_count": 11
        }
      ],
      "source": [
        "dataset = dataset.shuffle(BUFFER_SIZE).batch(BATCH_SIZE, drop_remainder=True).prefetch(tf.data.experimental.AUTOTUNE)\n",
        "\n",
        "dataset"
      ]
    },
    {
      "cell_type": "code",
      "execution_count": 12,
      "metadata": {
        "id": "dlQT7LicSLl7"
      },
      "outputs": [],
      "source": [
        "class RNNModel(tf.keras.Model):\n",
        "  def __init__(self, vocab_size, embedding_dim, rnn_units):\n",
        "    super().__init__(self)\n",
        "    self.embedding = tf.keras.layers.Embedding(vocab_size, embedding_dim)\n",
        "    self.gru = tf.keras.layers.GRU(\n",
        "        rnn_units,\n",
        "        return_sequences=True,\n",
        "        return_state=True\n",
        "    )\n",
        "    self.dense = tf.keras.layers.Dense(vocab_size)\n",
        "\n",
        "  def call(self, inputs, states=None, return_state=False, training=False):\n",
        "    x = inputs\n",
        "    x = self.embedding(x, training=training)\n",
        "    if states is None:\n",
        "      states = self.gru.get_initial_state(x)\n",
        "    x, states = self.gru(x, initial_state=states, training=training)\n",
        "    x = self.dense(x, training=training)\n",
        "\n",
        "    if return_state:\n",
        "      return x, states\n",
        "    else:\n",
        "      return x\n",
        "\n",
        "  @tf.function\n",
        "  def train_step(self, inputs):\n",
        "      inputs, labels = inputs\n",
        "      with tf.GradientTape() as tape:\n",
        "          predictions = self(inputs, training=True)\n",
        "          loss = self.loss(labels, predictions)\n",
        "      grads = tape.gradient(loss, model.trainable_variables)\n",
        "      self.optimizer.apply_gradients(zip(grads, model.trainable_variables))\n",
        "\n",
        "      return {'loss': loss}"
      ]
    },
    {
      "cell_type": "code",
      "execution_count": 13,
      "metadata": {
        "id": "7tcX8ioUSMvD"
      },
      "outputs": [],
      "source": [
        "model = RNNModel(\n",
        "    vocab_size=VOCAB_SIZE,\n",
        "    embedding_dim=EMBEDDING_DIMENTION,\n",
        "    rnn_units=RNN_UNITS\n",
        ")"
      ]
    },
    {
      "cell_type": "code",
      "execution_count": 14,
      "metadata": {
        "colab": {
          "base_uri": "https://localhost:8080/"
        },
        "id": "A4_AVijRSQgr",
        "outputId": "262cf7d9-38ad-4e1e-e0fb-9131d85c9fa1"
      },
      "outputs": [
        {
          "output_type": "stream",
          "name": "stdout",
          "text": [
            "Model: \"rnn_model\"\n",
            "_________________________________________________________________\n",
            " Layer (type)                Output Shape              Param #   \n",
            "=================================================================\n",
            " embedding (Embedding)       multiple                  16896     \n",
            "                                                                 \n",
            " gru (GRU)                   multiple                  3938304   \n",
            "                                                                 \n",
            " dense (Dense)               multiple                  67650     \n",
            "                                                                 \n",
            "=================================================================\n",
            "Total params: 4022850 (15.35 MB)\n",
            "Trainable params: 4022850 (15.35 MB)\n",
            "Non-trainable params: 0 (0.00 Byte)\n",
            "_________________________________________________________________\n"
          ]
        }
      ],
      "source": [
        "model.build((SEQUENCE_LENGTH, VOCAB_SIZE))\n",
        "model.summary()"
      ]
    },
    {
      "cell_type": "code",
      "execution_count": 15,
      "metadata": {
        "id": "-mOgRkc0SU5y"
      },
      "outputs": [],
      "source": [
        "loss = tf.losses.SparseCategoricalCrossentropy(from_logits=True)"
      ]
    },
    {
      "cell_type": "code",
      "execution_count": 16,
      "metadata": {
        "id": "FcOJJEurSY30"
      },
      "outputs": [],
      "source": [
        "model.compile(optimizer='adam', loss=loss)"
      ]
    },
    {
      "cell_type": "code",
      "execution_count": 17,
      "metadata": {
        "id": "pUwfIDZfSaGS"
      },
      "outputs": [],
      "source": [
        "# Directory where the checkpoints will be saved\n",
        "checkpoint_dir = './training_checkpoints'\n",
        "# Name of the checkpoint files\n",
        "checkpoint_prefix = os.path.join(checkpoint_dir, \"ckpt_{epoch}\")\n",
        "\n",
        "checkpoint_callback = tf.keras.callbacks.ModelCheckpoint(\n",
        "    filepath=checkpoint_prefix,\n",
        "    save_weights_only=True)"
      ]
    },
    {
      "cell_type": "code",
      "execution_count": 18,
      "metadata": {
        "id": "eF-C8c-KSbLB"
      },
      "outputs": [],
      "source": [
        "EPOCHS = 20"
      ]
    },
    {
      "cell_type": "code",
      "execution_count": 19,
      "metadata": {
        "colab": {
          "base_uri": "https://localhost:8080/"
        },
        "id": "qHHQ50UIScN-",
        "outputId": "861b2a22-3333-4c69-c197-288ac3fd0252"
      },
      "outputs": [
        {
          "output_type": "stream",
          "name": "stdout",
          "text": [
            "Epoch 1 Batch 0 Loss 4.1893\n",
            "Epoch 1 Batch 50 Loss 2.8173\n",
            "Epoch 1 Batch 100 Loss 2.3543\n",
            "Epoch 1 Batch 150 Loss 2.2344\n",
            "\n",
            "Epoch 1 Loss: 2.7151\n",
            "Time taken for 1 epoch 23.25 sec\n",
            "________________________________________________________________________________\n",
            "Epoch 2 Batch 0 Loss 2.1962\n",
            "Epoch 2 Batch 50 Loss 2.0573\n",
            "Epoch 2 Batch 100 Loss 1.9414\n",
            "Epoch 2 Batch 150 Loss 1.8585\n",
            "\n",
            "Epoch 2 Loss: 1.9913\n",
            "Time taken for 1 epoch 10.43 sec\n",
            "________________________________________________________________________________\n",
            "Epoch 3 Batch 0 Loss 1.7640\n",
            "Epoch 3 Batch 50 Loss 1.7264\n",
            "Epoch 3 Batch 100 Loss 1.6562\n",
            "Epoch 3 Batch 150 Loss 1.6445\n",
            "\n",
            "Epoch 3 Loss: 1.7120\n",
            "Time taken for 1 epoch 11.05 sec\n",
            "________________________________________________________________________________\n",
            "Epoch 4 Batch 0 Loss 1.6201\n",
            "Epoch 4 Batch 50 Loss 1.5507\n",
            "Epoch 4 Batch 100 Loss 1.5321\n",
            "Epoch 4 Batch 150 Loss 1.5451\n",
            "\n",
            "Epoch 4 Loss: 1.5509\n",
            "Time taken for 1 epoch 10.01 sec\n",
            "________________________________________________________________________________\n",
            "Epoch 5 Batch 0 Loss 1.4346\n",
            "Epoch 5 Batch 50 Loss 1.4941\n",
            "Epoch 5 Batch 100 Loss 1.4007\n",
            "Epoch 5 Batch 150 Loss 1.3857\n",
            "\n",
            "Epoch 5 Loss: 1.4513\n",
            "Time taken for 1 epoch 10.23 sec\n",
            "________________________________________________________________________________\n",
            "Epoch 6 Batch 0 Loss 1.3128\n",
            "Epoch 6 Batch 50 Loss 1.3863\n",
            "Epoch 6 Batch 100 Loss 1.3678\n",
            "Epoch 6 Batch 150 Loss 1.4023\n",
            "\n",
            "Epoch 6 Loss: 1.3830\n",
            "Time taken for 1 epoch 10.21 sec\n",
            "________________________________________________________________________________\n",
            "Epoch 7 Batch 0 Loss 1.3049\n",
            "Epoch 7 Batch 50 Loss 1.3192\n",
            "Epoch 7 Batch 100 Loss 1.3092\n",
            "Epoch 7 Batch 150 Loss 1.3720\n",
            "\n",
            "Epoch 7 Loss: 1.3305\n",
            "Time taken for 1 epoch 11.93 sec\n",
            "________________________________________________________________________________\n",
            "Epoch 8 Batch 0 Loss 1.2984\n",
            "Epoch 8 Batch 50 Loss 1.2897\n",
            "Epoch 8 Batch 100 Loss 1.2938\n",
            "Epoch 8 Batch 150 Loss 1.2720\n",
            "\n",
            "Epoch 8 Loss: 1.2862\n",
            "Time taken for 1 epoch 10.29 sec\n",
            "________________________________________________________________________________\n",
            "Epoch 9 Batch 0 Loss 1.2313\n",
            "Epoch 9 Batch 50 Loss 1.2362\n",
            "Epoch 9 Batch 100 Loss 1.2713\n",
            "Epoch 9 Batch 150 Loss 1.2406\n",
            "\n",
            "Epoch 9 Loss: 1.2444\n",
            "Time taken for 1 epoch 10.31 sec\n",
            "________________________________________________________________________________\n",
            "Epoch 10 Batch 0 Loss 1.2510\n",
            "Epoch 10 Batch 50 Loss 1.1548\n",
            "Epoch 10 Batch 100 Loss 1.2449\n",
            "Epoch 10 Batch 150 Loss 1.2468\n",
            "\n",
            "Epoch 10 Loss: 1.2050\n",
            "Time taken for 1 epoch 20.54 sec\n",
            "________________________________________________________________________________\n",
            "Epoch 11 Batch 0 Loss 1.1407\n",
            "Epoch 11 Batch 50 Loss 1.2101\n",
            "Epoch 11 Batch 100 Loss 1.2063\n",
            "Epoch 11 Batch 150 Loss 1.1525\n",
            "\n",
            "Epoch 11 Loss: 1.1661\n",
            "Time taken for 1 epoch 10.97 sec\n",
            "________________________________________________________________________________\n",
            "Epoch 12 Batch 0 Loss 1.0963\n",
            "Epoch 12 Batch 50 Loss 1.1317\n",
            "Epoch 12 Batch 100 Loss 1.1565\n",
            "Epoch 12 Batch 150 Loss 1.1335\n",
            "\n",
            "Epoch 12 Loss: 1.1245\n",
            "Time taken for 1 epoch 10.27 sec\n",
            "________________________________________________________________________________\n",
            "Epoch 13 Batch 0 Loss 1.0533\n",
            "Epoch 13 Batch 50 Loss 1.0570\n",
            "Epoch 13 Batch 100 Loss 1.1023\n",
            "Epoch 13 Batch 150 Loss 1.0681\n",
            "\n",
            "Epoch 13 Loss: 1.0820\n",
            "Time taken for 1 epoch 20.47 sec\n",
            "________________________________________________________________________________\n",
            "Epoch 14 Batch 0 Loss 0.9901\n",
            "Epoch 14 Batch 50 Loss 1.0690\n",
            "Epoch 14 Batch 100 Loss 1.0365\n",
            "Epoch 14 Batch 150 Loss 1.0792\n",
            "\n",
            "Epoch 14 Loss: 1.0358\n",
            "Time taken for 1 epoch 11.82 sec\n",
            "________________________________________________________________________________\n",
            "Epoch 15 Batch 0 Loss 0.9559\n",
            "Epoch 15 Batch 50 Loss 0.9923\n",
            "Epoch 15 Batch 100 Loss 0.9745\n",
            "Epoch 15 Batch 150 Loss 1.0278\n",
            "\n",
            "Epoch 15 Loss: 0.9881\n",
            "Time taken for 1 epoch 10.57 sec\n",
            "________________________________________________________________________________\n",
            "Epoch 16 Batch 0 Loss 0.8986\n",
            "Epoch 16 Batch 50 Loss 0.9223\n",
            "Epoch 16 Batch 100 Loss 0.9382\n",
            "Epoch 16 Batch 150 Loss 0.9612\n",
            "\n",
            "Epoch 16 Loss: 0.9380\n",
            "Time taken for 1 epoch 10.55 sec\n",
            "________________________________________________________________________________\n",
            "Epoch 17 Batch 0 Loss 0.8414\n",
            "Epoch 17 Batch 50 Loss 0.8642\n",
            "Epoch 17 Batch 100 Loss 0.8878\n",
            "Epoch 17 Batch 150 Loss 0.9134\n",
            "\n",
            "Epoch 17 Loss: 0.8854\n",
            "Time taken for 1 epoch 10.68 sec\n",
            "________________________________________________________________________________\n",
            "Epoch 18 Batch 0 Loss 0.7863\n",
            "Epoch 18 Batch 50 Loss 0.7845\n",
            "Epoch 18 Batch 100 Loss 0.8443\n",
            "Epoch 18 Batch 150 Loss 0.8890\n",
            "\n",
            "Epoch 18 Loss: 0.8324\n",
            "Time taken for 1 epoch 12.07 sec\n",
            "________________________________________________________________________________\n",
            "Epoch 19 Batch 0 Loss 0.7208\n",
            "Epoch 19 Batch 50 Loss 0.7683\n",
            "Epoch 19 Batch 100 Loss 0.8145\n",
            "Epoch 19 Batch 150 Loss 0.8220\n",
            "\n",
            "Epoch 19 Loss: 0.7819\n",
            "Time taken for 1 epoch 11.77 sec\n",
            "________________________________________________________________________________\n",
            "Epoch 20 Batch 0 Loss 0.6820\n",
            "Epoch 20 Batch 50 Loss 0.6915\n",
            "Epoch 20 Batch 100 Loss 0.7360\n",
            "Epoch 20 Batch 150 Loss 0.7629\n",
            "\n",
            "Epoch 20 Loss: 0.7318\n",
            "Time taken for 1 epoch 11.11 sec\n",
            "________________________________________________________________________________\n"
          ]
        }
      ],
      "source": [
        "mean = tf.metrics.Mean()\n",
        "\n",
        "for epoch in range(EPOCHS):\n",
        "    start = time.time()\n",
        "\n",
        "    mean.reset_states()\n",
        "    for (batch_n, (inp, target)) in enumerate(dataset):\n",
        "        logs = model.train_step([inp, target])\n",
        "        mean.update_state(logs['loss'])\n",
        "\n",
        "        if batch_n % 50 == 0:\n",
        "            template = f\"Epoch {epoch+1} Batch {batch_n} Loss {logs['loss']:.4f}\"\n",
        "            print(template)\n",
        "\n",
        "    # saving (checkpoint) the model every 5 epochs\n",
        "    if (epoch + 1) % 5 == 0:\n",
        "        model.save_weights(checkpoint_prefix.format(epoch=epoch))\n",
        "\n",
        "    print()\n",
        "    print(f'Epoch {epoch+1} Loss: {mean.result().numpy():.4f}')\n",
        "    print(f'Time taken for 1 epoch {time.time() - start:.2f} sec')\n",
        "    print(\"_\"*80)"
      ]
    },
    {
      "cell_type": "code",
      "execution_count": 20,
      "metadata": {
        "id": "qCKnc8DESdgT"
      },
      "outputs": [],
      "source": [
        "class OneStep(tf.keras.Model):\n",
        "  def __init__(self, model, chars_from_ids, ids_from_chars, temperature=1.0):\n",
        "    super().__init__()\n",
        "    self.temperature = temperature\n",
        "    self.model = model\n",
        "    self.chars_from_ids = chars_from_ids\n",
        "    self.ids_from_chars = ids_from_chars\n",
        "\n",
        "    # Create a mask to prevent \"[UNK]\" from being generated.\n",
        "    skip_ids = self.ids_from_chars(['[UNK]'])[:, None]\n",
        "    sparse_mask = tf.SparseTensor(\n",
        "        # Put a -inf at each bad index.\n",
        "        values=[-float('inf')]*len(skip_ids),\n",
        "        indices=skip_ids,\n",
        "        # Match the shape to the vocabulary\n",
        "        dense_shape=[len(ids_from_chars.get_vocabulary())])\n",
        "    self.prediction_mask = tf.sparse.to_dense(sparse_mask)\n",
        "\n",
        "  @tf.function\n",
        "  def generate_one_step(self, inputs, states=None):\n",
        "    # Convert strings to token IDs.\n",
        "    input_chars = tf.strings.unicode_split(inputs, 'UTF-8')\n",
        "    input_ids = self.ids_from_chars(input_chars).to_tensor()\n",
        "\n",
        "    # Run the model.\n",
        "    # predicted_logits.shape is [batch, char, next_char_logits]\n",
        "    predicted_logits, states = self.model(inputs=input_ids, states=states,\n",
        "                                          return_state=True)\n",
        "    # Only use the last prediction.\n",
        "    predicted_logits = predicted_logits[:, -1, :]\n",
        "    predicted_logits = predicted_logits/self.temperature\n",
        "    # Apply the prediction mask: prevent \"[UNK]\" from being generated.\n",
        "    predicted_logits = predicted_logits + self.prediction_mask\n",
        "\n",
        "    # Sample the output logits to generate token IDs.\n",
        "    predicted_ids = tf.random.categorical(predicted_logits, num_samples=1)\n",
        "    predicted_ids = tf.squeeze(predicted_ids, axis=-1)\n",
        "\n",
        "    # Convert from token ids to characters\n",
        "    predicted_chars = self.chars_from_ids(predicted_ids)\n",
        "\n",
        "    # Return the characters and model state.\n",
        "    return predicted_chars, states"
      ]
    },
    {
      "cell_type": "code",
      "execution_count": 21,
      "metadata": {
        "id": "T6xQNohbSetS"
      },
      "outputs": [],
      "source": [
        "one_step_model = OneStep(model, chars_from_ids, ids_from_chars)"
      ]
    },
    {
      "cell_type": "code",
      "execution_count": 22,
      "metadata": {
        "id": "zmQH3Ip-ahiU"
      },
      "outputs": [],
      "source": [
        "def predict_text(start_text, size):\n",
        "  start = time.time()\n",
        "  states = None\n",
        "  next_char = tf.constant([start_text])\n",
        "  result = [next_char]\n",
        "\n",
        "  for n in range(size):\n",
        "    next_char, states = one_step_model.generate_one_step(next_char, states=states)\n",
        "    result.append(next_char)\n",
        "\n",
        "  result = tf.strings.join(result)\n",
        "  end = time.time()\n",
        "  print(result[0].numpy().decode('utf-8'), '\\n\\n' + '_' * 80)\n",
        "  print('\\nRun time:', end - start)"
      ]
    },
    {
      "cell_type": "code",
      "execution_count": 23,
      "metadata": {
        "id": "YzMMnyOKSgCz",
        "colab": {
          "base_uri": "https://localhost:8080/"
        },
        "outputId": "4805671c-85a7-41f7-b200-a58285197dd2"
      },
      "outputs": [
        {
          "output_type": "stream",
          "name": "stdout",
          "text": [
            "ROMEO:\n",
            "Not or alize and her understand.\n",
            "\n",
            "DUKE VINCENTIO:\n",
            "I had pinined it as you.\n",
            "\n",
            "ARCHIDAMUS:\n",
            "What, is new born to't?\n",
            "\n",
            "PETRUCHIO:\n",
            "A sign of kings, to choose me for thy fault's proud,\n",
            "But, like a traitor and a heavier traitor.\n",
            "\n",
            "KING HENRY VI:\n",
            "For which no wrong more-spirit, made your manlets;\n",
            "List not a kinsman: noble frozens in\n",
            "the infirmity of sleep, alack, this face,\n",
            "And nettles precious little better curse\n",
            "Hath Hadly more a single trick\n",
            "For time of desperate ancient to our hair\n",
            "Below this spounding throne an oak,\n",
            "And heaven's sightly service, which I do remember\n",
            "Myself that could we adjudge their lives\n",
            "Brought him from man of my owlings; therefore, now,\n",
            "Now forsworn! that fetch shall find Bohemia's woe.\n",
            "\n",
            "KING EDWARD IV:\n",
            "Bawe, friar! Give me a ledge? cry:\n",
            "It was his grave in matter that must I think,\n",
            "To crush an old marcius' man, I'll help me\n",
            "To the sound corpers' treason: he is past\n",
            "Am I a sight in Argination.\n",
            "\n",
            "FLORIZEL:\n",
            "Strength,\n",
            "To sing and bark at once, you fain deny could'st,\n",
            "And mus \n",
            "\n",
            "________________________________________________________________________________\n",
            "\n",
            "Run time: 3.173550844192505\n"
          ]
        }
      ],
      "source": [
        "predict_text('ROMEO:', 1000)"
      ]
    },
    {
      "cell_type": "code",
      "execution_count": 24,
      "metadata": {
        "id": "TXkZo_8ASjbU",
        "colab": {
          "base_uri": "https://localhost:8080/"
        },
        "outputId": "e8a4656f-7ad3-40cf-829f-37c9dd82a559"
      },
      "outputs": [
        {
          "output_type": "stream",
          "name": "stderr",
          "text": [
            "WARNING:tensorflow:Skipping full serialization of Keras layer <__main__.OneStep object at 0x7c00d13272e0>, because it is not built.\n",
            "WARNING:tensorflow:Model's `__init__()` arguments contain non-serializable objects. Please implement a `get_config()` method in the subclassed Model for proper saving and loading. Defaulting to empty config.\n",
            "WARNING:tensorflow:Model's `__init__()` arguments contain non-serializable objects. Please implement a `get_config()` method in the subclassed Model for proper saving and loading. Defaulting to empty config.\n"
          ]
        }
      ],
      "source": [
        "tf.saved_model.save(one_step_model, 'one_step')\n",
        "one_step_reloaded = tf.saved_model.load('one_step')"
      ]
    }
  ],
  "metadata": {
    "accelerator": "GPU",
    "colab": {
      "provenance": [],
      "gpuType": "T4",
      "include_colab_link": true
    },
    "kernelspec": {
      "display_name": "Python 3",
      "name": "python3"
    }
  },
  "nbformat": 4,
  "nbformat_minor": 0
}