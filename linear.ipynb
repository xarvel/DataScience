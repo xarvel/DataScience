{
  "nbformat": 4,
  "nbformat_minor": 0,
  "metadata": {
    "colab": {
      "name": "linear.ipynb",
      "version": "0.3.2",
      "provenance": [],
      "collapsed_sections": [],
      "include_colab_link": true
    },
    "kernelspec": {
      "name": "python3",
      "display_name": "Python 3"
    }
  },
  "cells": [
    {
      "cell_type": "markdown",
      "metadata": {
        "id": "view-in-github",
        "colab_type": "text"
      },
      "source": [
        "[View in Colaboratory](https://colab.research.google.com/github/xarvel/DataScience/blob/master/linear.ipynb)"
      ]
    },
    {
      "metadata": {
        "id": "aNWLHDTkIBXU",
        "colab_type": "code",
        "colab": {}
      },
      "cell_type": "code",
      "source": [
        "import numpy as np\n",
        "import matplotlib.pyplot as plt"
      ],
      "execution_count": 0,
      "outputs": []
    },
    {
      "metadata": {
        "id": "CYtQdaiwI3jb",
        "colab_type": "code",
        "colab": {}
      },
      "cell_type": "code",
      "source": [
        "import keras\n",
        "from keras.models import Sequential\n",
        "from keras.layers import Dense"
      ],
      "execution_count": 0,
      "outputs": []
    },
    {
      "metadata": {
        "id": "pgHU8_d9I6a0",
        "colab_type": "code",
        "colab": {}
      },
      "cell_type": "code",
      "source": [
        "train_data_X = np.linspace(-1,1,101)\n",
        "train_data_Y = 4* train_data_X + np.random.randn(101) * 0.44\n"
      ],
      "execution_count": 0,
      "outputs": []
    },
    {
      "metadata": {
        "id": "9-4-1zGuL_-L",
        "colab_type": "code",
        "colab": {
          "base_uri": "https://localhost:8080/",
          "height": 221
        },
        "outputId": "feece5f7-36da-4694-ed58-dc8818ca02f6"
      },
      "cell_type": "code",
      "source": [
        "train_data_X"
      ],
      "execution_count": 123,
      "outputs": [
        {
          "output_type": "execute_result",
          "data": {
            "text/plain": [
              "array([-1.  , -0.98, -0.96, -0.94, -0.92, -0.9 , -0.88, -0.86, -0.84,\n",
              "       -0.82, -0.8 , -0.78, -0.76, -0.74, -0.72, -0.7 , -0.68, -0.66,\n",
              "       -0.64, -0.62, -0.6 , -0.58, -0.56, -0.54, -0.52, -0.5 , -0.48,\n",
              "       -0.46, -0.44, -0.42, -0.4 , -0.38, -0.36, -0.34, -0.32, -0.3 ,\n",
              "       -0.28, -0.26, -0.24, -0.22, -0.2 , -0.18, -0.16, -0.14, -0.12,\n",
              "       -0.1 , -0.08, -0.06, -0.04, -0.02,  0.  ,  0.02,  0.04,  0.06,\n",
              "        0.08,  0.1 ,  0.12,  0.14,  0.16,  0.18,  0.2 ,  0.22,  0.24,\n",
              "        0.26,  0.28,  0.3 ,  0.32,  0.34,  0.36,  0.38,  0.4 ,  0.42,\n",
              "        0.44,  0.46,  0.48,  0.5 ,  0.52,  0.54,  0.56,  0.58,  0.6 ,\n",
              "        0.62,  0.64,  0.66,  0.68,  0.7 ,  0.72,  0.74,  0.76,  0.78,\n",
              "        0.8 ,  0.82,  0.84,  0.86,  0.88,  0.9 ,  0.92,  0.94,  0.96,\n",
              "        0.98,  1.  ])"
            ]
          },
          "metadata": {
            "tags": []
          },
          "execution_count": 123
        }
      ]
    },
    {
      "metadata": {
        "id": "HwYyT0QZMAz2",
        "colab_type": "code",
        "colab": {
          "base_uri": "https://localhost:8080/",
          "height": 374
        },
        "outputId": "65a51863-db39-48fb-e5d2-ebe9c86ed713"
      },
      "cell_type": "code",
      "source": [
        "train_data_Y"
      ],
      "execution_count": 124,
      "outputs": [
        {
          "output_type": "execute_result",
          "data": {
            "text/plain": [
              "array([-4.00098541, -4.36971126, -3.75289876, -4.27787012, -3.89174701,\n",
              "       -3.29456234, -3.47685088, -3.42530859, -3.53583249, -3.57438568,\n",
              "       -3.26602995, -3.48362799, -2.57375963, -3.20555006, -3.36102756,\n",
              "       -3.15729491, -2.87363605, -2.55271526, -2.97441009, -2.56915242,\n",
              "       -1.88958777, -3.02278852, -1.36843915, -2.23365179, -1.82568022,\n",
              "       -2.11891984, -2.18476057, -2.45620098, -2.33578924, -1.19925258,\n",
              "       -1.61148558, -1.40936962, -2.06925799, -0.88019418, -0.79235692,\n",
              "       -0.77316646, -1.34836948, -0.92207322, -0.66529534, -1.11596629,\n",
              "       -0.85608889, -1.24112162,  0.21989078, -0.81807294, -0.98321509,\n",
              "       -0.75859455, -0.48912949, -0.52692782, -0.28964411,  0.56666853,\n",
              "       -0.18971689, -0.97638899, -0.30465851, -0.6497355 , -0.10050426,\n",
              "        1.09551774,  0.34671747,  1.69626354,  1.40918396,  1.19473127,\n",
              "        1.13645864,  1.21580567,  0.6025297 ,  1.67629433,  1.37810939,\n",
              "        1.15744496,  1.65846326,  1.42660321,  1.225269  ,  0.91396647,\n",
              "        1.06756471,  2.26059548,  1.0760428 ,  2.05238439,  1.6231587 ,\n",
              "        1.9566878 ,  1.805193  ,  1.6491129 ,  2.7956291 ,  1.94892019,\n",
              "        2.21225058,  2.39192633,  2.0435182 ,  2.62956402,  2.48640124,\n",
              "        2.62275497,  3.43416019,  2.40996712,  2.97825534,  3.01393362,\n",
              "        3.36272011,  3.12704374,  2.76905832,  3.20636914,  3.31795999,\n",
              "        4.5020844 ,  3.73122707,  4.47236511,  3.93041679,  3.8808429 ,\n",
              "        4.31979532])"
            ]
          },
          "metadata": {
            "tags": []
          },
          "execution_count": 124
        }
      ]
    },
    {
      "metadata": {
        "id": "K3TUYzOzI7yc",
        "colab_type": "code",
        "colab": {
          "base_uri": "https://localhost:8080/",
          "height": 364
        },
        "outputId": "7127bfc3-f186-4cde-b62f-96e16c6cb90a"
      },
      "cell_type": "code",
      "source": [
        "plt.scatter(train_data_X,train_data_Y,label='data',color=['red','green'])"
      ],
      "execution_count": 125,
      "outputs": [
        {
          "output_type": "execute_result",
          "data": {
            "text/plain": [
              "<matplotlib.collections.PathCollection at 0x7f64c5e65048>"
            ]
          },
          "metadata": {
            "tags": []
          },
          "execution_count": 125
        },
        {
          "output_type": "display_data",
          "data": {
            "image/png": "[encoded data removed]",
            "text/plain": [
              "<matplotlib.figure.Figure at 0x7f64c604aa90>"
            ]
          },
          "metadata": {
            "tags": []
          }
        }
      ]
    },
    {
      "metadata": {
        "id": "_4-E44TEI-As",
        "colab_type": "code",
        "colab": {
          "base_uri": "https://localhost:8080/",
          "height": 170
        },
        "outputId": "9638f48d-f2a0-4127-9aea-98d04d505f58"
      },
      "cell_type": "code",
      "source": [
        "model = Sequential()\n",
        "model.add(Dense(input_dim=1,name='Layer_1', units=1,kernel_initializer='uniform',activation='linear'))\n",
        "model.summary()"
      ],
      "execution_count": 126,
      "outputs": [
        {
          "output_type": "stream",
          "text": [
            "_________________________________________________________________\n",
            "Layer (type)                 Output Shape              Param #   \n",
            "=================================================================\n",
            "Layer_1 (Dense)              (None, 1)                 2         \n",
            "=================================================================\n",
            "Total params: 2\n",
            "Trainable params: 2\n",
            "Non-trainable params: 0\n",
            "_________________________________________________________________\n"
          ],
          "name": "stdout"
        }
      ]
    },
    {
      "metadata": {
        "id": "vqTDPK0qJbbD",
        "colab_type": "code",
        "colab": {
          "base_uri": "https://localhost:8080/",
          "height": 34
        },
        "outputId": "5ef7513b-a6df-4d3a-dfab-55187cb767af"
      },
      "cell_type": "code",
      "source": [
        "len(model.layers)"
      ],
      "execution_count": 127,
      "outputs": [
        {
          "output_type": "execute_result",
          "data": {
            "text/plain": [
              "1"
            ]
          },
          "metadata": {
            "tags": []
          },
          "execution_count": 127
        }
      ]
    },
    {
      "metadata": {
        "id": "GAI5KrLqJfSr",
        "colab_type": "code",
        "colab": {
          "base_uri": "https://localhost:8080/",
          "height": 34
        },
        "outputId": "0968df26-ddbc-4814-ce1d-2e4d6f91fe97"
      },
      "cell_type": "code",
      "source": [
        "weights = model.layers[0].get_weights()\n",
        "weights"
      ],
      "execution_count": 128,
      "outputs": [
        {
          "output_type": "execute_result",
          "data": {
            "text/plain": [
              "[array([[0.03085598]], dtype=float32), array([0.], dtype=float32)]"
            ]
          },
          "metadata": {
            "tags": []
          },
          "execution_count": 128
        }
      ]
    },
    {
      "metadata": {
        "id": "7MowSM70Jzk7",
        "colab_type": "code",
        "colab": {}
      },
      "cell_type": "code",
      "source": [
        "model.compile(optimizer='sgd',loss=keras.losses.mean_squared_error)"
      ],
      "execution_count": 0,
      "outputs": []
    },
    {
      "metadata": {
        "id": "RChjHN9BJ-zb",
        "colab_type": "code",
        "colab": {
          "base_uri": "https://localhost:8080/",
          "height": 3434
        },
        "outputId": "3c192f15-f6bf-4940-dcd4-d4a9cab16972"
      },
      "cell_type": "code",
      "source": [
        "model.fit(train_data_X,train_data_Y,epochs=100,verbose=1)"
      ],
      "execution_count": 130,
      "outputs": [
        {
          "output_type": "stream",
          "text": [
            "Epoch 1/100\n",
            "101/101 [==============================] - 0s 3ms/step - loss: 5.6228\n",
            "Epoch 2/100\n",
            "101/101 [==============================] - 0s 90us/step - loss: 5.3151\n",
            "Epoch 3/100\n",
            "101/101 [==============================] - 0s 76us/step - loss: 5.0680\n",
            "Epoch 4/100\n",
            "101/101 [==============================] - 0s 71us/step - loss: 4.8136\n",
            "Epoch 5/100\n",
            "101/101 [==============================] - 0s 71us/step - loss: 4.5848\n",
            "Epoch 6/100\n",
            "101/101 [==============================] - 0s 82us/step - loss: 4.3695\n",
            "Epoch 7/100\n",
            "101/101 [==============================] - 0s 95us/step - loss: 4.1563\n",
            "Epoch 8/100\n",
            "101/101 [==============================] - 0s 88us/step - loss: 3.9603\n",
            "Epoch 9/100\n",
            "101/101 [==============================] - 0s 91us/step - loss: 3.7530\n",
            "Epoch 10/100\n",
            "101/101 [==============================] - 0s 111us/step - loss: 3.5684\n",
            "Epoch 11/100\n",
            "101/101 [==============================] - 0s 124us/step - loss: 3.3967\n",
            "Epoch 12/100\n",
            "101/101 [==============================] - 0s 82us/step - loss: 3.2247\n",
            "Epoch 13/100\n",
            "101/101 [==============================] - 0s 90us/step - loss: 3.0685\n",
            "Epoch 14/100\n",
            "101/101 [==============================] - 0s 90us/step - loss: 2.9229\n",
            "Epoch 15/100\n",
            "101/101 [==============================] - 0s 90us/step - loss: 2.7696\n",
            "Epoch 16/100\n",
            "101/101 [==============================] - 0s 90us/step - loss: 2.6112\n",
            "Epoch 17/100\n",
            "101/101 [==============================] - 0s 95us/step - loss: 2.4866\n",
            "Epoch 18/100\n",
            "101/101 [==============================] - 0s 97us/step - loss: 2.3751\n",
            "Epoch 19/100\n",
            "101/101 [==============================] - 0s 121us/step - loss: 2.2695\n",
            "Epoch 20/100\n",
            "101/101 [==============================] - 0s 112us/step - loss: 2.1522\n",
            "Epoch 21/100\n",
            "101/101 [==============================] - 0s 101us/step - loss: 2.0468\n",
            "Epoch 22/100\n",
            "101/101 [==============================] - 0s 106us/step - loss: 1.9519\n",
            "Epoch 23/100\n",
            "101/101 [==============================] - 0s 107us/step - loss: 1.8624\n",
            "Epoch 24/100\n",
            "101/101 [==============================] - 0s 105us/step - loss: 1.7802\n",
            "Epoch 25/100\n",
            "101/101 [==============================] - 0s 91us/step - loss: 1.7028\n",
            "Epoch 26/100\n",
            "101/101 [==============================] - 0s 93us/step - loss: 1.6290\n",
            "Epoch 27/100\n",
            "101/101 [==============================] - 0s 79us/step - loss: 1.5504\n",
            "Epoch 28/100\n",
            "101/101 [==============================] - 0s 86us/step - loss: 1.4802\n",
            "Epoch 29/100\n",
            "101/101 [==============================] - 0s 107us/step - loss: 1.4194\n",
            "Epoch 30/100\n",
            "101/101 [==============================] - 0s 105us/step - loss: 1.3446\n",
            "Epoch 31/100\n",
            "101/101 [==============================] - 0s 132us/step - loss: 1.2775\n",
            "Epoch 32/100\n",
            "101/101 [==============================] - 0s 163us/step - loss: 1.2137\n",
            "Epoch 33/100\n",
            "101/101 [==============================] - 0s 173us/step - loss: 1.1617\n",
            "Epoch 34/100\n",
            "101/101 [==============================] - 0s 148us/step - loss: 1.1053\n",
            "Epoch 35/100\n",
            "101/101 [==============================] - 0s 128us/step - loss: 1.0550\n",
            "Epoch 36/100\n",
            "101/101 [==============================] - 0s 136us/step - loss: 1.0098\n",
            "Epoch 37/100\n",
            "101/101 [==============================] - 0s 147us/step - loss: 0.9631\n",
            "Epoch 38/100\n",
            "101/101 [==============================] - 0s 106us/step - loss: 0.9222\n",
            "Epoch 39/100\n",
            "101/101 [==============================] - 0s 113us/step - loss: 0.8878\n",
            "Epoch 40/100\n",
            "101/101 [==============================] - 0s 102us/step - loss: 0.8516\n",
            "Epoch 41/100\n",
            "101/101 [==============================] - 0s 134us/step - loss: 0.8174\n",
            "Epoch 42/100\n",
            "101/101 [==============================] - 0s 147us/step - loss: 0.7877\n",
            "Epoch 43/100\n",
            "101/101 [==============================] - 0s 134us/step - loss: 0.7571\n",
            "Epoch 44/100\n",
            "101/101 [==============================] - 0s 145us/step - loss: 0.7317\n",
            "Epoch 45/100\n",
            "101/101 [==============================] - 0s 142us/step - loss: 0.7057\n",
            "Epoch 46/100\n",
            "101/101 [==============================] - 0s 134us/step - loss: 0.6789\n",
            "Epoch 47/100\n",
            "101/101 [==============================] - 0s 114us/step - loss: 0.6501\n",
            "Epoch 48/100\n",
            "101/101 [==============================] - 0s 88us/step - loss: 0.6241\n",
            "Epoch 49/100\n",
            "101/101 [==============================] - 0s 82us/step - loss: 0.6029\n",
            "Epoch 50/100\n",
            "101/101 [==============================] - 0s 136us/step - loss: 0.5795\n",
            "Epoch 51/100\n",
            "101/101 [==============================] - 0s 109us/step - loss: 0.5576\n",
            "Epoch 52/100\n",
            "101/101 [==============================] - 0s 131us/step - loss: 0.5381\n",
            "Epoch 53/100\n",
            "101/101 [==============================] - 0s 135us/step - loss: 0.5193\n",
            "Epoch 54/100\n",
            "101/101 [==============================] - 0s 92us/step - loss: 0.5021\n",
            "Epoch 55/100\n",
            "101/101 [==============================] - 0s 106us/step - loss: 0.4828\n",
            "Epoch 56/100\n",
            "101/101 [==============================] - 0s 109us/step - loss: 0.4675\n",
            "Epoch 57/100\n",
            "101/101 [==============================] - 0s 107us/step - loss: 0.4539\n",
            "Epoch 58/100\n",
            "101/101 [==============================] - 0s 100us/step - loss: 0.4414\n",
            "Epoch 59/100\n",
            "101/101 [==============================] - 0s 121us/step - loss: 0.4282\n",
            "Epoch 60/100\n",
            "101/101 [==============================] - 0s 99us/step - loss: 0.4169\n",
            "Epoch 61/100\n",
            "101/101 [==============================] - 0s 78us/step - loss: 0.4025\n",
            "Epoch 62/100\n",
            "101/101 [==============================] - 0s 78us/step - loss: 0.3932\n",
            "Epoch 63/100\n",
            "101/101 [==============================] - 0s 95us/step - loss: 0.3826\n",
            "Epoch 64/100\n",
            "101/101 [==============================] - 0s 79us/step - loss: 0.3715\n",
            "Epoch 65/100\n",
            "101/101 [==============================] - 0s 107us/step - loss: 0.3609\n",
            "Epoch 66/100\n",
            "101/101 [==============================] - 0s 95us/step - loss: 0.3524\n",
            "Epoch 67/100\n",
            "101/101 [==============================] - 0s 104us/step - loss: 0.3435\n",
            "Epoch 68/100\n",
            "101/101 [==============================] - 0s 104us/step - loss: 0.3354\n",
            "Epoch 69/100\n",
            "101/101 [==============================] - 0s 155us/step - loss: 0.3277\n",
            "Epoch 70/100\n",
            "101/101 [==============================] - 0s 135us/step - loss: 0.3197\n",
            "Epoch 71/100\n",
            "101/101 [==============================] - 0s 118us/step - loss: 0.3130\n",
            "Epoch 72/100\n",
            "101/101 [==============================] - 0s 152us/step - loss: 0.3050\n",
            "Epoch 73/100\n",
            "101/101 [==============================] - 0s 116us/step - loss: 0.2981\n",
            "Epoch 74/100\n",
            "101/101 [==============================] - 0s 115us/step - loss: 0.2929\n",
            "Epoch 75/100\n",
            "101/101 [==============================] - 0s 104us/step - loss: 0.2875\n",
            "Epoch 76/100\n",
            "101/101 [==============================] - 0s 126us/step - loss: 0.2830\n",
            "Epoch 77/100\n",
            "101/101 [==============================] - 0s 136us/step - loss: 0.2775\n",
            "Epoch 78/100\n",
            "101/101 [==============================] - 0s 130us/step - loss: 0.2730\n",
            "Epoch 79/100\n",
            "101/101 [==============================] - 0s 121us/step - loss: 0.2686\n",
            "Epoch 80/100\n",
            "101/101 [==============================] - 0s 150us/step - loss: 0.2646\n",
            "Epoch 81/100\n",
            "101/101 [==============================] - 0s 114us/step - loss: 0.2612\n",
            "Epoch 82/100\n",
            "101/101 [==============================] - 0s 82us/step - loss: 0.2574\n",
            "Epoch 83/100\n",
            "101/101 [==============================] - 0s 76us/step - loss: 0.2534\n",
            "Epoch 84/100\n",
            "101/101 [==============================] - 0s 102us/step - loss: 0.2489\n",
            "Epoch 85/100\n",
            "101/101 [==============================] - 0s 102us/step - loss: 0.2460\n",
            "Epoch 86/100\n",
            "101/101 [==============================] - 0s 129us/step - loss: 0.2430\n",
            "Epoch 87/100\n",
            "101/101 [==============================] - 0s 97us/step - loss: 0.2395\n",
            "Epoch 88/100\n",
            "101/101 [==============================] - 0s 92us/step - loss: 0.2369\n",
            "Epoch 89/100\n",
            "101/101 [==============================] - 0s 120us/step - loss: 0.2343\n",
            "Epoch 90/100\n",
            "101/101 [==============================] - 0s 94us/step - loss: 0.2319\n",
            "Epoch 91/100\n",
            "101/101 [==============================] - 0s 82us/step - loss: 0.2297\n",
            "Epoch 92/100\n",
            "101/101 [==============================] - 0s 94us/step - loss: 0.2272\n",
            "Epoch 93/100\n",
            "101/101 [==============================] - 0s 86us/step - loss: 0.2245\n",
            "Epoch 94/100\n",
            "101/101 [==============================] - 0s 128us/step - loss: 0.2222\n",
            "Epoch 95/100\n",
            "101/101 [==============================] - 0s 126us/step - loss: 0.2205\n",
            "Epoch 96/100\n",
            "101/101 [==============================] - 0s 96us/step - loss: 0.2181\n",
            "Epoch 97/100\n",
            "101/101 [==============================] - 0s 112us/step - loss: 0.2161\n",
            "Epoch 98/100\n",
            "101/101 [==============================] - 0s 154us/step - loss: 0.2141\n",
            "Epoch 99/100\n",
            "101/101 [==============================] - 0s 127us/step - loss: 0.2128\n",
            "Epoch 100/100\n",
            "101/101 [==============================] - 0s 129us/step - loss: 0.2112\n"
          ],
          "name": "stdout"
        },
        {
          "output_type": "execute_result",
          "data": {
            "text/plain": [
              "<keras.callbacks.History at 0x7f64c5e656d8>"
            ]
          },
          "metadata": {
            "tags": []
          },
          "execution_count": 130
        }
      ]
    },
    {
      "metadata": {
        "id": "xs9XAjsqKZBT",
        "colab_type": "code",
        "colab": {}
      },
      "cell_type": "code",
      "source": [
        "result = model.predict(train_data_X)"
      ],
      "execution_count": 0,
      "outputs": []
    },
    {
      "metadata": {
        "id": "rE5FKHWDKjgs",
        "colab_type": "code",
        "colab": {
          "base_uri": "https://localhost:8080/",
          "height": 347
        },
        "outputId": "eb5185b0-ec02-4efe-f8e4-7173e2442573"
      },
      "cell_type": "code",
      "source": [
        "plt.scatter(train_data_X,train_data_Y,label='data',color=['red','green'])\n",
        "plt.plot(train_data_X,result,label='predictions')\n",
        "plt.legend()\n",
        "plt.show()"
      ],
      "execution_count": 132,
      "outputs": [
        {
          "output_type": "display_data",
          "data": {
            "image/png": "[encoded data removed]",
            "text/plain": [
              "<matplotlib.figure.Figure at 0x7f64c5c81dd8>"
            ]
          },
          "metadata": {
            "tags": []
          }
        }
      ]
    },
    {
      "metadata": {
        "id": "bFn-6IpiaAuy",
        "colab_type": "code",
        "colab": {
          "base_uri": "https://localhost:8080/",
          "height": 34
        },
        "outputId": "5b747065-dc53-4ed8-cf21-1bbd891ac99c"
      },
      "cell_type": "code",
      "source": [
        "weights = model.layers[0].get_weights()\n",
        "weights"
      ],
      "execution_count": 133,
      "outputs": [
        {
          "output_type": "execute_result",
          "data": {
            "text/plain": [
              "[array([[3.7853048]], dtype=float32), array([-0.03641593], dtype=float32)]"
            ]
          },
          "metadata": {
            "tags": []
          },
          "execution_count": 133
        }
      ]
    }
  ]
}