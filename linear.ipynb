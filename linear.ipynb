{
  "nbformat": 4,
  "nbformat_minor": 0,
  "metadata": {
    "colab": {
      "name": "linear.ipynb",
      "version": "0.3.2",
      "provenance": [],
      "collapsed_sections": [],
      "include_colab_link": true
    },
    "kernelspec": {
      "name": "python3",
      "display_name": "Python 3"
    }
  },
  "cells": [
    {
      "cell_type": "markdown",
      "metadata": {
        "id": "view-in-github",
        "colab_type": "text"
      },
      "source": [
        "[View in Colaboratory](https://colab.research.google.com/github/xarvel/DataScience/blob/master/linear.ipynb)"
      ]
    },
    {
      "metadata": {
        "id": "aNWLHDTkIBXU",
        "colab_type": "code",
        "colab": {}
      },
      "cell_type": "code",
      "source": [
        "import numpy as np\n",
        "import matplotlib.pyplot as plt"
      ],
      "execution_count": 0,
      "outputs": []
    },
    {
      "metadata": {
        "id": "CYtQdaiwI3jb",
        "colab_type": "code",
        "colab": {}
      },
      "cell_type": "code",
      "source": [
        "import keras\n",
        "from keras.models import Sequential\n",
        "from keras.layers import Dense"
      ],
      "execution_count": 0,
      "outputs": []
    },
    {
      "metadata": {
        "id": "pgHU8_d9I6a0",
        "colab_type": "code",
        "colab": {}
      },
      "cell_type": "code",
      "source": [
        "train_data_X = np.linspace(-1,1,101)\n",
        "train_data_Y = 4* train_data_X + np.random.randn(101) * 0.44\n"
      ],
      "execution_count": 0,
      "outputs": []
    },
    {
      "metadata": {
        "id": "9-4-1zGuL_-L",
        "colab_type": "code",
        "colab": {
          "base_uri": "https://localhost:8080/",
          "height": 221
        },
        "outputId": "803eca6a-5319-4745-fe62-f72f9fc43361"
      },
      "cell_type": "code",
      "source": [
        "train_data_X"
      ],
      "execution_count": 45,
      "outputs": [
        {
          "output_type": "execute_result",
          "data": {
            "text/plain": [
              "array([-1.  , -0.98, -0.96, -0.94, -0.92, -0.9 , -0.88, -0.86, -0.84,\n",
              "       -0.82, -0.8 , -0.78, -0.76, -0.74, -0.72, -0.7 , -0.68, -0.66,\n",
              "       -0.64, -0.62, -0.6 , -0.58, -0.56, -0.54, -0.52, -0.5 , -0.48,\n",
              "       -0.46, -0.44, -0.42, -0.4 , -0.38, -0.36, -0.34, -0.32, -0.3 ,\n",
              "       -0.28, -0.26, -0.24, -0.22, -0.2 , -0.18, -0.16, -0.14, -0.12,\n",
              "       -0.1 , -0.08, -0.06, -0.04, -0.02,  0.  ,  0.02,  0.04,  0.06,\n",
              "        0.08,  0.1 ,  0.12,  0.14,  0.16,  0.18,  0.2 ,  0.22,  0.24,\n",
              "        0.26,  0.28,  0.3 ,  0.32,  0.34,  0.36,  0.38,  0.4 ,  0.42,\n",
              "        0.44,  0.46,  0.48,  0.5 ,  0.52,  0.54,  0.56,  0.58,  0.6 ,\n",
              "        0.62,  0.64,  0.66,  0.68,  0.7 ,  0.72,  0.74,  0.76,  0.78,\n",
              "        0.8 ,  0.82,  0.84,  0.86,  0.88,  0.9 ,  0.92,  0.94,  0.96,\n",
              "        0.98,  1.  ])"
            ]
          },
          "metadata": {
            "tags": []
          },
          "execution_count": 45
        }
      ]
    },
    {
      "metadata": {
        "id": "HwYyT0QZMAz2",
        "colab_type": "code",
        "colab": {
          "base_uri": "https://localhost:8080/",
          "height": 374
        },
        "outputId": "3874a42a-964d-409d-d316-6784eb5dd7df"
      },
      "cell_type": "code",
      "source": [
        "train_data_Y"
      ],
      "execution_count": 46,
      "outputs": [
        {
          "output_type": "execute_result",
          "data": {
            "text/plain": [
              "array([-3.1553858 , -3.82906531, -4.30955616, -4.67677603, -4.19883006,\n",
              "       -2.81190225, -3.28279958, -2.37051449, -3.22425631, -3.43815479,\n",
              "       -2.99880939, -3.95301008, -3.00081873, -2.97643951, -2.99746656,\n",
              "       -2.95860579, -2.87740068, -2.77334955, -2.83247637, -2.21857314,\n",
              "       -1.95985025, -3.08216784, -2.00669276, -2.25038554, -2.99271383,\n",
              "       -1.79381453, -1.21660497, -2.30578153, -1.61617944, -1.3697557 ,\n",
              "       -1.83869314, -1.82077058, -1.98837829, -1.06689058, -1.68027421,\n",
              "       -1.38779661, -1.66999748, -1.18954035, -0.88212583, -0.94229045,\n",
              "       -0.41999093, -0.26755031, -0.45227418, -0.98919174, -0.31404367,\n",
              "       -0.61774305,  0.38469757, -0.61257159,  0.1835532 , -0.15080508,\n",
              "        0.43725673,  0.30806425,  0.18791155,  0.74930322,  0.64638352,\n",
              "        1.09059259,  0.84392959,  0.73592715,  0.18239455,  0.5173174 ,\n",
              "        0.51480423,  1.1328974 ,  0.81777178,  1.39184223,  1.76313432,\n",
              "        1.77978535,  0.97017654,  1.64640162,  1.65694569,  1.73140524,\n",
              "        1.72835852,  1.88246343,  1.9161428 ,  1.82648423,  2.05611086,\n",
              "        1.58693884,  2.02024224,  2.29272768,  2.06719306,  2.09994615,\n",
              "        1.78101717,  2.21513098,  3.30219091,  2.52760038,  2.64058225,\n",
              "        2.10581956,  2.35356809,  3.37079629,  2.62058142,  2.73720002,\n",
              "        2.9238339 ,  3.30771777,  2.89930127,  3.33959765,  3.64198187,\n",
              "        4.14717949,  3.46551559,  3.67261458,  3.927584  ,  4.35072045,\n",
              "        3.34846233])"
            ]
          },
          "metadata": {
            "tags": []
          },
          "execution_count": 46
        }
      ]
    },
    {
      "metadata": {
        "id": "K3TUYzOzI7yc",
        "colab_type": "code",
        "colab": {
          "base_uri": "https://localhost:8080/",
          "height": 364
        },
        "outputId": "706c7f47-19ee-4bde-feb9-2081b9030a07"
      },
      "cell_type": "code",
      "source": [
        "plt.scatter(train_data_X,train_data_Y,label='data',color=['red','green'])"
      ],
      "execution_count": 47,
      "outputs": [
        {
          "output_type": "execute_result",
          "data": {
            "text/plain": [
              "<matplotlib.collections.PathCollection at 0x7f64c700f6d8>"
            ]
          },
          "metadata": {
            "tags": []
          },
          "execution_count": 47
        },
        {
          "output_type": "display_data",
          "data": {
            "image/png": "[encoded data removed]",
            "text/plain": [
              "<matplotlib.figure.Figure at 0x7f64c70aec18>"
            ]
          },
          "metadata": {
            "tags": []
          }
        }
      ]
    },
    {
      "metadata": {
        "id": "_4-E44TEI-As",
        "colab_type": "code",
        "colab": {
          "base_uri": "https://localhost:8080/",
          "height": 224
        },
        "outputId": "f4f245da-b109-4c6b-e0d1-bff39d657ea8"
      },
      "cell_type": "code",
      "source": [
        "model = Sequential()\n",
        "model.add(Dense(input_dim=1,name='Layer_1', output_dim=1,init='uniform',activation='linear'))\n",
        "model.summary()"
      ],
      "execution_count": 48,
      "outputs": [
        {
          "output_type": "stream",
          "text": [
            "_________________________________________________________________\n",
            "Layer (type)                 Output Shape              Param #   \n",
            "=================================================================\n",
            "Layer_1 (Dense)              (None, 1)                 2         \n",
            "=================================================================\n",
            "Total params: 2\n",
            "Trainable params: 2\n",
            "Non-trainable params: 0\n",
            "_________________________________________________________________\n"
          ],
          "name": "stdout"
        },
        {
          "output_type": "stream",
          "text": [
            "/usr/local/lib/python3.6/dist-packages/ipykernel_launcher.py:2: UserWarning: Update your `Dense` call to the Keras 2 API: `Dense(input_dim=1, name=\"Layer_1\", activation=\"linear\", units=1, kernel_initializer=\"uniform\")`\n",
            "  \n"
          ],
          "name": "stderr"
        }
      ]
    },
    {
      "metadata": {
        "id": "vqTDPK0qJbbD",
        "colab_type": "code",
        "colab": {
          "base_uri": "https://localhost:8080/",
          "height": 34
        },
        "outputId": "5880363b-a45d-45d5-e476-9569545185dd"
      },
      "cell_type": "code",
      "source": [
        "len(model.layers)"
      ],
      "execution_count": 49,
      "outputs": [
        {
          "output_type": "execute_result",
          "data": {
            "text/plain": [
              "1"
            ]
          },
          "metadata": {
            "tags": []
          },
          "execution_count": 49
        }
      ]
    },
    {
      "metadata": {
        "id": "GAI5KrLqJfSr",
        "colab_type": "code",
        "colab": {
          "base_uri": "https://localhost:8080/",
          "height": 34
        },
        "outputId": "d23f3d4b-2de7-4b37-efb1-3a8146e6e8aa"
      },
      "cell_type": "code",
      "source": [
        "weights = model.layers[0].get_weights()\n",
        "weights"
      ],
      "execution_count": 50,
      "outputs": [
        {
          "output_type": "execute_result",
          "data": {
            "text/plain": [
              "[array([[0.0252684]], dtype=float32), array([0.], dtype=float32)]"
            ]
          },
          "metadata": {
            "tags": []
          },
          "execution_count": 50
        }
      ]
    },
    {
      "metadata": {
        "id": "7MowSM70Jzk7",
        "colab_type": "code",
        "colab": {}
      },
      "cell_type": "code",
      "source": [
        "model.compile(optimizer='sgd',loss='mse')"
      ],
      "execution_count": 0,
      "outputs": []
    },
    {
      "metadata": {
        "id": "RChjHN9BJ-zb",
        "colab_type": "code",
        "colab": {
          "base_uri": "https://localhost:8080/",
          "height": 6834
        },
        "outputId": "d3dfe790-0974-4311-d6cb-93d6da8f8900"
      },
      "cell_type": "code",
      "source": [
        "model.fit(train_data_X,train_data_Y,epochs=200,verbose=1)"
      ],
      "execution_count": 52,
      "outputs": [
        {
          "output_type": "stream",
          "text": [
            "Epoch 1/200\n",
            "101/101 [==============================] - 0s 718us/step - loss: 5.3980\n",
            "Epoch 2/200\n",
            "101/101 [==============================] - 0s 80us/step - loss: 5.1078\n",
            "Epoch 3/200\n",
            "101/101 [==============================] - 0s 73us/step - loss: 4.8610\n",
            "Epoch 4/200\n",
            "101/101 [==============================] - 0s 77us/step - loss: 4.5712\n",
            "Epoch 5/200\n",
            "101/101 [==============================] - 0s 92us/step - loss: 4.3313\n",
            "Epoch 6/200\n",
            "101/101 [==============================] - 0s 96us/step - loss: 4.0824\n",
            "Epoch 7/200\n",
            "101/101 [==============================] - 0s 84us/step - loss: 3.8393\n",
            "Epoch 8/200\n",
            "101/101 [==============================] - 0s 74us/step - loss: 3.6628\n",
            "Epoch 9/200\n",
            "101/101 [==============================] - 0s 84us/step - loss: 3.4968\n",
            "Epoch 10/200\n",
            "101/101 [==============================] - 0s 61us/step - loss: 3.3166\n",
            "Epoch 11/200\n",
            "101/101 [==============================] - 0s 84us/step - loss: 3.1470\n",
            "Epoch 12/200\n",
            "101/101 [==============================] - 0s 101us/step - loss: 2.9817\n",
            "Epoch 13/200\n",
            "101/101 [==============================] - 0s 108us/step - loss: 2.8238\n",
            "Epoch 14/200\n",
            "101/101 [==============================] - 0s 149us/step - loss: 2.6843\n",
            "Epoch 15/200\n",
            "101/101 [==============================] - 0s 90us/step - loss: 2.5484\n",
            "Epoch 16/200\n",
            "101/101 [==============================] - 0s 95us/step - loss: 2.4200\n",
            "Epoch 17/200\n",
            "101/101 [==============================] - 0s 98us/step - loss: 2.3074\n",
            "Epoch 18/200\n",
            "101/101 [==============================] - 0s 97us/step - loss: 2.1995\n",
            "Epoch 19/200\n",
            "101/101 [==============================] - 0s 75us/step - loss: 2.0927\n",
            "Epoch 20/200\n",
            "101/101 [==============================] - 0s 116us/step - loss: 1.9736\n",
            "Epoch 21/200\n",
            "101/101 [==============================] - 0s 141us/step - loss: 1.8839\n",
            "Epoch 22/200\n",
            "101/101 [==============================] - 0s 89us/step - loss: 1.7871\n",
            "Epoch 23/200\n",
            "101/101 [==============================] - 0s 106us/step - loss: 1.6751\n",
            "Epoch 24/200\n",
            "101/101 [==============================] - 0s 100us/step - loss: 1.6025\n",
            "Epoch 25/200\n",
            "101/101 [==============================] - 0s 92us/step - loss: 1.5311\n",
            "Epoch 26/200\n",
            "101/101 [==============================] - 0s 79us/step - loss: 1.4618\n",
            "Epoch 27/200\n",
            "101/101 [==============================] - 0s 136us/step - loss: 1.3836\n",
            "Epoch 28/200\n",
            "101/101 [==============================] - 0s 114us/step - loss: 1.3154\n",
            "Epoch 29/200\n",
            "101/101 [==============================] - 0s 107us/step - loss: 1.2599\n",
            "Epoch 30/200\n",
            "101/101 [==============================] - 0s 107us/step - loss: 1.2019\n",
            "Epoch 31/200\n",
            "101/101 [==============================] - 0s 112us/step - loss: 1.1561\n",
            "Epoch 32/200\n",
            "101/101 [==============================] - 0s 100us/step - loss: 1.1041\n",
            "Epoch 33/200\n",
            "101/101 [==============================] - 0s 104us/step - loss: 1.0488\n",
            "Epoch 34/200\n",
            "101/101 [==============================] - 0s 92us/step - loss: 1.0041\n",
            "Epoch 35/200\n",
            "101/101 [==============================] - 0s 111us/step - loss: 0.9642\n",
            "Epoch 36/200\n",
            "101/101 [==============================] - 0s 88us/step - loss: 0.9190\n",
            "Epoch 37/200\n",
            "101/101 [==============================] - 0s 99us/step - loss: 0.8802\n",
            "Epoch 38/200\n",
            "101/101 [==============================] - 0s 99us/step - loss: 0.8445\n",
            "Epoch 39/200\n",
            "101/101 [==============================] - 0s 95us/step - loss: 0.8114\n",
            "Epoch 40/200\n",
            "101/101 [==============================] - 0s 95us/step - loss: 0.7796\n",
            "Epoch 41/200\n",
            "101/101 [==============================] - 0s 91us/step - loss: 0.7456\n",
            "Epoch 42/200\n",
            "101/101 [==============================] - 0s 179us/step - loss: 0.7145\n",
            "Epoch 43/200\n",
            "101/101 [==============================] - 0s 103us/step - loss: 0.6875\n",
            "Epoch 44/200\n",
            "101/101 [==============================] - 0s 119us/step - loss: 0.6628\n",
            "Epoch 45/200\n",
            "101/101 [==============================] - 0s 96us/step - loss: 0.6377\n",
            "Epoch 46/200\n",
            "101/101 [==============================] - 0s 96us/step - loss: 0.6156\n",
            "Epoch 47/200\n",
            "101/101 [==============================] - 0s 92us/step - loss: 0.5891\n",
            "Epoch 48/200\n",
            "101/101 [==============================] - 0s 91us/step - loss: 0.5665\n",
            "Epoch 49/200\n",
            "101/101 [==============================] - 0s 108us/step - loss: 0.5443\n",
            "Epoch 50/200\n",
            "101/101 [==============================] - 0s 95us/step - loss: 0.5246\n",
            "Epoch 51/200\n",
            "101/101 [==============================] - 0s 105us/step - loss: 0.5075\n",
            "Epoch 52/200\n",
            "101/101 [==============================] - 0s 94us/step - loss: 0.4915\n",
            "Epoch 53/200\n",
            "101/101 [==============================] - 0s 90us/step - loss: 0.4730\n",
            "Epoch 54/200\n",
            "101/101 [==============================] - 0s 107us/step - loss: 0.4543\n",
            "Epoch 55/200\n",
            "101/101 [==============================] - 0s 133us/step - loss: 0.4368\n",
            "Epoch 56/200\n",
            "101/101 [==============================] - 0s 90us/step - loss: 0.4239\n",
            "Epoch 57/200\n",
            "101/101 [==============================] - 0s 78us/step - loss: 0.4123\n",
            "Epoch 58/200\n",
            "101/101 [==============================] - 0s 75us/step - loss: 0.3992\n",
            "Epoch 59/200\n",
            "101/101 [==============================] - 0s 105us/step - loss: 0.3873\n",
            "Epoch 60/200\n",
            "101/101 [==============================] - 0s 93us/step - loss: 0.3768\n",
            "Epoch 61/200\n",
            "101/101 [==============================] - 0s 90us/step - loss: 0.3637\n",
            "Epoch 62/200\n",
            "101/101 [==============================] - 0s 92us/step - loss: 0.3512\n",
            "Epoch 63/200\n",
            "101/101 [==============================] - 0s 87us/step - loss: 0.3414\n",
            "Epoch 64/200\n",
            "101/101 [==============================] - 0s 90us/step - loss: 0.3311\n",
            "Epoch 65/200\n",
            "101/101 [==============================] - 0s 93us/step - loss: 0.3228\n",
            "Epoch 66/200\n",
            "101/101 [==============================] - 0s 95us/step - loss: 0.3155\n",
            "Epoch 67/200\n",
            "101/101 [==============================] - 0s 81us/step - loss: 0.3076\n",
            "Epoch 68/200\n",
            "101/101 [==============================] - 0s 102us/step - loss: 0.2992\n",
            "Epoch 69/200\n",
            "101/101 [==============================] - 0s 79us/step - loss: 0.2925\n",
            "Epoch 70/200\n",
            "101/101 [==============================] - 0s 115us/step - loss: 0.2864\n",
            "Epoch 71/200\n",
            "101/101 [==============================] - 0s 98us/step - loss: 0.2813\n",
            "Epoch 72/200\n",
            "101/101 [==============================] - 0s 94us/step - loss: 0.2754\n",
            "Epoch 73/200\n",
            "101/101 [==============================] - 0s 98us/step - loss: 0.2703\n",
            "Epoch 74/200\n",
            "101/101 [==============================] - 0s 90us/step - loss: 0.2643\n",
            "Epoch 75/200\n",
            "101/101 [==============================] - 0s 92us/step - loss: 0.2589\n",
            "Epoch 76/200\n",
            "101/101 [==============================] - 0s 79us/step - loss: 0.2535\n",
            "Epoch 77/200\n",
            "101/101 [==============================] - 0s 109us/step - loss: 0.2495\n",
            "Epoch 78/200\n",
            "101/101 [==============================] - 0s 83us/step - loss: 0.2444\n",
            "Epoch 79/200\n",
            "101/101 [==============================] - 0s 90us/step - loss: 0.2398\n",
            "Epoch 80/200\n",
            "101/101 [==============================] - 0s 81us/step - loss: 0.2357\n",
            "Epoch 81/200\n",
            "101/101 [==============================] - 0s 88us/step - loss: 0.2317\n",
            "Epoch 82/200\n",
            "101/101 [==============================] - 0s 93us/step - loss: 0.2284\n",
            "Epoch 83/200\n",
            "101/101 [==============================] - 0s 87us/step - loss: 0.2253\n",
            "Epoch 84/200\n",
            "101/101 [==============================] - 0s 90us/step - loss: 0.2225\n",
            "Epoch 85/200\n",
            "101/101 [==============================] - 0s 85us/step - loss: 0.2195\n",
            "Epoch 86/200\n",
            "101/101 [==============================] - 0s 91us/step - loss: 0.2164\n",
            "Epoch 87/200\n",
            "101/101 [==============================] - 0s 84us/step - loss: 0.2140\n",
            "Epoch 88/200\n",
            "101/101 [==============================] - 0s 112us/step - loss: 0.2115\n",
            "Epoch 89/200\n",
            "101/101 [==============================] - 0s 110us/step - loss: 0.2087\n",
            "Epoch 90/200\n",
            "101/101 [==============================] - 0s 110us/step - loss: 0.2068\n",
            "Epoch 91/200\n",
            "101/101 [==============================] - 0s 103us/step - loss: 0.2043\n",
            "Epoch 92/200\n",
            "101/101 [==============================] - 0s 129us/step - loss: 0.2028\n",
            "Epoch 93/200\n",
            "101/101 [==============================] - 0s 114us/step - loss: 0.2000\n",
            "Epoch 94/200\n",
            "101/101 [==============================] - 0s 102us/step - loss: 0.1977\n",
            "Epoch 95/200\n",
            "101/101 [==============================] - 0s 104us/step - loss: 0.1961\n",
            "Epoch 96/200\n",
            "101/101 [==============================] - 0s 101us/step - loss: 0.1943\n",
            "Epoch 97/200\n",
            "101/101 [==============================] - 0s 115us/step - loss: 0.1924\n",
            "Epoch 98/200\n",
            "101/101 [==============================] - 0s 92us/step - loss: 0.1907\n",
            "Epoch 99/200\n",
            "101/101 [==============================] - 0s 82us/step - loss: 0.1895\n",
            "Epoch 100/200\n",
            "101/101 [==============================] - 0s 85us/step - loss: 0.1886\n",
            "Epoch 101/200\n",
            "101/101 [==============================] - 0s 75us/step - loss: 0.1873\n",
            "Epoch 102/200\n",
            "101/101 [==============================] - 0s 100us/step - loss: 0.1858\n",
            "Epoch 103/200\n",
            "101/101 [==============================] - 0s 95us/step - loss: 0.1848\n",
            "Epoch 104/200\n",
            "101/101 [==============================] - 0s 90us/step - loss: 0.1835\n",
            "Epoch 105/200\n",
            "101/101 [==============================] - 0s 76us/step - loss: 0.1833\n",
            "Epoch 106/200\n",
            "101/101 [==============================] - 0s 77us/step - loss: 0.1819\n",
            "Epoch 107/200\n",
            "101/101 [==============================] - 0s 102us/step - loss: 0.1806\n",
            "Epoch 108/200\n",
            "101/101 [==============================] - 0s 83us/step - loss: 0.1797\n",
            "Epoch 109/200\n",
            "101/101 [==============================] - 0s 85us/step - loss: 0.1789\n",
            "Epoch 110/200\n",
            "101/101 [==============================] - 0s 118us/step - loss: 0.1780\n",
            "Epoch 111/200\n",
            "101/101 [==============================] - 0s 82us/step - loss: 0.1773\n",
            "Epoch 112/200\n",
            "101/101 [==============================] - 0s 102us/step - loss: 0.1764\n",
            "Epoch 113/200\n",
            "101/101 [==============================] - 0s 91us/step - loss: 0.1758\n",
            "Epoch 114/200\n",
            "101/101 [==============================] - 0s 90us/step - loss: 0.1753\n",
            "Epoch 115/200\n",
            "101/101 [==============================] - 0s 158us/step - loss: 0.1751\n",
            "Epoch 116/200\n",
            "101/101 [==============================] - 0s 97us/step - loss: 0.1750\n",
            "Epoch 117/200\n",
            "101/101 [==============================] - 0s 91us/step - loss: 0.1737\n",
            "Epoch 118/200\n",
            "101/101 [==============================] - 0s 117us/step - loss: 0.1733\n",
            "Epoch 119/200\n",
            "101/101 [==============================] - 0s 106us/step - loss: 0.1728\n",
            "Epoch 120/200\n",
            "101/101 [==============================] - 0s 102us/step - loss: 0.1724\n",
            "Epoch 121/200\n",
            "101/101 [==============================] - 0s 77us/step - loss: 0.1723\n",
            "Epoch 122/200\n",
            "101/101 [==============================] - 0s 61us/step - loss: 0.1715\n",
            "Epoch 123/200\n",
            "101/101 [==============================] - 0s 73us/step - loss: 0.1713\n",
            "Epoch 124/200\n",
            "101/101 [==============================] - 0s 67us/step - loss: 0.1709\n",
            "Epoch 125/200\n",
            "101/101 [==============================] - 0s 84us/step - loss: 0.1709\n",
            "Epoch 126/200\n",
            "101/101 [==============================] - 0s 76us/step - loss: 0.1707\n",
            "Epoch 127/200\n",
            "101/101 [==============================] - 0s 71us/step - loss: 0.1703\n",
            "Epoch 128/200\n",
            "101/101 [==============================] - 0s 85us/step - loss: 0.1701\n",
            "Epoch 129/200\n",
            "101/101 [==============================] - 0s 76us/step - loss: 0.1701\n",
            "Epoch 130/200\n",
            "101/101 [==============================] - 0s 75us/step - loss: 0.1698\n",
            "Epoch 131/200\n",
            "101/101 [==============================] - 0s 79us/step - loss: 0.1694\n",
            "Epoch 132/200\n",
            "101/101 [==============================] - 0s 86us/step - loss: 0.1689\n",
            "Epoch 133/200\n",
            "101/101 [==============================] - 0s 68us/step - loss: 0.1688\n",
            "Epoch 134/200\n",
            "101/101 [==============================] - 0s 79us/step - loss: 0.1685\n",
            "Epoch 135/200\n",
            "101/101 [==============================] - 0s 82us/step - loss: 0.1682\n",
            "Epoch 136/200\n",
            "101/101 [==============================] - 0s 85us/step - loss: 0.1678\n",
            "Epoch 137/200\n",
            "101/101 [==============================] - 0s 79us/step - loss: 0.1677\n",
            "Epoch 138/200\n",
            "101/101 [==============================] - 0s 65us/step - loss: 0.1675\n",
            "Epoch 139/200\n",
            "101/101 [==============================] - 0s 68us/step - loss: 0.1674\n",
            "Epoch 140/200\n",
            "101/101 [==============================] - 0s 86us/step - loss: 0.1670\n",
            "Epoch 141/200\n",
            "101/101 [==============================] - 0s 134us/step - loss: 0.1670\n",
            "Epoch 142/200\n",
            "101/101 [==============================] - 0s 106us/step - loss: 0.1669\n",
            "Epoch 143/200\n",
            "101/101 [==============================] - 0s 86us/step - loss: 0.1669\n",
            "Epoch 144/200\n",
            "101/101 [==============================] - 0s 96us/step - loss: 0.1668\n",
            "Epoch 145/200\n",
            "101/101 [==============================] - 0s 103us/step - loss: 0.1669\n",
            "Epoch 146/200\n",
            "101/101 [==============================] - 0s 90us/step - loss: 0.1669\n",
            "Epoch 147/200\n",
            "101/101 [==============================] - 0s 85us/step - loss: 0.1668\n",
            "Epoch 148/200\n",
            "101/101 [==============================] - 0s 87us/step - loss: 0.1666\n",
            "Epoch 149/200\n",
            "101/101 [==============================] - 0s 89us/step - loss: 0.1667\n",
            "Epoch 150/200\n",
            "101/101 [==============================] - 0s 107us/step - loss: 0.1665\n",
            "Epoch 151/200\n",
            "101/101 [==============================] - 0s 81us/step - loss: 0.1665\n",
            "Epoch 152/200\n",
            "101/101 [==============================] - 0s 100us/step - loss: 0.1663\n",
            "Epoch 153/200\n",
            "101/101 [==============================] - 0s 98us/step - loss: 0.1662\n",
            "Epoch 154/200\n",
            "101/101 [==============================] - 0s 93us/step - loss: 0.1663\n",
            "Epoch 155/200\n",
            "101/101 [==============================] - 0s 96us/step - loss: 0.1662\n",
            "Epoch 156/200\n",
            "101/101 [==============================] - 0s 89us/step - loss: 0.1663\n",
            "Epoch 157/200\n",
            "101/101 [==============================] - 0s 86us/step - loss: 0.1660\n",
            "Epoch 158/200\n",
            "101/101 [==============================] - 0s 102us/step - loss: 0.1659\n",
            "Epoch 159/200\n",
            "101/101 [==============================] - 0s 100us/step - loss: 0.1657\n",
            "Epoch 160/200\n",
            "101/101 [==============================] - 0s 103us/step - loss: 0.1656\n",
            "Epoch 161/200\n",
            "101/101 [==============================] - 0s 99us/step - loss: 0.1655\n",
            "Epoch 162/200\n",
            "101/101 [==============================] - 0s 110us/step - loss: 0.1656\n",
            "Epoch 163/200\n",
            "101/101 [==============================] - 0s 101us/step - loss: 0.1655\n",
            "Epoch 164/200\n",
            "101/101 [==============================] - 0s 116us/step - loss: 0.1654\n",
            "Epoch 165/200\n",
            "101/101 [==============================] - 0s 125us/step - loss: 0.1653\n",
            "Epoch 166/200\n",
            "101/101 [==============================] - 0s 102us/step - loss: 0.1653\n",
            "Epoch 167/200\n",
            "101/101 [==============================] - 0s 141us/step - loss: 0.1653\n",
            "Epoch 168/200\n",
            "101/101 [==============================] - 0s 90us/step - loss: 0.1653\n",
            "Epoch 169/200\n",
            "101/101 [==============================] - 0s 100us/step - loss: 0.1653\n",
            "Epoch 170/200\n",
            "101/101 [==============================] - 0s 101us/step - loss: 0.1653\n",
            "Epoch 171/200\n",
            "101/101 [==============================] - 0s 150us/step - loss: 0.1654\n",
            "Epoch 172/200\n",
            "101/101 [==============================] - 0s 96us/step - loss: 0.1656\n",
            "Epoch 173/200\n",
            "101/101 [==============================] - 0s 100us/step - loss: 0.1657\n",
            "Epoch 174/200\n",
            "101/101 [==============================] - 0s 92us/step - loss: 0.1656\n",
            "Epoch 175/200\n",
            "101/101 [==============================] - 0s 109us/step - loss: 0.1653\n",
            "Epoch 176/200\n",
            "101/101 [==============================] - 0s 103us/step - loss: 0.1651\n",
            "Epoch 177/200\n",
            "101/101 [==============================] - 0s 75us/step - loss: 0.1650\n",
            "Epoch 178/200\n",
            "101/101 [==============================] - 0s 85us/step - loss: 0.1650\n",
            "Epoch 179/200\n",
            "101/101 [==============================] - 0s 73us/step - loss: 0.1649\n",
            "Epoch 180/200\n",
            "101/101 [==============================] - 0s 150us/step - loss: 0.1648\n",
            "Epoch 181/200\n",
            "101/101 [==============================] - 0s 116us/step - loss: 0.1649\n",
            "Epoch 182/200\n",
            "101/101 [==============================] - 0s 94us/step - loss: 0.1649\n",
            "Epoch 183/200\n",
            "101/101 [==============================] - 0s 162us/step - loss: 0.1647\n",
            "Epoch 184/200\n",
            "101/101 [==============================] - 0s 147us/step - loss: 0.1647\n",
            "Epoch 185/200\n",
            "101/101 [==============================] - 0s 115us/step - loss: 0.1649\n",
            "Epoch 186/200\n",
            "101/101 [==============================] - 0s 117us/step - loss: 0.1647\n",
            "Epoch 187/200\n",
            "101/101 [==============================] - 0s 117us/step - loss: 0.1647\n",
            "Epoch 188/200\n",
            "101/101 [==============================] - 0s 139us/step - loss: 0.1648\n",
            "Epoch 189/200\n",
            "101/101 [==============================] - 0s 138us/step - loss: 0.1647\n",
            "Epoch 190/200\n",
            "101/101 [==============================] - 0s 116us/step - loss: 0.1648\n",
            "Epoch 191/200\n",
            "101/101 [==============================] - 0s 160us/step - loss: 0.1647\n",
            "Epoch 192/200\n",
            "101/101 [==============================] - 0s 153us/step - loss: 0.1647\n",
            "Epoch 193/200\n",
            "101/101 [==============================] - 0s 144us/step - loss: 0.1648\n",
            "Epoch 194/200\n",
            "101/101 [==============================] - 0s 142us/step - loss: 0.1646\n",
            "Epoch 195/200\n",
            "101/101 [==============================] - 0s 155us/step - loss: 0.1646\n",
            "Epoch 196/200\n",
            "101/101 [==============================] - 0s 112us/step - loss: 0.1646\n",
            "Epoch 197/200\n",
            "101/101 [==============================] - 0s 117us/step - loss: 0.1647\n",
            "Epoch 198/200\n",
            "101/101 [==============================] - 0s 122us/step - loss: 0.1646\n",
            "Epoch 199/200\n",
            "101/101 [==============================] - 0s 146us/step - loss: 0.1647\n",
            "Epoch 200/200\n",
            "101/101 [==============================] - 0s 117us/step - loss: 0.1648\n"
          ],
          "name": "stdout"
        },
        {
          "output_type": "execute_result",
          "data": {
            "text/plain": [
              "<keras.callbacks.History at 0x7f64c70ae908>"
            ]
          },
          "metadata": {
            "tags": []
          },
          "execution_count": 52
        }
      ]
    },
    {
      "metadata": {
        "id": "xs9XAjsqKZBT",
        "colab_type": "code",
        "colab": {}
      },
      "cell_type": "code",
      "source": [
        "result = model.predict(train_data_X)"
      ],
      "execution_count": 0,
      "outputs": []
    },
    {
      "metadata": {
        "id": "rE5FKHWDKjgs",
        "colab_type": "code",
        "colab": {
          "base_uri": "https://localhost:8080/",
          "height": 347
        },
        "outputId": "07742135-d07d-4169-879b-64aa7e39b60e"
      },
      "cell_type": "code",
      "source": [
        "plt.scatter(train_data_X,train_data_Y,label='data',color=['red','green'])\n",
        "plt.plot(train_data_X,result,label='predictions')\n",
        "plt.legend()\n",
        "plt.show()"
      ],
      "execution_count": 54,
      "outputs": [
        {
          "output_type": "display_data",
          "data": {
            "image/png": "[encoded data removed]",
            "text/plain": [
              "<matplotlib.figure.Figure at 0x7f64c6e61400>"
            ]
          },
          "metadata": {
            "tags": []
          }
        }
      ]
    }
  ]
}