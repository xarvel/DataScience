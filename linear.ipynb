{
  "nbformat": 4,
  "nbformat_minor": 0,
  "metadata": {
    "colab": {
      "name": "linear.ipynb",
      "version": "0.3.2",
      "provenance": [],
      "collapsed_sections": [],
      "include_colab_link": true
    },
    "kernelspec": {
      "name": "python3",
      "display_name": "Python 3"
    }
  },
  "cells": [
    {
      "cell_type": "markdown",
      "metadata": {
        "id": "view-in-github",
        "colab_type": "text"
      },
      "source": [
        "[View in Colaboratory](https://colab.research.google.com/github/xarvel/DataScience/blob/master/linear.ipynb)"
      ]
    },
    {
      "metadata": {
        "id": "aNWLHDTkIBXU",
        "colab_type": "code",
        "colab": {}
      },
      "cell_type": "code",
      "source": [
        "import numpy as np\n",
        "import matplotlib.pyplot as plt"
      ],
      "execution_count": 0,
      "outputs": []
    },
    {
      "metadata": {
        "id": "CYtQdaiwI3jb",
        "colab_type": "code",
        "colab": {
          "base_uri": "https://localhost:8080/",
          "height": 129
        },
        "outputId": "7f8deccd-222e-4ec3-bb38-15d5f7b8bf58"
      },
      "cell_type": "code",
      "source": [
        "import keras\n",
        "from keras.models import Sequential\n",
        "from keras.layers import "
      ],
      "execution_count": 119,
      "outputs": [
        {
          "output_type": "error",
          "ename": "SyntaxError",
          "evalue": "ignored",
          "traceback": [
            "\u001b[0;36m  File \u001b[0;32m\"<ipython-input-119-d21636f51285>\"\u001b[0;36m, line \u001b[0;32m3\u001b[0m\n\u001b[0;31m    from keras.layers import\u001b[0m\n\u001b[0m                             ^\u001b[0m\n\u001b[0;31mSyntaxError\u001b[0m\u001b[0;31m:\u001b[0m invalid syntax\n"
          ]
        }
      ]
    },
    {
      "metadata": {
        "id": "pgHU8_d9I6a0",
        "colab_type": "code",
        "colab": {}
      },
      "cell_type": "code",
      "source": [
        "train_data_X = np.linspace(-1,1,101)\n",
        "train_data_Y = 4* train_data_X + np.random.randn(101) * 0.44\n"
      ],
      "execution_count": 0,
      "outputs": []
    },
    {
      "metadata": {
        "id": "9-4-1zGuL_-L",
        "colab_type": "code",
        "colab": {
          "base_uri": "https://localhost:8080/",
          "height": 221
        },
        "outputId": "26aca160-5b1f-41b4-d43e-97be65e9b6f6"
      },
      "cell_type": "code",
      "source": [
        "train_data_X"
      ],
      "execution_count": 105,
      "outputs": [
        {
          "output_type": "execute_result",
          "data": {
            "text/plain": [
              "array([-1.  , -0.98, -0.96, -0.94, -0.92, -0.9 , -0.88, -0.86, -0.84,\n",
              "       -0.82, -0.8 , -0.78, -0.76, -0.74, -0.72, -0.7 , -0.68, -0.66,\n",
              "       -0.64, -0.62, -0.6 , -0.58, -0.56, -0.54, -0.52, -0.5 , -0.48,\n",
              "       -0.46, -0.44, -0.42, -0.4 , -0.38, -0.36, -0.34, -0.32, -0.3 ,\n",
              "       -0.28, -0.26, -0.24, -0.22, -0.2 , -0.18, -0.16, -0.14, -0.12,\n",
              "       -0.1 , -0.08, -0.06, -0.04, -0.02,  0.  ,  0.02,  0.04,  0.06,\n",
              "        0.08,  0.1 ,  0.12,  0.14,  0.16,  0.18,  0.2 ,  0.22,  0.24,\n",
              "        0.26,  0.28,  0.3 ,  0.32,  0.34,  0.36,  0.38,  0.4 ,  0.42,\n",
              "        0.44,  0.46,  0.48,  0.5 ,  0.52,  0.54,  0.56,  0.58,  0.6 ,\n",
              "        0.62,  0.64,  0.66,  0.68,  0.7 ,  0.72,  0.74,  0.76,  0.78,\n",
              "        0.8 ,  0.82,  0.84,  0.86,  0.88,  0.9 ,  0.92,  0.94,  0.96,\n",
              "        0.98,  1.  ])"
            ]
          },
          "metadata": {
            "tags": []
          },
          "execution_count": 105
        }
      ]
    },
    {
      "metadata": {
        "id": "HwYyT0QZMAz2",
        "colab_type": "code",
        "colab": {
          "base_uri": "https://localhost:8080/",
          "height": 374
        },
        "outputId": "fb318ed1-9093-4dde-9321-42478a1e27a7"
      },
      "cell_type": "code",
      "source": [
        "train_data_Y"
      ],
      "execution_count": 106,
      "outputs": [
        {
          "output_type": "execute_result",
          "data": {
            "text/plain": [
              "array([-3.35124741, -4.38498809, -3.82937802, -3.71546061, -3.4510331 ,\n",
              "       -3.40902698, -3.95040165, -3.5786414 , -2.98424018, -3.27034932,\n",
              "       -2.66802504, -2.62767016, -3.37911333, -2.72115992, -3.23605336,\n",
              "       -3.01775393, -2.28129517, -3.20803383, -2.34911045, -2.45243056,\n",
              "       -2.42264598, -1.70549602, -2.27728292, -1.59387992, -2.09837116,\n",
              "       -1.89494841, -1.86875876, -1.71862539, -1.5098997 , -1.58698467,\n",
              "       -1.46775522, -1.40589451, -1.29805033, -1.36113512, -1.89535137,\n",
              "       -0.94099147, -0.99974248, -0.98181874, -0.25764056, -1.09041636,\n",
              "       -0.62882664, -0.08312015, -0.94707011, -0.67298642, -0.19535113,\n",
              "       -0.96970277,  0.72624624, -0.5915847 ,  0.31575284, -0.69478574,\n",
              "       -0.15569958,  0.22894027, -0.07522191, -0.51897481,  0.01192385,\n",
              "        0.91386697,  0.31044019,  0.90897561,  0.16943267,  0.60590784,\n",
              "        0.95148594,  1.07127307,  0.89782512,  1.00679314,  0.88827322,\n",
              "        1.76910439,  1.29938654,  1.23423493,  0.96253496,  1.90772963,\n",
              "        1.77500667,  1.64279352,  1.7342154 ,  1.55108723,  1.97513452,\n",
              "        2.38129801,  2.37075993,  2.69543728,  2.18312962,  1.5709449 ,\n",
              "        2.74077534,  1.70493269,  2.36886939,  3.0369467 ,  2.6236602 ,\n",
              "        2.95171217,  3.44920867,  2.83966811,  3.08875759,  2.62034363,\n",
              "        3.03047084,  2.63887892,  2.80821505,  3.23281238,  2.81339076,\n",
              "        2.79261328,  3.21288394,  4.16407381,  3.76009239,  4.61853675,\n",
              "        4.13493881])"
            ]
          },
          "metadata": {
            "tags": []
          },
          "execution_count": 106
        }
      ]
    },
    {
      "metadata": {
        "id": "K3TUYzOzI7yc",
        "colab_type": "code",
        "colab": {
          "base_uri": "https://localhost:8080/",
          "height": 364
        },
        "outputId": "4a6e50c1-de11-4483-e46f-3718a5ea9418"
      },
      "cell_type": "code",
      "source": [
        "plt.scatter(train_data_X,train_data_Y,label='data',color=['red','green'])"
      ],
      "execution_count": 107,
      "outputs": [
        {
          "output_type": "execute_result",
          "data": {
            "text/plain": [
              "<matplotlib.collections.PathCollection at 0x7f64c6046128>"
            ]
          },
          "metadata": {
            "tags": []
          },
          "execution_count": 107
        },
        {
          "output_type": "display_data",
          "data": {
            "image/png": "[encoded data removed]",
            "text/plain": [
              "<matplotlib.figure.Figure at 0x7f64c6ea6e80>"
            ]
          },
          "metadata": {
            "tags": []
          }
        }
      ]
    },
    {
      "metadata": {
        "id": "_4-E44TEI-As",
        "colab_type": "code",
        "colab": {
          "base_uri": "https://localhost:8080/",
          "height": 170
        },
        "outputId": "52f0f75a-a97e-46b6-9f59-e46990161bac"
      },
      "cell_type": "code",
      "source": [
        "model = Sequential()\n",
        "model.add(Dense(input_dim=1,name='Layer_1', units=1,kernel_initializer='uniform',activation='linear'))\n",
        "model.summary()"
      ],
      "execution_count": 108,
      "outputs": [
        {
          "output_type": "stream",
          "text": [
            "_________________________________________________________________\n",
            "Layer (type)                 Output Shape              Param #   \n",
            "=================================================================\n",
            "Layer_1 (Dense)              (None, 1)                 2         \n",
            "=================================================================\n",
            "Total params: 2\n",
            "Trainable params: 2\n",
            "Non-trainable params: 0\n",
            "_________________________________________________________________\n"
          ],
          "name": "stdout"
        }
      ]
    },
    {
      "metadata": {
        "id": "vqTDPK0qJbbD",
        "colab_type": "code",
        "colab": {
          "base_uri": "https://localhost:8080/",
          "height": 34
        },
        "outputId": "9f9e3d01-125e-4d69-9f19-35bb31bcdb7a"
      },
      "cell_type": "code",
      "source": [
        "len(model.layers)"
      ],
      "execution_count": 109,
      "outputs": [
        {
          "output_type": "execute_result",
          "data": {
            "text/plain": [
              "1"
            ]
          },
          "metadata": {
            "tags": []
          },
          "execution_count": 109
        }
      ]
    },
    {
      "metadata": {
        "id": "GAI5KrLqJfSr",
        "colab_type": "code",
        "colab": {
          "base_uri": "https://localhost:8080/",
          "height": 34
        },
        "outputId": "3bc4e9fe-600a-4a40-9cb1-a474d8a42e2a"
      },
      "cell_type": "code",
      "source": [
        "weights = model.layers[0].get_weights()\n",
        "weights"
      ],
      "execution_count": 110,
      "outputs": [
        {
          "output_type": "execute_result",
          "data": {
            "text/plain": [
              "[array([[-0.04871197]], dtype=float32), array([0.], dtype=float32)]"
            ]
          },
          "metadata": {
            "tags": []
          },
          "execution_count": 110
        }
      ]
    },
    {
      "metadata": {
        "id": "7MowSM70Jzk7",
        "colab_type": "code",
        "colab": {}
      },
      "cell_type": "code",
      "source": [
        "model.compile(optimizer='sgd',loss=keras.losses.mean_squared_error)"
      ],
      "execution_count": 0,
      "outputs": []
    },
    {
      "metadata": {
        "id": "RChjHN9BJ-zb",
        "colab_type": "code",
        "colab": {
          "base_uri": "https://localhost:8080/",
          "height": 6834
        },
        "outputId": "2d05ee11-91b3-430b-b60f-7f485c986190"
      },
      "cell_type": "code",
      "source": [
        "model.fit(train_data_X,train_data_Y,epochs=100,verbose=1)"
      ],
      "execution_count": 112,
      "outputs": [
        {
          "output_type": "stream",
          "text": [
            "Epoch 1/200\n",
            "101/101 [==============================] - 0s 2ms/step - loss: 5.3269\n",
            "Epoch 2/200\n",
            "101/101 [==============================] - 0s 87us/step - loss: 5.0595\n",
            "Epoch 3/200\n",
            "101/101 [==============================] - 0s 91us/step - loss: 4.7672\n",
            "Epoch 4/200\n",
            "101/101 [==============================] - 0s 94us/step - loss: 4.5033\n",
            "Epoch 5/200\n",
            "101/101 [==============================] - 0s 133us/step - loss: 4.2834\n",
            "Epoch 6/200\n",
            "101/101 [==============================] - 0s 113us/step - loss: 4.0331\n",
            "Epoch 7/200\n",
            "101/101 [==============================] - 0s 103us/step - loss: 3.8349\n",
            "Epoch 8/200\n",
            "101/101 [==============================] - 0s 142us/step - loss: 3.6396\n",
            "Epoch 9/200\n",
            "101/101 [==============================] - 0s 110us/step - loss: 3.4494\n",
            "Epoch 10/200\n",
            "101/101 [==============================] - 0s 104us/step - loss: 3.2981\n",
            "Epoch 11/200\n",
            "101/101 [==============================] - 0s 101us/step - loss: 3.1196\n",
            "Epoch 12/200\n",
            "101/101 [==============================] - 0s 98us/step - loss: 2.9634\n",
            "Epoch 13/200\n",
            "101/101 [==============================] - 0s 127us/step - loss: 2.8062\n",
            "Epoch 14/200\n",
            "101/101 [==============================] - 0s 123us/step - loss: 2.6821\n",
            "Epoch 15/200\n",
            "101/101 [==============================] - 0s 102us/step - loss: 2.5439\n",
            "Epoch 16/200\n",
            "101/101 [==============================] - 0s 106us/step - loss: 2.4221\n",
            "Epoch 17/200\n",
            "101/101 [==============================] - 0s 120us/step - loss: 2.2952\n",
            "Epoch 18/200\n",
            "101/101 [==============================] - 0s 123us/step - loss: 2.1741\n",
            "Epoch 19/200\n",
            "101/101 [==============================] - 0s 110us/step - loss: 2.0618\n",
            "Epoch 20/200\n",
            "101/101 [==============================] - 0s 115us/step - loss: 1.9669\n",
            "Epoch 21/200\n",
            "101/101 [==============================] - 0s 114us/step - loss: 1.8763\n",
            "Epoch 22/200\n",
            "101/101 [==============================] - 0s 91us/step - loss: 1.7794\n",
            "Epoch 23/200\n",
            "101/101 [==============================] - 0s 98us/step - loss: 1.6980\n",
            "Epoch 24/200\n",
            "101/101 [==============================] - 0s 92us/step - loss: 1.6163\n",
            "Epoch 25/200\n",
            "101/101 [==============================] - 0s 116us/step - loss: 1.5365\n",
            "Epoch 26/200\n",
            "101/101 [==============================] - 0s 203us/step - loss: 1.4622\n",
            "Epoch 27/200\n",
            "101/101 [==============================] - 0s 114us/step - loss: 1.3977\n",
            "Epoch 28/200\n",
            "101/101 [==============================] - 0s 117us/step - loss: 1.3228\n",
            "Epoch 29/200\n",
            "101/101 [==============================] - 0s 111us/step - loss: 1.2555\n",
            "Epoch 30/200\n",
            "101/101 [==============================] - 0s 102us/step - loss: 1.1989\n",
            "Epoch 31/200\n",
            "101/101 [==============================] - 0s 94us/step - loss: 1.1432\n",
            "Epoch 32/200\n",
            "101/101 [==============================] - 0s 110us/step - loss: 1.0892\n",
            "Epoch 33/200\n",
            "101/101 [==============================] - 0s 117us/step - loss: 1.0339\n",
            "Epoch 34/200\n",
            "101/101 [==============================] - 0s 123us/step - loss: 0.9916\n",
            "Epoch 35/200\n",
            "101/101 [==============================] - 0s 125us/step - loss: 0.9432\n",
            "Epoch 36/200\n",
            "101/101 [==============================] - 0s 114us/step - loss: 0.8972\n",
            "Epoch 37/200\n",
            "101/101 [==============================] - 0s 123us/step - loss: 0.8618\n",
            "Epoch 38/200\n",
            "101/101 [==============================] - 0s 123us/step - loss: 0.8243\n",
            "Epoch 39/200\n",
            "101/101 [==============================] - 0s 125us/step - loss: 0.7935\n",
            "Epoch 40/200\n",
            "101/101 [==============================] - 0s 110us/step - loss: 0.7593\n",
            "Epoch 41/200\n",
            "101/101 [==============================] - 0s 115us/step - loss: 0.7261\n",
            "Epoch 42/200\n",
            "101/101 [==============================] - 0s 167us/step - loss: 0.6950\n",
            "Epoch 43/200\n",
            "101/101 [==============================] - 0s 144us/step - loss: 0.6649\n",
            "Epoch 44/200\n",
            "101/101 [==============================] - 0s 73us/step - loss: 0.6409\n",
            "Epoch 45/200\n",
            "101/101 [==============================] - 0s 64us/step - loss: 0.6153\n",
            "Epoch 46/200\n",
            "101/101 [==============================] - 0s 120us/step - loss: 0.5902\n",
            "Epoch 47/200\n",
            "101/101 [==============================] - 0s 104us/step - loss: 0.5610\n",
            "Epoch 48/200\n",
            "101/101 [==============================] - 0s 117us/step - loss: 0.5345\n",
            "Epoch 49/200\n",
            "101/101 [==============================] - 0s 100us/step - loss: 0.5124\n",
            "Epoch 50/200\n",
            "101/101 [==============================] - 0s 125us/step - loss: 0.4924\n",
            "Epoch 51/200\n",
            "101/101 [==============================] - 0s 115us/step - loss: 0.4731\n",
            "Epoch 52/200\n",
            "101/101 [==============================] - 0s 147us/step - loss: 0.4539\n",
            "Epoch 53/200\n",
            "101/101 [==============================] - 0s 115us/step - loss: 0.4317\n",
            "Epoch 54/200\n",
            "101/101 [==============================] - 0s 89us/step - loss: 0.4147\n",
            "Epoch 55/200\n",
            "101/101 [==============================] - 0s 99us/step - loss: 0.3991\n",
            "Epoch 56/200\n",
            "101/101 [==============================] - 0s 91us/step - loss: 0.3850\n",
            "Epoch 57/200\n",
            "101/101 [==============================] - 0s 62us/step - loss: 0.3717\n",
            "Epoch 58/200\n",
            "101/101 [==============================] - 0s 70us/step - loss: 0.3590\n",
            "Epoch 59/200\n",
            "101/101 [==============================] - 0s 63us/step - loss: 0.3471\n",
            "Epoch 60/200\n",
            "101/101 [==============================] - 0s 110us/step - loss: 0.3343\n",
            "Epoch 61/200\n",
            "101/101 [==============================] - 0s 173us/step - loss: 0.3235\n",
            "Epoch 62/200\n",
            "101/101 [==============================] - 0s 160us/step - loss: 0.3143\n",
            "Epoch 63/200\n",
            "101/101 [==============================] - 0s 144us/step - loss: 0.3042\n",
            "Epoch 64/200\n",
            "101/101 [==============================] - 0s 132us/step - loss: 0.2945\n",
            "Epoch 65/200\n",
            "101/101 [==============================] - 0s 108us/step - loss: 0.2875\n",
            "Epoch 66/200\n",
            "101/101 [==============================] - 0s 98us/step - loss: 0.2797\n",
            "Epoch 67/200\n",
            "101/101 [==============================] - 0s 96us/step - loss: 0.2718\n",
            "Epoch 68/200\n",
            "101/101 [==============================] - 0s 161us/step - loss: 0.2650\n",
            "Epoch 69/200\n",
            "101/101 [==============================] - 0s 145us/step - loss: 0.2591\n",
            "Epoch 70/200\n",
            "101/101 [==============================] - 0s 107us/step - loss: 0.2521\n",
            "Epoch 71/200\n",
            "101/101 [==============================] - 0s 149us/step - loss: 0.2469\n",
            "Epoch 72/200\n",
            "101/101 [==============================] - 0s 102us/step - loss: 0.2423\n",
            "Epoch 73/200\n",
            "101/101 [==============================] - 0s 89us/step - loss: 0.2362\n",
            "Epoch 74/200\n",
            "101/101 [==============================] - 0s 107us/step - loss: 0.2317\n",
            "Epoch 75/200\n",
            "101/101 [==============================] - 0s 101us/step - loss: 0.2276\n",
            "Epoch 76/200\n",
            "101/101 [==============================] - 0s 146us/step - loss: 0.2242\n",
            "Epoch 77/200\n",
            "101/101 [==============================] - 0s 116us/step - loss: 0.2206\n",
            "Epoch 78/200\n",
            "101/101 [==============================] - 0s 136us/step - loss: 0.2168\n",
            "Epoch 79/200\n",
            "101/101 [==============================] - 0s 108us/step - loss: 0.2125\n",
            "Epoch 80/200\n",
            "101/101 [==============================] - 0s 109us/step - loss: 0.2089\n",
            "Epoch 81/200\n",
            "101/101 [==============================] - 0s 150us/step - loss: 0.2061\n",
            "Epoch 82/200\n",
            "101/101 [==============================] - 0s 106us/step - loss: 0.2033\n",
            "Epoch 83/200\n",
            "101/101 [==============================] - 0s 102us/step - loss: 0.1999\n",
            "Epoch 84/200\n",
            "101/101 [==============================] - 0s 116us/step - loss: 0.1966\n",
            "Epoch 85/200\n",
            "101/101 [==============================] - 0s 108us/step - loss: 0.1932\n",
            "Epoch 86/200\n",
            "101/101 [==============================] - 0s 103us/step - loss: 0.1905\n",
            "Epoch 87/200\n",
            "101/101 [==============================] - 0s 85us/step - loss: 0.1881\n",
            "Epoch 88/200\n",
            "101/101 [==============================] - 0s 82us/step - loss: 0.1855\n",
            "Epoch 89/200\n",
            "101/101 [==============================] - 0s 123us/step - loss: 0.1840\n",
            "Epoch 90/200\n",
            "101/101 [==============================] - 0s 139us/step - loss: 0.1816\n",
            "Epoch 91/200\n",
            "101/101 [==============================] - 0s 124us/step - loss: 0.1790\n",
            "Epoch 92/200\n",
            "101/101 [==============================] - 0s 109us/step - loss: 0.1764\n",
            "Epoch 93/200\n",
            "101/101 [==============================] - 0s 155us/step - loss: 0.1747\n",
            "Epoch 94/200\n",
            "101/101 [==============================] - 0s 134us/step - loss: 0.1731\n",
            "Epoch 95/200\n",
            "101/101 [==============================] - 0s 134us/step - loss: 0.1710\n",
            "Epoch 96/200\n",
            "101/101 [==============================] - 0s 94us/step - loss: 0.1700\n",
            "Epoch 97/200\n",
            "101/101 [==============================] - 0s 107us/step - loss: 0.1690\n",
            "Epoch 98/200\n",
            "101/101 [==============================] - 0s 102us/step - loss: 0.1672\n",
            "Epoch 99/200\n",
            "101/101 [==============================] - 0s 98us/step - loss: 0.1658\n",
            "Epoch 100/200\n",
            "101/101 [==============================] - 0s 124us/step - loss: 0.1645\n",
            "Epoch 101/200\n",
            "101/101 [==============================] - 0s 100us/step - loss: 0.1635\n",
            "Epoch 102/200\n",
            "101/101 [==============================] - 0s 96us/step - loss: 0.1622\n",
            "Epoch 103/200\n",
            "101/101 [==============================] - 0s 92us/step - loss: 0.1614\n",
            "Epoch 104/200\n",
            "101/101 [==============================] - 0s 90us/step - loss: 0.1607\n",
            "Epoch 105/200\n",
            "101/101 [==============================] - 0s 121us/step - loss: 0.1603\n",
            "Epoch 106/200\n",
            "101/101 [==============================] - 0s 121us/step - loss: 0.1593\n",
            "Epoch 107/200\n",
            "101/101 [==============================] - 0s 109us/step - loss: 0.1586\n",
            "Epoch 108/200\n",
            "101/101 [==============================] - 0s 103us/step - loss: 0.1578\n",
            "Epoch 109/200\n",
            "101/101 [==============================] - 0s 99us/step - loss: 0.1570\n",
            "Epoch 110/200\n",
            "101/101 [==============================] - 0s 121us/step - loss: 0.1566\n",
            "Epoch 111/200\n",
            "101/101 [==============================] - 0s 99us/step - loss: 0.1555\n",
            "Epoch 112/200\n",
            "101/101 [==============================] - 0s 96us/step - loss: 0.1551\n",
            "Epoch 113/200\n",
            "101/101 [==============================] - 0s 111us/step - loss: 0.1547\n",
            "Epoch 114/200\n",
            "101/101 [==============================] - 0s 105us/step - loss: 0.1542\n",
            "Epoch 115/200\n",
            "101/101 [==============================] - 0s 111us/step - loss: 0.1539\n",
            "Epoch 116/200\n",
            "101/101 [==============================] - 0s 114us/step - loss: 0.1527\n",
            "Epoch 117/200\n",
            "101/101 [==============================] - 0s 90us/step - loss: 0.1526\n",
            "Epoch 118/200\n",
            "101/101 [==============================] - 0s 96us/step - loss: 0.1520\n",
            "Epoch 119/200\n",
            "101/101 [==============================] - 0s 99us/step - loss: 0.1516\n",
            "Epoch 120/200\n",
            "101/101 [==============================] - 0s 136us/step - loss: 0.1513\n",
            "Epoch 121/200\n",
            "101/101 [==============================] - 0s 119us/step - loss: 0.1510\n",
            "Epoch 122/200\n",
            "101/101 [==============================] - 0s 92us/step - loss: 0.1505\n",
            "Epoch 123/200\n",
            "101/101 [==============================] - 0s 103us/step - loss: 0.1505\n",
            "Epoch 124/200\n",
            "101/101 [==============================] - 0s 111us/step - loss: 0.1502\n",
            "Epoch 125/200\n",
            "101/101 [==============================] - 0s 140us/step - loss: 0.1500\n",
            "Epoch 126/200\n",
            "101/101 [==============================] - 0s 116us/step - loss: 0.1497\n",
            "Epoch 127/200\n",
            "101/101 [==============================] - 0s 102us/step - loss: 0.1492\n",
            "Epoch 128/200\n",
            "101/101 [==============================] - 0s 91us/step - loss: 0.1492\n",
            "Epoch 129/200\n",
            "101/101 [==============================] - 0s 117us/step - loss: 0.1488\n",
            "Epoch 130/200\n",
            "101/101 [==============================] - 0s 125us/step - loss: 0.1486\n",
            "Epoch 131/200\n",
            "101/101 [==============================] - 0s 111us/step - loss: 0.1484\n",
            "Epoch 132/200\n",
            "101/101 [==============================] - 0s 131us/step - loss: 0.1483\n",
            "Epoch 133/200\n",
            "101/101 [==============================] - 0s 166us/step - loss: 0.1483\n",
            "Epoch 134/200\n",
            "101/101 [==============================] - 0s 166us/step - loss: 0.1478\n",
            "Epoch 135/200\n",
            "101/101 [==============================] - 0s 143us/step - loss: 0.1478\n",
            "Epoch 136/200\n",
            "101/101 [==============================] - 0s 107us/step - loss: 0.1475\n",
            "Epoch 137/200\n",
            "101/101 [==============================] - 0s 121us/step - loss: 0.1472\n",
            "Epoch 138/200\n",
            "101/101 [==============================] - 0s 117us/step - loss: 0.1471\n",
            "Epoch 139/200\n",
            "101/101 [==============================] - 0s 154us/step - loss: 0.1469\n",
            "Epoch 140/200\n",
            "101/101 [==============================] - 0s 108us/step - loss: 0.1468\n",
            "Epoch 141/200\n",
            "101/101 [==============================] - 0s 140us/step - loss: 0.1466\n",
            "Epoch 142/200\n",
            "101/101 [==============================] - 0s 170us/step - loss: 0.1465\n",
            "Epoch 143/200\n",
            "101/101 [==============================] - 0s 128us/step - loss: 0.1463\n",
            "Epoch 144/200\n",
            "101/101 [==============================] - 0s 115us/step - loss: 0.1460\n",
            "Epoch 145/200\n",
            "101/101 [==============================] - 0s 130us/step - loss: 0.1459\n",
            "Epoch 146/200\n",
            "101/101 [==============================] - 0s 133us/step - loss: 0.1458\n",
            "Epoch 147/200\n",
            "101/101 [==============================] - 0s 112us/step - loss: 0.1458\n",
            "Epoch 148/200\n",
            "101/101 [==============================] - 0s 151us/step - loss: 0.1456\n",
            "Epoch 149/200\n",
            "101/101 [==============================] - 0s 97us/step - loss: 0.1458\n",
            "Epoch 150/200\n",
            "101/101 [==============================] - 0s 89us/step - loss: 0.1456\n",
            "Epoch 151/200\n",
            "101/101 [==============================] - 0s 131us/step - loss: 0.1455\n",
            "Epoch 152/200\n",
            "101/101 [==============================] - 0s 153us/step - loss: 0.1454\n",
            "Epoch 153/200\n",
            "101/101 [==============================] - 0s 111us/step - loss: 0.1451\n",
            "Epoch 154/200\n",
            "101/101 [==============================] - 0s 87us/step - loss: 0.1451\n",
            "Epoch 155/200\n",
            "101/101 [==============================] - 0s 75us/step - loss: 0.1447\n",
            "Epoch 156/200\n",
            "101/101 [==============================] - 0s 114us/step - loss: 0.1447\n",
            "Epoch 157/200\n",
            "101/101 [==============================] - 0s 110us/step - loss: 0.1448\n",
            "Epoch 158/200\n",
            "101/101 [==============================] - 0s 101us/step - loss: 0.1447\n",
            "Epoch 159/200\n",
            "101/101 [==============================] - 0s 107us/step - loss: 0.1445\n",
            "Epoch 160/200\n",
            "101/101 [==============================] - 0s 97us/step - loss: 0.1445\n",
            "Epoch 161/200\n",
            "101/101 [==============================] - 0s 107us/step - loss: 0.1444\n",
            "Epoch 162/200\n",
            "101/101 [==============================] - 0s 115us/step - loss: 0.1446\n",
            "Epoch 163/200\n",
            "101/101 [==============================] - 0s 134us/step - loss: 0.1444\n",
            "Epoch 164/200\n",
            "101/101 [==============================] - 0s 95us/step - loss: 0.1444\n",
            "Epoch 165/200\n",
            "101/101 [==============================] - 0s 116us/step - loss: 0.1443\n",
            "Epoch 166/200\n",
            "101/101 [==============================] - 0s 129us/step - loss: 0.1442\n",
            "Epoch 167/200\n",
            "101/101 [==============================] - 0s 134us/step - loss: 0.1442\n",
            "Epoch 168/200\n",
            "101/101 [==============================] - 0s 118us/step - loss: 0.1442\n",
            "Epoch 169/200\n",
            "101/101 [==============================] - 0s 142us/step - loss: 0.1440\n",
            "Epoch 170/200\n",
            "101/101 [==============================] - 0s 100us/step - loss: 0.1443\n",
            "Epoch 171/200\n",
            "101/101 [==============================] - 0s 149us/step - loss: 0.1439\n",
            "Epoch 172/200\n",
            "101/101 [==============================] - 0s 129us/step - loss: 0.1440\n",
            "Epoch 173/200\n",
            "101/101 [==============================] - 0s 169us/step - loss: 0.1440\n",
            "Epoch 174/200\n",
            "101/101 [==============================] - 0s 116us/step - loss: 0.1441\n",
            "Epoch 175/200\n",
            "101/101 [==============================] - 0s 127us/step - loss: 0.1439\n",
            "Epoch 176/200\n",
            "101/101 [==============================] - 0s 121us/step - loss: 0.1440\n",
            "Epoch 177/200\n",
            "101/101 [==============================] - 0s 123us/step - loss: 0.1441\n",
            "Epoch 178/200\n",
            "101/101 [==============================] - 0s 150us/step - loss: 0.1440\n",
            "Epoch 179/200\n",
            "101/101 [==============================] - 0s 154us/step - loss: 0.1438\n",
            "Epoch 180/200\n",
            "101/101 [==============================] - 0s 83us/step - loss: 0.1438\n",
            "Epoch 181/200\n",
            "101/101 [==============================] - 0s 186us/step - loss: 0.1438\n",
            "Epoch 182/200\n",
            "101/101 [==============================] - 0s 137us/step - loss: 0.1436\n",
            "Epoch 183/200\n",
            "101/101 [==============================] - 0s 99us/step - loss: 0.1437\n",
            "Epoch 184/200\n",
            "101/101 [==============================] - 0s 87us/step - loss: 0.1438\n",
            "Epoch 185/200\n",
            "101/101 [==============================] - 0s 130us/step - loss: 0.1436\n",
            "Epoch 186/200\n",
            "101/101 [==============================] - 0s 121us/step - loss: 0.1437\n",
            "Epoch 187/200\n",
            "101/101 [==============================] - 0s 126us/step - loss: 0.1437\n",
            "Epoch 188/200\n",
            "101/101 [==============================] - 0s 96us/step - loss: 0.1438\n",
            "Epoch 189/200\n",
            "101/101 [==============================] - 0s 112us/step - loss: 0.1439\n",
            "Epoch 190/200\n",
            "101/101 [==============================] - 0s 151us/step - loss: 0.1437\n",
            "Epoch 191/200\n",
            "101/101 [==============================] - 0s 166us/step - loss: 0.1437\n",
            "Epoch 192/200\n",
            "101/101 [==============================] - 0s 117us/step - loss: 0.1437\n",
            "Epoch 193/200\n",
            "101/101 [==============================] - 0s 146us/step - loss: 0.1437\n",
            "Epoch 194/200\n",
            "101/101 [==============================] - 0s 127us/step - loss: 0.1437\n",
            "Epoch 195/200\n",
            "101/101 [==============================] - 0s 98us/step - loss: 0.1436\n",
            "Epoch 196/200\n",
            "101/101 [==============================] - 0s 95us/step - loss: 0.1437\n",
            "Epoch 197/200\n",
            "101/101 [==============================] - 0s 131us/step - loss: 0.1437\n",
            "Epoch 198/200\n",
            "101/101 [==============================] - 0s 122us/step - loss: 0.1437\n",
            "Epoch 199/200\n",
            "101/101 [==============================] - 0s 107us/step - loss: 0.1439\n",
            "Epoch 200/200\n",
            "101/101 [==============================] - 0s 130us/step - loss: 0.1439\n"
          ],
          "name": "stdout"
        },
        {
          "output_type": "execute_result",
          "data": {
            "text/plain": [
              "<keras.callbacks.History at 0x7f64c705b048>"
            ]
          },
          "metadata": {
            "tags": []
          },
          "execution_count": 112
        }
      ]
    },
    {
      "metadata": {
        "id": "xs9XAjsqKZBT",
        "colab_type": "code",
        "colab": {}
      },
      "cell_type": "code",
      "source": [
        "result = model.predict(train_data_X)"
      ],
      "execution_count": 0,
      "outputs": []
    },
    {
      "metadata": {
        "id": "rE5FKHWDKjgs",
        "colab_type": "code",
        "colab": {
          "base_uri": "https://localhost:8080/",
          "height": 347
        },
        "outputId": "d914f42b-f266-49db-b9fc-b8c53f77db03"
      },
      "cell_type": "code",
      "source": [
        "plt.scatter(train_data_X,train_data_Y,label='data',color=['red','green'])\n",
        "plt.plot(train_data_X,result,label='predictions')\n",
        "plt.legend()\n",
        "plt.show()"
      ],
      "execution_count": 114,
      "outputs": [
        {
          "output_type": "display_data",
          "data": {
            "image/png": "[encoded data removed]",
            "text/plain": [
              "<matplotlib.figure.Figure at 0x7f64c5f3d240>"
            ]
          },
          "metadata": {
            "tags": []
          }
        }
      ]
    },
    {
      "metadata": {
        "id": "bFn-6IpiaAuy",
        "colab_type": "code",
        "colab": {
          "base_uri": "https://localhost:8080/",
          "height": 34
        },
        "outputId": "7dcb98cf-647d-47b6-c0fd-9b592eaa13bf"
      },
      "cell_type": "code",
      "source": [
        "weights = model.layers[0].get_weights()\n",
        "weights"
      ],
      "execution_count": 115,
      "outputs": [
        {
          "output_type": "execute_result",
          "data": {
            "text/plain": [
              "[array([[3.8521278]], dtype=float32), array([0.02789648], dtype=float32)]"
            ]
          },
          "metadata": {
            "tags": []
          },
          "execution_count": 115
        }
      ]
    }
  ]
}